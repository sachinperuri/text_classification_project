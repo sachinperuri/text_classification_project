{
  "nbformat": 4,
  "nbformat_minor": 0,
  "metadata": {
    "colab": {
      "name": "Sarcastic News DL.ipynb",
      "provenance": [],
      "collapsed_sections": []
    },
    "kernelspec": {
      "name": "python3",
      "display_name": "Python 3"
    },
    "language_info": {
      "name": "python"
    },
    "accelerator": "GPU",
    "widgets": {
      "application/vnd.jupyter.widget-state+json": {
        "1459442e98f14368a70d82768fa05a28": {
          "model_module": "@jupyter-widgets/controls",
          "model_name": "HBoxModel",
          "model_module_version": "1.5.0",
          "state": {
            "_view_name": "HBoxView",
            "_dom_classes": [],
            "_model_name": "HBoxModel",
            "_view_module": "@jupyter-widgets/controls",
            "_model_module_version": "1.5.0",
            "_view_count": null,
            "_view_module_version": "1.5.0",
            "box_style": "",
            "layout": "IPY_MODEL_e8073d9df0ea4fb79a305572f57114dd",
            "_model_module": "@jupyter-widgets/controls",
            "children": [
              "IPY_MODEL_dc999009fc75419096698b1900b94247",
              "IPY_MODEL_82959aa1b6e646598ce9691a6035fcbc",
              "IPY_MODEL_078959fcfa4549b5b090b2613e8755d3"
            ]
          }
        },
        "e8073d9df0ea4fb79a305572f57114dd": {
          "model_module": "@jupyter-widgets/base",
          "model_name": "LayoutModel",
          "model_module_version": "1.2.0",
          "state": {
            "_view_name": "LayoutView",
            "grid_template_rows": null,
            "right": null,
            "justify_content": null,
            "_view_module": "@jupyter-widgets/base",
            "overflow": null,
            "_model_module_version": "1.2.0",
            "_view_count": null,
            "flex_flow": null,
            "width": null,
            "min_width": null,
            "border": null,
            "align_items": null,
            "bottom": null,
            "_model_module": "@jupyter-widgets/base",
            "top": null,
            "grid_column": null,
            "overflow_y": null,
            "overflow_x": null,
            "grid_auto_flow": null,
            "grid_area": null,
            "grid_template_columns": null,
            "flex": null,
            "_model_name": "LayoutModel",
            "justify_items": null,
            "grid_row": null,
            "max_height": null,
            "align_content": null,
            "visibility": null,
            "align_self": null,
            "height": null,
            "min_height": null,
            "padding": null,
            "grid_auto_rows": null,
            "grid_gap": null,
            "max_width": null,
            "order": null,
            "_view_module_version": "1.2.0",
            "grid_template_areas": null,
            "object_position": null,
            "object_fit": null,
            "grid_auto_columns": null,
            "margin": null,
            "display": null,
            "left": null
          }
        },
        "dc999009fc75419096698b1900b94247": {
          "model_module": "@jupyter-widgets/controls",
          "model_name": "HTMLModel",
          "model_module_version": "1.5.0",
          "state": {
            "_view_name": "HTMLView",
            "style": "IPY_MODEL_c3db5b302c3c4e8ab64002f03c0a817d",
            "_dom_classes": [],
            "description": "",
            "_model_name": "HTMLModel",
            "placeholder": "​",
            "_view_module": "@jupyter-widgets/controls",
            "_model_module_version": "1.5.0",
            "value": "Downloading: 100%",
            "_view_count": null,
            "_view_module_version": "1.5.0",
            "description_tooltip": null,
            "_model_module": "@jupyter-widgets/controls",
            "layout": "IPY_MODEL_266cb5b01f95474ab931a546eff9f3a2"
          }
        },
        "82959aa1b6e646598ce9691a6035fcbc": {
          "model_module": "@jupyter-widgets/controls",
          "model_name": "FloatProgressModel",
          "model_module_version": "1.5.0",
          "state": {
            "_view_name": "ProgressView",
            "style": "IPY_MODEL_35541ce19ab045169800defd8f69a5b8",
            "_dom_classes": [],
            "description": "",
            "_model_name": "FloatProgressModel",
            "bar_style": "success",
            "max": 570,
            "_view_module": "@jupyter-widgets/controls",
            "_model_module_version": "1.5.0",
            "value": 570,
            "_view_count": null,
            "_view_module_version": "1.5.0",
            "orientation": "horizontal",
            "min": 0,
            "description_tooltip": null,
            "_model_module": "@jupyter-widgets/controls",
            "layout": "IPY_MODEL_9dee772003ad446da89d6c3e1e0ee5a8"
          }
        },
        "078959fcfa4549b5b090b2613e8755d3": {
          "model_module": "@jupyter-widgets/controls",
          "model_name": "HTMLModel",
          "model_module_version": "1.5.0",
          "state": {
            "_view_name": "HTMLView",
            "style": "IPY_MODEL_4358756b3ddd4e3787ab971205ba1bae",
            "_dom_classes": [],
            "description": "",
            "_model_name": "HTMLModel",
            "placeholder": "​",
            "_view_module": "@jupyter-widgets/controls",
            "_model_module_version": "1.5.0",
            "value": " 570/570 [00:00&lt;00:00, 11.3kB/s]",
            "_view_count": null,
            "_view_module_version": "1.5.0",
            "description_tooltip": null,
            "_model_module": "@jupyter-widgets/controls",
            "layout": "IPY_MODEL_e74ad40cb42e44b9a3b19e061fec4539"
          }
        },
        "c3db5b302c3c4e8ab64002f03c0a817d": {
          "model_module": "@jupyter-widgets/controls",
          "model_name": "DescriptionStyleModel",
          "model_module_version": "1.5.0",
          "state": {
            "_view_name": "StyleView",
            "_model_name": "DescriptionStyleModel",
            "description_width": "",
            "_view_module": "@jupyter-widgets/base",
            "_model_module_version": "1.5.0",
            "_view_count": null,
            "_view_module_version": "1.2.0",
            "_model_module": "@jupyter-widgets/controls"
          }
        },
        "266cb5b01f95474ab931a546eff9f3a2": {
          "model_module": "@jupyter-widgets/base",
          "model_name": "LayoutModel",
          "model_module_version": "1.2.0",
          "state": {
            "_view_name": "LayoutView",
            "grid_template_rows": null,
            "right": null,
            "justify_content": null,
            "_view_module": "@jupyter-widgets/base",
            "overflow": null,
            "_model_module_version": "1.2.0",
            "_view_count": null,
            "flex_flow": null,
            "width": null,
            "min_width": null,
            "border": null,
            "align_items": null,
            "bottom": null,
            "_model_module": "@jupyter-widgets/base",
            "top": null,
            "grid_column": null,
            "overflow_y": null,
            "overflow_x": null,
            "grid_auto_flow": null,
            "grid_area": null,
            "grid_template_columns": null,
            "flex": null,
            "_model_name": "LayoutModel",
            "justify_items": null,
            "grid_row": null,
            "max_height": null,
            "align_content": null,
            "visibility": null,
            "align_self": null,
            "height": null,
            "min_height": null,
            "padding": null,
            "grid_auto_rows": null,
            "grid_gap": null,
            "max_width": null,
            "order": null,
            "_view_module_version": "1.2.0",
            "grid_template_areas": null,
            "object_position": null,
            "object_fit": null,
            "grid_auto_columns": null,
            "margin": null,
            "display": null,
            "left": null
          }
        },
        "35541ce19ab045169800defd8f69a5b8": {
          "model_module": "@jupyter-widgets/controls",
          "model_name": "ProgressStyleModel",
          "model_module_version": "1.5.0",
          "state": {
            "_view_name": "StyleView",
            "_model_name": "ProgressStyleModel",
            "description_width": "",
            "_view_module": "@jupyter-widgets/base",
            "_model_module_version": "1.5.0",
            "_view_count": null,
            "_view_module_version": "1.2.0",
            "bar_color": null,
            "_model_module": "@jupyter-widgets/controls"
          }
        },
        "9dee772003ad446da89d6c3e1e0ee5a8": {
          "model_module": "@jupyter-widgets/base",
          "model_name": "LayoutModel",
          "model_module_version": "1.2.0",
          "state": {
            "_view_name": "LayoutView",
            "grid_template_rows": null,
            "right": null,
            "justify_content": null,
            "_view_module": "@jupyter-widgets/base",
            "overflow": null,
            "_model_module_version": "1.2.0",
            "_view_count": null,
            "flex_flow": null,
            "width": null,
            "min_width": null,
            "border": null,
            "align_items": null,
            "bottom": null,
            "_model_module": "@jupyter-widgets/base",
            "top": null,
            "grid_column": null,
            "overflow_y": null,
            "overflow_x": null,
            "grid_auto_flow": null,
            "grid_area": null,
            "grid_template_columns": null,
            "flex": null,
            "_model_name": "LayoutModel",
            "justify_items": null,
            "grid_row": null,
            "max_height": null,
            "align_content": null,
            "visibility": null,
            "align_self": null,
            "height": null,
            "min_height": null,
            "padding": null,
            "grid_auto_rows": null,
            "grid_gap": null,
            "max_width": null,
            "order": null,
            "_view_module_version": "1.2.0",
            "grid_template_areas": null,
            "object_position": null,
            "object_fit": null,
            "grid_auto_columns": null,
            "margin": null,
            "display": null,
            "left": null
          }
        },
        "4358756b3ddd4e3787ab971205ba1bae": {
          "model_module": "@jupyter-widgets/controls",
          "model_name": "DescriptionStyleModel",
          "model_module_version": "1.5.0",
          "state": {
            "_view_name": "StyleView",
            "_model_name": "DescriptionStyleModel",
            "description_width": "",
            "_view_module": "@jupyter-widgets/base",
            "_model_module_version": "1.5.0",
            "_view_count": null,
            "_view_module_version": "1.2.0",
            "_model_module": "@jupyter-widgets/controls"
          }
        },
        "e74ad40cb42e44b9a3b19e061fec4539": {
          "model_module": "@jupyter-widgets/base",
          "model_name": "LayoutModel",
          "model_module_version": "1.2.0",
          "state": {
            "_view_name": "LayoutView",
            "grid_template_rows": null,
            "right": null,
            "justify_content": null,
            "_view_module": "@jupyter-widgets/base",
            "overflow": null,
            "_model_module_version": "1.2.0",
            "_view_count": null,
            "flex_flow": null,
            "width": null,
            "min_width": null,
            "border": null,
            "align_items": null,
            "bottom": null,
            "_model_module": "@jupyter-widgets/base",
            "top": null,
            "grid_column": null,
            "overflow_y": null,
            "overflow_x": null,
            "grid_auto_flow": null,
            "grid_area": null,
            "grid_template_columns": null,
            "flex": null,
            "_model_name": "LayoutModel",
            "justify_items": null,
            "grid_row": null,
            "max_height": null,
            "align_content": null,
            "visibility": null,
            "align_self": null,
            "height": null,
            "min_height": null,
            "padding": null,
            "grid_auto_rows": null,
            "grid_gap": null,
            "max_width": null,
            "order": null,
            "_view_module_version": "1.2.0",
            "grid_template_areas": null,
            "object_position": null,
            "object_fit": null,
            "grid_auto_columns": null,
            "margin": null,
            "display": null,
            "left": null
          }
        },
        "91b2503e8e5047e198407ebc0e097450": {
          "model_module": "@jupyter-widgets/controls",
          "model_name": "HBoxModel",
          "model_module_version": "1.5.0",
          "state": {
            "_view_name": "HBoxView",
            "_dom_classes": [],
            "_model_name": "HBoxModel",
            "_view_module": "@jupyter-widgets/controls",
            "_model_module_version": "1.5.0",
            "_view_count": null,
            "_view_module_version": "1.5.0",
            "box_style": "",
            "layout": "IPY_MODEL_638ba961be6f46c49dc690d36444be8e",
            "_model_module": "@jupyter-widgets/controls",
            "children": [
              "IPY_MODEL_b06a96f11bd140f1b21496bd03dc77c5",
              "IPY_MODEL_c73cff2b1d9e4b37a67f3d634c000bfb",
              "IPY_MODEL_2e3e3177970c4ad1aaa235ea50ac34d0"
            ]
          }
        },
        "638ba961be6f46c49dc690d36444be8e": {
          "model_module": "@jupyter-widgets/base",
          "model_name": "LayoutModel",
          "model_module_version": "1.2.0",
          "state": {
            "_view_name": "LayoutView",
            "grid_template_rows": null,
            "right": null,
            "justify_content": null,
            "_view_module": "@jupyter-widgets/base",
            "overflow": null,
            "_model_module_version": "1.2.0",
            "_view_count": null,
            "flex_flow": null,
            "width": null,
            "min_width": null,
            "border": null,
            "align_items": null,
            "bottom": null,
            "_model_module": "@jupyter-widgets/base",
            "top": null,
            "grid_column": null,
            "overflow_y": null,
            "overflow_x": null,
            "grid_auto_flow": null,
            "grid_area": null,
            "grid_template_columns": null,
            "flex": null,
            "_model_name": "LayoutModel",
            "justify_items": null,
            "grid_row": null,
            "max_height": null,
            "align_content": null,
            "visibility": null,
            "align_self": null,
            "height": null,
            "min_height": null,
            "padding": null,
            "grid_auto_rows": null,
            "grid_gap": null,
            "max_width": null,
            "order": null,
            "_view_module_version": "1.2.0",
            "grid_template_areas": null,
            "object_position": null,
            "object_fit": null,
            "grid_auto_columns": null,
            "margin": null,
            "display": null,
            "left": null
          }
        },
        "b06a96f11bd140f1b21496bd03dc77c5": {
          "model_module": "@jupyter-widgets/controls",
          "model_name": "HTMLModel",
          "model_module_version": "1.5.0",
          "state": {
            "_view_name": "HTMLView",
            "style": "IPY_MODEL_0c569fd1ef064c24b4c4c0333fa92bae",
            "_dom_classes": [],
            "description": "",
            "_model_name": "HTMLModel",
            "placeholder": "​",
            "_view_module": "@jupyter-widgets/controls",
            "_model_module_version": "1.5.0",
            "value": "Downloading: 100%",
            "_view_count": null,
            "_view_module_version": "1.5.0",
            "description_tooltip": null,
            "_model_module": "@jupyter-widgets/controls",
            "layout": "IPY_MODEL_2a7b9d10b09a4d0abeedc66bd4c981fb"
          }
        },
        "c73cff2b1d9e4b37a67f3d634c000bfb": {
          "model_module": "@jupyter-widgets/controls",
          "model_name": "FloatProgressModel",
          "model_module_version": "1.5.0",
          "state": {
            "_view_name": "ProgressView",
            "style": "IPY_MODEL_435629041b554252b6fdda89d6c528cf",
            "_dom_classes": [],
            "description": "",
            "_model_name": "FloatProgressModel",
            "bar_style": "success",
            "max": 536063208,
            "_view_module": "@jupyter-widgets/controls",
            "_model_module_version": "1.5.0",
            "value": 536063208,
            "_view_count": null,
            "_view_module_version": "1.5.0",
            "orientation": "horizontal",
            "min": 0,
            "description_tooltip": null,
            "_model_module": "@jupyter-widgets/controls",
            "layout": "IPY_MODEL_8f5f2fa7675e42a2990768a88f1ae2ec"
          }
        },
        "2e3e3177970c4ad1aaa235ea50ac34d0": {
          "model_module": "@jupyter-widgets/controls",
          "model_name": "HTMLModel",
          "model_module_version": "1.5.0",
          "state": {
            "_view_name": "HTMLView",
            "style": "IPY_MODEL_1e43c3db14984c3d90e5f96bb78ec23c",
            "_dom_classes": [],
            "description": "",
            "_model_name": "HTMLModel",
            "placeholder": "​",
            "_view_module": "@jupyter-widgets/controls",
            "_model_module_version": "1.5.0",
            "value": " 511M/511M [00:16&lt;00:00, 34.8MB/s]",
            "_view_count": null,
            "_view_module_version": "1.5.0",
            "description_tooltip": null,
            "_model_module": "@jupyter-widgets/controls",
            "layout": "IPY_MODEL_122465cbd5364ac392c1618d4c807288"
          }
        },
        "0c569fd1ef064c24b4c4c0333fa92bae": {
          "model_module": "@jupyter-widgets/controls",
          "model_name": "DescriptionStyleModel",
          "model_module_version": "1.5.0",
          "state": {
            "_view_name": "StyleView",
            "_model_name": "DescriptionStyleModel",
            "description_width": "",
            "_view_module": "@jupyter-widgets/base",
            "_model_module_version": "1.5.0",
            "_view_count": null,
            "_view_module_version": "1.2.0",
            "_model_module": "@jupyter-widgets/controls"
          }
        },
        "2a7b9d10b09a4d0abeedc66bd4c981fb": {
          "model_module": "@jupyter-widgets/base",
          "model_name": "LayoutModel",
          "model_module_version": "1.2.0",
          "state": {
            "_view_name": "LayoutView",
            "grid_template_rows": null,
            "right": null,
            "justify_content": null,
            "_view_module": "@jupyter-widgets/base",
            "overflow": null,
            "_model_module_version": "1.2.0",
            "_view_count": null,
            "flex_flow": null,
            "width": null,
            "min_width": null,
            "border": null,
            "align_items": null,
            "bottom": null,
            "_model_module": "@jupyter-widgets/base",
            "top": null,
            "grid_column": null,
            "overflow_y": null,
            "overflow_x": null,
            "grid_auto_flow": null,
            "grid_area": null,
            "grid_template_columns": null,
            "flex": null,
            "_model_name": "LayoutModel",
            "justify_items": null,
            "grid_row": null,
            "max_height": null,
            "align_content": null,
            "visibility": null,
            "align_self": null,
            "height": null,
            "min_height": null,
            "padding": null,
            "grid_auto_rows": null,
            "grid_gap": null,
            "max_width": null,
            "order": null,
            "_view_module_version": "1.2.0",
            "grid_template_areas": null,
            "object_position": null,
            "object_fit": null,
            "grid_auto_columns": null,
            "margin": null,
            "display": null,
            "left": null
          }
        },
        "435629041b554252b6fdda89d6c528cf": {
          "model_module": "@jupyter-widgets/controls",
          "model_name": "ProgressStyleModel",
          "model_module_version": "1.5.0",
          "state": {
            "_view_name": "StyleView",
            "_model_name": "ProgressStyleModel",
            "description_width": "",
            "_view_module": "@jupyter-widgets/base",
            "_model_module_version": "1.5.0",
            "_view_count": null,
            "_view_module_version": "1.2.0",
            "bar_color": null,
            "_model_module": "@jupyter-widgets/controls"
          }
        },
        "8f5f2fa7675e42a2990768a88f1ae2ec": {
          "model_module": "@jupyter-widgets/base",
          "model_name": "LayoutModel",
          "model_module_version": "1.2.0",
          "state": {
            "_view_name": "LayoutView",
            "grid_template_rows": null,
            "right": null,
            "justify_content": null,
            "_view_module": "@jupyter-widgets/base",
            "overflow": null,
            "_model_module_version": "1.2.0",
            "_view_count": null,
            "flex_flow": null,
            "width": null,
            "min_width": null,
            "border": null,
            "align_items": null,
            "bottom": null,
            "_model_module": "@jupyter-widgets/base",
            "top": null,
            "grid_column": null,
            "overflow_y": null,
            "overflow_x": null,
            "grid_auto_flow": null,
            "grid_area": null,
            "grid_template_columns": null,
            "flex": null,
            "_model_name": "LayoutModel",
            "justify_items": null,
            "grid_row": null,
            "max_height": null,
            "align_content": null,
            "visibility": null,
            "align_self": null,
            "height": null,
            "min_height": null,
            "padding": null,
            "grid_auto_rows": null,
            "grid_gap": null,
            "max_width": null,
            "order": null,
            "_view_module_version": "1.2.0",
            "grid_template_areas": null,
            "object_position": null,
            "object_fit": null,
            "grid_auto_columns": null,
            "margin": null,
            "display": null,
            "left": null
          }
        },
        "1e43c3db14984c3d90e5f96bb78ec23c": {
          "model_module": "@jupyter-widgets/controls",
          "model_name": "DescriptionStyleModel",
          "model_module_version": "1.5.0",
          "state": {
            "_view_name": "StyleView",
            "_model_name": "DescriptionStyleModel",
            "description_width": "",
            "_view_module": "@jupyter-widgets/base",
            "_model_module_version": "1.5.0",
            "_view_count": null,
            "_view_module_version": "1.2.0",
            "_model_module": "@jupyter-widgets/controls"
          }
        },
        "122465cbd5364ac392c1618d4c807288": {
          "model_module": "@jupyter-widgets/base",
          "model_name": "LayoutModel",
          "model_module_version": "1.2.0",
          "state": {
            "_view_name": "LayoutView",
            "grid_template_rows": null,
            "right": null,
            "justify_content": null,
            "_view_module": "@jupyter-widgets/base",
            "overflow": null,
            "_model_module_version": "1.2.0",
            "_view_count": null,
            "flex_flow": null,
            "width": null,
            "min_width": null,
            "border": null,
            "align_items": null,
            "bottom": null,
            "_model_module": "@jupyter-widgets/base",
            "top": null,
            "grid_column": null,
            "overflow_y": null,
            "overflow_x": null,
            "grid_auto_flow": null,
            "grid_area": null,
            "grid_template_columns": null,
            "flex": null,
            "_model_name": "LayoutModel",
            "justify_items": null,
            "grid_row": null,
            "max_height": null,
            "align_content": null,
            "visibility": null,
            "align_self": null,
            "height": null,
            "min_height": null,
            "padding": null,
            "grid_auto_rows": null,
            "grid_gap": null,
            "max_width": null,
            "order": null,
            "_view_module_version": "1.2.0",
            "grid_template_areas": null,
            "object_position": null,
            "object_fit": null,
            "grid_auto_columns": null,
            "margin": null,
            "display": null,
            "left": null
          }
        },
        "491a66668db34700b8d0f7603ed3f79b": {
          "model_module": "@jupyter-widgets/controls",
          "model_name": "HBoxModel",
          "model_module_version": "1.5.0",
          "state": {
            "_view_name": "HBoxView",
            "_dom_classes": [],
            "_model_name": "HBoxModel",
            "_view_module": "@jupyter-widgets/controls",
            "_model_module_version": "1.5.0",
            "_view_count": null,
            "_view_module_version": "1.5.0",
            "box_style": "",
            "layout": "IPY_MODEL_caff8ff9be194d5aafffd9ecc2182bc2",
            "_model_module": "@jupyter-widgets/controls",
            "children": [
              "IPY_MODEL_95a0d9bb2a6e4464a99794de677de89e",
              "IPY_MODEL_4f4bcaecedb24da9b93b2b7ae4a06a6a",
              "IPY_MODEL_908a31f025024b7d8ca25b9696fbf330"
            ]
          }
        },
        "caff8ff9be194d5aafffd9ecc2182bc2": {
          "model_module": "@jupyter-widgets/base",
          "model_name": "LayoutModel",
          "model_module_version": "1.2.0",
          "state": {
            "_view_name": "LayoutView",
            "grid_template_rows": null,
            "right": null,
            "justify_content": null,
            "_view_module": "@jupyter-widgets/base",
            "overflow": null,
            "_model_module_version": "1.2.0",
            "_view_count": null,
            "flex_flow": null,
            "width": null,
            "min_width": null,
            "border": null,
            "align_items": null,
            "bottom": null,
            "_model_module": "@jupyter-widgets/base",
            "top": null,
            "grid_column": null,
            "overflow_y": null,
            "overflow_x": null,
            "grid_auto_flow": null,
            "grid_area": null,
            "grid_template_columns": null,
            "flex": null,
            "_model_name": "LayoutModel",
            "justify_items": null,
            "grid_row": null,
            "max_height": null,
            "align_content": null,
            "visibility": null,
            "align_self": null,
            "height": null,
            "min_height": null,
            "padding": null,
            "grid_auto_rows": null,
            "grid_gap": null,
            "max_width": null,
            "order": null,
            "_view_module_version": "1.2.0",
            "grid_template_areas": null,
            "object_position": null,
            "object_fit": null,
            "grid_auto_columns": null,
            "margin": null,
            "display": null,
            "left": null
          }
        },
        "95a0d9bb2a6e4464a99794de677de89e": {
          "model_module": "@jupyter-widgets/controls",
          "model_name": "HTMLModel",
          "model_module_version": "1.5.0",
          "state": {
            "_view_name": "HTMLView",
            "style": "IPY_MODEL_e2b2cfb03674494690dc837dfb14e994",
            "_dom_classes": [],
            "description": "",
            "_model_name": "HTMLModel",
            "placeholder": "​",
            "_view_module": "@jupyter-widgets/controls",
            "_model_module_version": "1.5.0",
            "value": "Downloading: 100%",
            "_view_count": null,
            "_view_module_version": "1.5.0",
            "description_tooltip": null,
            "_model_module": "@jupyter-widgets/controls",
            "layout": "IPY_MODEL_060a958bf46840fcb11ed872e02d9edd"
          }
        },
        "4f4bcaecedb24da9b93b2b7ae4a06a6a": {
          "model_module": "@jupyter-widgets/controls",
          "model_name": "FloatProgressModel",
          "model_module_version": "1.5.0",
          "state": {
            "_view_name": "ProgressView",
            "style": "IPY_MODEL_78986b3cfb7b4c569f2d68fb50518638",
            "_dom_classes": [],
            "description": "",
            "_model_name": "FloatProgressModel",
            "bar_style": "success",
            "max": 231508,
            "_view_module": "@jupyter-widgets/controls",
            "_model_module_version": "1.5.0",
            "value": 231508,
            "_view_count": null,
            "_view_module_version": "1.5.0",
            "orientation": "horizontal",
            "min": 0,
            "description_tooltip": null,
            "_model_module": "@jupyter-widgets/controls",
            "layout": "IPY_MODEL_bfbb4810ce6446ccb937acc07c7bcec9"
          }
        },
        "908a31f025024b7d8ca25b9696fbf330": {
          "model_module": "@jupyter-widgets/controls",
          "model_name": "HTMLModel",
          "model_module_version": "1.5.0",
          "state": {
            "_view_name": "HTMLView",
            "style": "IPY_MODEL_1ed746c98da84fd096f03183b4fbeb4d",
            "_dom_classes": [],
            "description": "",
            "_model_name": "HTMLModel",
            "placeholder": "​",
            "_view_module": "@jupyter-widgets/controls",
            "_model_module_version": "1.5.0",
            "value": " 226k/226k [00:00&lt;00:00, 739kB/s]",
            "_view_count": null,
            "_view_module_version": "1.5.0",
            "description_tooltip": null,
            "_model_module": "@jupyter-widgets/controls",
            "layout": "IPY_MODEL_6b3f0064cdf6495b8c6179776d11e9b0"
          }
        },
        "e2b2cfb03674494690dc837dfb14e994": {
          "model_module": "@jupyter-widgets/controls",
          "model_name": "DescriptionStyleModel",
          "model_module_version": "1.5.0",
          "state": {
            "_view_name": "StyleView",
            "_model_name": "DescriptionStyleModel",
            "description_width": "",
            "_view_module": "@jupyter-widgets/base",
            "_model_module_version": "1.5.0",
            "_view_count": null,
            "_view_module_version": "1.2.0",
            "_model_module": "@jupyter-widgets/controls"
          }
        },
        "060a958bf46840fcb11ed872e02d9edd": {
          "model_module": "@jupyter-widgets/base",
          "model_name": "LayoutModel",
          "model_module_version": "1.2.0",
          "state": {
            "_view_name": "LayoutView",
            "grid_template_rows": null,
            "right": null,
            "justify_content": null,
            "_view_module": "@jupyter-widgets/base",
            "overflow": null,
            "_model_module_version": "1.2.0",
            "_view_count": null,
            "flex_flow": null,
            "width": null,
            "min_width": null,
            "border": null,
            "align_items": null,
            "bottom": null,
            "_model_module": "@jupyter-widgets/base",
            "top": null,
            "grid_column": null,
            "overflow_y": null,
            "overflow_x": null,
            "grid_auto_flow": null,
            "grid_area": null,
            "grid_template_columns": null,
            "flex": null,
            "_model_name": "LayoutModel",
            "justify_items": null,
            "grid_row": null,
            "max_height": null,
            "align_content": null,
            "visibility": null,
            "align_self": null,
            "height": null,
            "min_height": null,
            "padding": null,
            "grid_auto_rows": null,
            "grid_gap": null,
            "max_width": null,
            "order": null,
            "_view_module_version": "1.2.0",
            "grid_template_areas": null,
            "object_position": null,
            "object_fit": null,
            "grid_auto_columns": null,
            "margin": null,
            "display": null,
            "left": null
          }
        },
        "78986b3cfb7b4c569f2d68fb50518638": {
          "model_module": "@jupyter-widgets/controls",
          "model_name": "ProgressStyleModel",
          "model_module_version": "1.5.0",
          "state": {
            "_view_name": "StyleView",
            "_model_name": "ProgressStyleModel",
            "description_width": "",
            "_view_module": "@jupyter-widgets/base",
            "_model_module_version": "1.5.0",
            "_view_count": null,
            "_view_module_version": "1.2.0",
            "bar_color": null,
            "_model_module": "@jupyter-widgets/controls"
          }
        },
        "bfbb4810ce6446ccb937acc07c7bcec9": {
          "model_module": "@jupyter-widgets/base",
          "model_name": "LayoutModel",
          "model_module_version": "1.2.0",
          "state": {
            "_view_name": "LayoutView",
            "grid_template_rows": null,
            "right": null,
            "justify_content": null,
            "_view_module": "@jupyter-widgets/base",
            "overflow": null,
            "_model_module_version": "1.2.0",
            "_view_count": null,
            "flex_flow": null,
            "width": null,
            "min_width": null,
            "border": null,
            "align_items": null,
            "bottom": null,
            "_model_module": "@jupyter-widgets/base",
            "top": null,
            "grid_column": null,
            "overflow_y": null,
            "overflow_x": null,
            "grid_auto_flow": null,
            "grid_area": null,
            "grid_template_columns": null,
            "flex": null,
            "_model_name": "LayoutModel",
            "justify_items": null,
            "grid_row": null,
            "max_height": null,
            "align_content": null,
            "visibility": null,
            "align_self": null,
            "height": null,
            "min_height": null,
            "padding": null,
            "grid_auto_rows": null,
            "grid_gap": null,
            "max_width": null,
            "order": null,
            "_view_module_version": "1.2.0",
            "grid_template_areas": null,
            "object_position": null,
            "object_fit": null,
            "grid_auto_columns": null,
            "margin": null,
            "display": null,
            "left": null
          }
        },
        "1ed746c98da84fd096f03183b4fbeb4d": {
          "model_module": "@jupyter-widgets/controls",
          "model_name": "DescriptionStyleModel",
          "model_module_version": "1.5.0",
          "state": {
            "_view_name": "StyleView",
            "_model_name": "DescriptionStyleModel",
            "description_width": "",
            "_view_module": "@jupyter-widgets/base",
            "_model_module_version": "1.5.0",
            "_view_count": null,
            "_view_module_version": "1.2.0",
            "_model_module": "@jupyter-widgets/controls"
          }
        },
        "6b3f0064cdf6495b8c6179776d11e9b0": {
          "model_module": "@jupyter-widgets/base",
          "model_name": "LayoutModel",
          "model_module_version": "1.2.0",
          "state": {
            "_view_name": "LayoutView",
            "grid_template_rows": null,
            "right": null,
            "justify_content": null,
            "_view_module": "@jupyter-widgets/base",
            "overflow": null,
            "_model_module_version": "1.2.0",
            "_view_count": null,
            "flex_flow": null,
            "width": null,
            "min_width": null,
            "border": null,
            "align_items": null,
            "bottom": null,
            "_model_module": "@jupyter-widgets/base",
            "top": null,
            "grid_column": null,
            "overflow_y": null,
            "overflow_x": null,
            "grid_auto_flow": null,
            "grid_area": null,
            "grid_template_columns": null,
            "flex": null,
            "_model_name": "LayoutModel",
            "justify_items": null,
            "grid_row": null,
            "max_height": null,
            "align_content": null,
            "visibility": null,
            "align_self": null,
            "height": null,
            "min_height": null,
            "padding": null,
            "grid_auto_rows": null,
            "grid_gap": null,
            "max_width": null,
            "order": null,
            "_view_module_version": "1.2.0",
            "grid_template_areas": null,
            "object_position": null,
            "object_fit": null,
            "grid_auto_columns": null,
            "margin": null,
            "display": null,
            "left": null
          }
        },
        "12b0cc4248da4442b67ffcab1b3e6c59": {
          "model_module": "@jupyter-widgets/controls",
          "model_name": "HBoxModel",
          "model_module_version": "1.5.0",
          "state": {
            "_view_name": "HBoxView",
            "_dom_classes": [],
            "_model_name": "HBoxModel",
            "_view_module": "@jupyter-widgets/controls",
            "_model_module_version": "1.5.0",
            "_view_count": null,
            "_view_module_version": "1.5.0",
            "box_style": "",
            "layout": "IPY_MODEL_71ca161ce15343b1ac2a9a54d6a8ec12",
            "_model_module": "@jupyter-widgets/controls",
            "children": [
              "IPY_MODEL_62f9abfbf9354368b591c5d6af2144a6",
              "IPY_MODEL_c69f966c82c840abb21c974d217f824d",
              "IPY_MODEL_27d073500f104265a116773b5f4d9cc2"
            ]
          }
        },
        "71ca161ce15343b1ac2a9a54d6a8ec12": {
          "model_module": "@jupyter-widgets/base",
          "model_name": "LayoutModel",
          "model_module_version": "1.2.0",
          "state": {
            "_view_name": "LayoutView",
            "grid_template_rows": null,
            "right": null,
            "justify_content": null,
            "_view_module": "@jupyter-widgets/base",
            "overflow": null,
            "_model_module_version": "1.2.0",
            "_view_count": null,
            "flex_flow": null,
            "width": null,
            "min_width": null,
            "border": null,
            "align_items": null,
            "bottom": null,
            "_model_module": "@jupyter-widgets/base",
            "top": null,
            "grid_column": null,
            "overflow_y": null,
            "overflow_x": null,
            "grid_auto_flow": null,
            "grid_area": null,
            "grid_template_columns": null,
            "flex": null,
            "_model_name": "LayoutModel",
            "justify_items": null,
            "grid_row": null,
            "max_height": null,
            "align_content": null,
            "visibility": null,
            "align_self": null,
            "height": null,
            "min_height": null,
            "padding": null,
            "grid_auto_rows": null,
            "grid_gap": null,
            "max_width": null,
            "order": null,
            "_view_module_version": "1.2.0",
            "grid_template_areas": null,
            "object_position": null,
            "object_fit": null,
            "grid_auto_columns": null,
            "margin": null,
            "display": null,
            "left": null
          }
        },
        "62f9abfbf9354368b591c5d6af2144a6": {
          "model_module": "@jupyter-widgets/controls",
          "model_name": "HTMLModel",
          "model_module_version": "1.5.0",
          "state": {
            "_view_name": "HTMLView",
            "style": "IPY_MODEL_6c093be6b1e347c5b313e69709e186bd",
            "_dom_classes": [],
            "description": "",
            "_model_name": "HTMLModel",
            "placeholder": "​",
            "_view_module": "@jupyter-widgets/controls",
            "_model_module_version": "1.5.0",
            "value": "Downloading: 100%",
            "_view_count": null,
            "_view_module_version": "1.5.0",
            "description_tooltip": null,
            "_model_module": "@jupyter-widgets/controls",
            "layout": "IPY_MODEL_b4c2c717d2f04660aad4e55eb74775e3"
          }
        },
        "c69f966c82c840abb21c974d217f824d": {
          "model_module": "@jupyter-widgets/controls",
          "model_name": "FloatProgressModel",
          "model_module_version": "1.5.0",
          "state": {
            "_view_name": "ProgressView",
            "style": "IPY_MODEL_b1649180846d464aabe53b39acddf75a",
            "_dom_classes": [],
            "description": "",
            "_model_name": "FloatProgressModel",
            "bar_style": "success",
            "max": 28,
            "_view_module": "@jupyter-widgets/controls",
            "_model_module_version": "1.5.0",
            "value": 28,
            "_view_count": null,
            "_view_module_version": "1.5.0",
            "orientation": "horizontal",
            "min": 0,
            "description_tooltip": null,
            "_model_module": "@jupyter-widgets/controls",
            "layout": "IPY_MODEL_ae150dfcbc1e46be8f90ba97c0176ce6"
          }
        },
        "27d073500f104265a116773b5f4d9cc2": {
          "model_module": "@jupyter-widgets/controls",
          "model_name": "HTMLModel",
          "model_module_version": "1.5.0",
          "state": {
            "_view_name": "HTMLView",
            "style": "IPY_MODEL_8d41eb9084294db7a6c56161cb91ecde",
            "_dom_classes": [],
            "description": "",
            "_model_name": "HTMLModel",
            "placeholder": "​",
            "_view_module": "@jupyter-widgets/controls",
            "_model_module_version": "1.5.0",
            "value": " 28.0/28.0 [00:00&lt;00:00, 721B/s]",
            "_view_count": null,
            "_view_module_version": "1.5.0",
            "description_tooltip": null,
            "_model_module": "@jupyter-widgets/controls",
            "layout": "IPY_MODEL_fc142411418e438c924ea55111ff3e83"
          }
        },
        "6c093be6b1e347c5b313e69709e186bd": {
          "model_module": "@jupyter-widgets/controls",
          "model_name": "DescriptionStyleModel",
          "model_module_version": "1.5.0",
          "state": {
            "_view_name": "StyleView",
            "_model_name": "DescriptionStyleModel",
            "description_width": "",
            "_view_module": "@jupyter-widgets/base",
            "_model_module_version": "1.5.0",
            "_view_count": null,
            "_view_module_version": "1.2.0",
            "_model_module": "@jupyter-widgets/controls"
          }
        },
        "b4c2c717d2f04660aad4e55eb74775e3": {
          "model_module": "@jupyter-widgets/base",
          "model_name": "LayoutModel",
          "model_module_version": "1.2.0",
          "state": {
            "_view_name": "LayoutView",
            "grid_template_rows": null,
            "right": null,
            "justify_content": null,
            "_view_module": "@jupyter-widgets/base",
            "overflow": null,
            "_model_module_version": "1.2.0",
            "_view_count": null,
            "flex_flow": null,
            "width": null,
            "min_width": null,
            "border": null,
            "align_items": null,
            "bottom": null,
            "_model_module": "@jupyter-widgets/base",
            "top": null,
            "grid_column": null,
            "overflow_y": null,
            "overflow_x": null,
            "grid_auto_flow": null,
            "grid_area": null,
            "grid_template_columns": null,
            "flex": null,
            "_model_name": "LayoutModel",
            "justify_items": null,
            "grid_row": null,
            "max_height": null,
            "align_content": null,
            "visibility": null,
            "align_self": null,
            "height": null,
            "min_height": null,
            "padding": null,
            "grid_auto_rows": null,
            "grid_gap": null,
            "max_width": null,
            "order": null,
            "_view_module_version": "1.2.0",
            "grid_template_areas": null,
            "object_position": null,
            "object_fit": null,
            "grid_auto_columns": null,
            "margin": null,
            "display": null,
            "left": null
          }
        },
        "b1649180846d464aabe53b39acddf75a": {
          "model_module": "@jupyter-widgets/controls",
          "model_name": "ProgressStyleModel",
          "model_module_version": "1.5.0",
          "state": {
            "_view_name": "StyleView",
            "_model_name": "ProgressStyleModel",
            "description_width": "",
            "_view_module": "@jupyter-widgets/base",
            "_model_module_version": "1.5.0",
            "_view_count": null,
            "_view_module_version": "1.2.0",
            "bar_color": null,
            "_model_module": "@jupyter-widgets/controls"
          }
        },
        "ae150dfcbc1e46be8f90ba97c0176ce6": {
          "model_module": "@jupyter-widgets/base",
          "model_name": "LayoutModel",
          "model_module_version": "1.2.0",
          "state": {
            "_view_name": "LayoutView",
            "grid_template_rows": null,
            "right": null,
            "justify_content": null,
            "_view_module": "@jupyter-widgets/base",
            "overflow": null,
            "_model_module_version": "1.2.0",
            "_view_count": null,
            "flex_flow": null,
            "width": null,
            "min_width": null,
            "border": null,
            "align_items": null,
            "bottom": null,
            "_model_module": "@jupyter-widgets/base",
            "top": null,
            "grid_column": null,
            "overflow_y": null,
            "overflow_x": null,
            "grid_auto_flow": null,
            "grid_area": null,
            "grid_template_columns": null,
            "flex": null,
            "_model_name": "LayoutModel",
            "justify_items": null,
            "grid_row": null,
            "max_height": null,
            "align_content": null,
            "visibility": null,
            "align_self": null,
            "height": null,
            "min_height": null,
            "padding": null,
            "grid_auto_rows": null,
            "grid_gap": null,
            "max_width": null,
            "order": null,
            "_view_module_version": "1.2.0",
            "grid_template_areas": null,
            "object_position": null,
            "object_fit": null,
            "grid_auto_columns": null,
            "margin": null,
            "display": null,
            "left": null
          }
        },
        "8d41eb9084294db7a6c56161cb91ecde": {
          "model_module": "@jupyter-widgets/controls",
          "model_name": "DescriptionStyleModel",
          "model_module_version": "1.5.0",
          "state": {
            "_view_name": "StyleView",
            "_model_name": "DescriptionStyleModel",
            "description_width": "",
            "_view_module": "@jupyter-widgets/base",
            "_model_module_version": "1.5.0",
            "_view_count": null,
            "_view_module_version": "1.2.0",
            "_model_module": "@jupyter-widgets/controls"
          }
        },
        "fc142411418e438c924ea55111ff3e83": {
          "model_module": "@jupyter-widgets/base",
          "model_name": "LayoutModel",
          "model_module_version": "1.2.0",
          "state": {
            "_view_name": "LayoutView",
            "grid_template_rows": null,
            "right": null,
            "justify_content": null,
            "_view_module": "@jupyter-widgets/base",
            "overflow": null,
            "_model_module_version": "1.2.0",
            "_view_count": null,
            "flex_flow": null,
            "width": null,
            "min_width": null,
            "border": null,
            "align_items": null,
            "bottom": null,
            "_model_module": "@jupyter-widgets/base",
            "top": null,
            "grid_column": null,
            "overflow_y": null,
            "overflow_x": null,
            "grid_auto_flow": null,
            "grid_area": null,
            "grid_template_columns": null,
            "flex": null,
            "_model_name": "LayoutModel",
            "justify_items": null,
            "grid_row": null,
            "max_height": null,
            "align_content": null,
            "visibility": null,
            "align_self": null,
            "height": null,
            "min_height": null,
            "padding": null,
            "grid_auto_rows": null,
            "grid_gap": null,
            "max_width": null,
            "order": null,
            "_view_module_version": "1.2.0",
            "grid_template_areas": null,
            "object_position": null,
            "object_fit": null,
            "grid_auto_columns": null,
            "margin": null,
            "display": null,
            "left": null
          }
        },
        "314968cdd4734f9d922273399d5eb13c": {
          "model_module": "@jupyter-widgets/controls",
          "model_name": "HBoxModel",
          "model_module_version": "1.5.0",
          "state": {
            "_view_name": "HBoxView",
            "_dom_classes": [],
            "_model_name": "HBoxModel",
            "_view_module": "@jupyter-widgets/controls",
            "_model_module_version": "1.5.0",
            "_view_count": null,
            "_view_module_version": "1.5.0",
            "box_style": "",
            "layout": "IPY_MODEL_a21a518aa3e340f4b29a66b6c872420b",
            "_model_module": "@jupyter-widgets/controls",
            "children": [
              "IPY_MODEL_2c96d75891f94b54a0103dba455ea7e4",
              "IPY_MODEL_40817e36e7e149c58ed144f5f68283b6",
              "IPY_MODEL_a7ba5632e43d469ca8792c84207a4dec"
            ]
          }
        },
        "a21a518aa3e340f4b29a66b6c872420b": {
          "model_module": "@jupyter-widgets/base",
          "model_name": "LayoutModel",
          "model_module_version": "1.2.0",
          "state": {
            "_view_name": "LayoutView",
            "grid_template_rows": null,
            "right": null,
            "justify_content": null,
            "_view_module": "@jupyter-widgets/base",
            "overflow": null,
            "_model_module_version": "1.2.0",
            "_view_count": null,
            "flex_flow": null,
            "width": null,
            "min_width": null,
            "border": null,
            "align_items": null,
            "bottom": null,
            "_model_module": "@jupyter-widgets/base",
            "top": null,
            "grid_column": null,
            "overflow_y": null,
            "overflow_x": null,
            "grid_auto_flow": null,
            "grid_area": null,
            "grid_template_columns": null,
            "flex": null,
            "_model_name": "LayoutModel",
            "justify_items": null,
            "grid_row": null,
            "max_height": null,
            "align_content": null,
            "visibility": null,
            "align_self": null,
            "height": null,
            "min_height": null,
            "padding": null,
            "grid_auto_rows": null,
            "grid_gap": null,
            "max_width": null,
            "order": null,
            "_view_module_version": "1.2.0",
            "grid_template_areas": null,
            "object_position": null,
            "object_fit": null,
            "grid_auto_columns": null,
            "margin": null,
            "display": null,
            "left": null
          }
        },
        "2c96d75891f94b54a0103dba455ea7e4": {
          "model_module": "@jupyter-widgets/controls",
          "model_name": "HTMLModel",
          "model_module_version": "1.5.0",
          "state": {
            "_view_name": "HTMLView",
            "style": "IPY_MODEL_9d7eaec655f0464d991e191b630b56b7",
            "_dom_classes": [],
            "description": "",
            "_model_name": "HTMLModel",
            "placeholder": "​",
            "_view_module": "@jupyter-widgets/controls",
            "_model_module_version": "1.5.0",
            "value": "Downloading: 100%",
            "_view_count": null,
            "_view_module_version": "1.5.0",
            "description_tooltip": null,
            "_model_module": "@jupyter-widgets/controls",
            "layout": "IPY_MODEL_c9f40c9d732f43bbbcf3889422ec94c8"
          }
        },
        "40817e36e7e149c58ed144f5f68283b6": {
          "model_module": "@jupyter-widgets/controls",
          "model_name": "FloatProgressModel",
          "model_module_version": "1.5.0",
          "state": {
            "_view_name": "ProgressView",
            "style": "IPY_MODEL_7b8cdfb60c0347948169fb6351c60f1e",
            "_dom_classes": [],
            "description": "",
            "_model_name": "FloatProgressModel",
            "bar_style": "success",
            "max": 466062,
            "_view_module": "@jupyter-widgets/controls",
            "_model_module_version": "1.5.0",
            "value": 466062,
            "_view_count": null,
            "_view_module_version": "1.5.0",
            "orientation": "horizontal",
            "min": 0,
            "description_tooltip": null,
            "_model_module": "@jupyter-widgets/controls",
            "layout": "IPY_MODEL_8179ba44570b43288df7e263347c122a"
          }
        },
        "a7ba5632e43d469ca8792c84207a4dec": {
          "model_module": "@jupyter-widgets/controls",
          "model_name": "HTMLModel",
          "model_module_version": "1.5.0",
          "state": {
            "_view_name": "HTMLView",
            "style": "IPY_MODEL_82b1f00459da4d00af141ea9da325356",
            "_dom_classes": [],
            "description": "",
            "_model_name": "HTMLModel",
            "placeholder": "​",
            "_view_module": "@jupyter-widgets/controls",
            "_model_module_version": "1.5.0",
            "value": " 455k/455k [00:00&lt;00:00, 584kB/s]",
            "_view_count": null,
            "_view_module_version": "1.5.0",
            "description_tooltip": null,
            "_model_module": "@jupyter-widgets/controls",
            "layout": "IPY_MODEL_42acf60ea2a34ff38c4c92b09f41a194"
          }
        },
        "9d7eaec655f0464d991e191b630b56b7": {
          "model_module": "@jupyter-widgets/controls",
          "model_name": "DescriptionStyleModel",
          "model_module_version": "1.5.0",
          "state": {
            "_view_name": "StyleView",
            "_model_name": "DescriptionStyleModel",
            "description_width": "",
            "_view_module": "@jupyter-widgets/base",
            "_model_module_version": "1.5.0",
            "_view_count": null,
            "_view_module_version": "1.2.0",
            "_model_module": "@jupyter-widgets/controls"
          }
        },
        "c9f40c9d732f43bbbcf3889422ec94c8": {
          "model_module": "@jupyter-widgets/base",
          "model_name": "LayoutModel",
          "model_module_version": "1.2.0",
          "state": {
            "_view_name": "LayoutView",
            "grid_template_rows": null,
            "right": null,
            "justify_content": null,
            "_view_module": "@jupyter-widgets/base",
            "overflow": null,
            "_model_module_version": "1.2.0",
            "_view_count": null,
            "flex_flow": null,
            "width": null,
            "min_width": null,
            "border": null,
            "align_items": null,
            "bottom": null,
            "_model_module": "@jupyter-widgets/base",
            "top": null,
            "grid_column": null,
            "overflow_y": null,
            "overflow_x": null,
            "grid_auto_flow": null,
            "grid_area": null,
            "grid_template_columns": null,
            "flex": null,
            "_model_name": "LayoutModel",
            "justify_items": null,
            "grid_row": null,
            "max_height": null,
            "align_content": null,
            "visibility": null,
            "align_self": null,
            "height": null,
            "min_height": null,
            "padding": null,
            "grid_auto_rows": null,
            "grid_gap": null,
            "max_width": null,
            "order": null,
            "_view_module_version": "1.2.0",
            "grid_template_areas": null,
            "object_position": null,
            "object_fit": null,
            "grid_auto_columns": null,
            "margin": null,
            "display": null,
            "left": null
          }
        },
        "7b8cdfb60c0347948169fb6351c60f1e": {
          "model_module": "@jupyter-widgets/controls",
          "model_name": "ProgressStyleModel",
          "model_module_version": "1.5.0",
          "state": {
            "_view_name": "StyleView",
            "_model_name": "ProgressStyleModel",
            "description_width": "",
            "_view_module": "@jupyter-widgets/base",
            "_model_module_version": "1.5.0",
            "_view_count": null,
            "_view_module_version": "1.2.0",
            "bar_color": null,
            "_model_module": "@jupyter-widgets/controls"
          }
        },
        "8179ba44570b43288df7e263347c122a": {
          "model_module": "@jupyter-widgets/base",
          "model_name": "LayoutModel",
          "model_module_version": "1.2.0",
          "state": {
            "_view_name": "LayoutView",
            "grid_template_rows": null,
            "right": null,
            "justify_content": null,
            "_view_module": "@jupyter-widgets/base",
            "overflow": null,
            "_model_module_version": "1.2.0",
            "_view_count": null,
            "flex_flow": null,
            "width": null,
            "min_width": null,
            "border": null,
            "align_items": null,
            "bottom": null,
            "_model_module": "@jupyter-widgets/base",
            "top": null,
            "grid_column": null,
            "overflow_y": null,
            "overflow_x": null,
            "grid_auto_flow": null,
            "grid_area": null,
            "grid_template_columns": null,
            "flex": null,
            "_model_name": "LayoutModel",
            "justify_items": null,
            "grid_row": null,
            "max_height": null,
            "align_content": null,
            "visibility": null,
            "align_self": null,
            "height": null,
            "min_height": null,
            "padding": null,
            "grid_auto_rows": null,
            "grid_gap": null,
            "max_width": null,
            "order": null,
            "_view_module_version": "1.2.0",
            "grid_template_areas": null,
            "object_position": null,
            "object_fit": null,
            "grid_auto_columns": null,
            "margin": null,
            "display": null,
            "left": null
          }
        },
        "82b1f00459da4d00af141ea9da325356": {
          "model_module": "@jupyter-widgets/controls",
          "model_name": "DescriptionStyleModel",
          "model_module_version": "1.5.0",
          "state": {
            "_view_name": "StyleView",
            "_model_name": "DescriptionStyleModel",
            "description_width": "",
            "_view_module": "@jupyter-widgets/base",
            "_model_module_version": "1.5.0",
            "_view_count": null,
            "_view_module_version": "1.2.0",
            "_model_module": "@jupyter-widgets/controls"
          }
        },
        "42acf60ea2a34ff38c4c92b09f41a194": {
          "model_module": "@jupyter-widgets/base",
          "model_name": "LayoutModel",
          "model_module_version": "1.2.0",
          "state": {
            "_view_name": "LayoutView",
            "grid_template_rows": null,
            "right": null,
            "justify_content": null,
            "_view_module": "@jupyter-widgets/base",
            "overflow": null,
            "_model_module_version": "1.2.0",
            "_view_count": null,
            "flex_flow": null,
            "width": null,
            "min_width": null,
            "border": null,
            "align_items": null,
            "bottom": null,
            "_model_module": "@jupyter-widgets/base",
            "top": null,
            "grid_column": null,
            "overflow_y": null,
            "overflow_x": null,
            "grid_auto_flow": null,
            "grid_area": null,
            "grid_template_columns": null,
            "flex": null,
            "_model_name": "LayoutModel",
            "justify_items": null,
            "grid_row": null,
            "max_height": null,
            "align_content": null,
            "visibility": null,
            "align_self": null,
            "height": null,
            "min_height": null,
            "padding": null,
            "grid_auto_rows": null,
            "grid_gap": null,
            "max_width": null,
            "order": null,
            "_view_module_version": "1.2.0",
            "grid_template_areas": null,
            "object_position": null,
            "object_fit": null,
            "grid_auto_columns": null,
            "margin": null,
            "display": null,
            "left": null
          }
        }
      }
    }
  },
  "cells": [
    {
      "cell_type": "markdown",
      "metadata": {
        "id": "14xR9tGn3Joj"
      },
      "source": [
        "### This notebook uses the Kaggle sarcastic news dataset and attempts to classify the news headlines provided in the dataset into the \"normal\" and \"sarcastic\" categories using deep learning models such as Keras sequential neural network and BERT for sequence classification from the Huggingface library.\n",
        "\n",
        "Authors: \n",
        "- Sachin Peruri (sachin.peruri@gmail.com)\n",
        "- Keyuri Raodeo (keyuri.raodeo@gmail.com)\n"
      ]
    },
    {
      "cell_type": "code",
      "metadata": {
        "colab": {
          "base_uri": "https://localhost:8080/"
        },
        "id": "LgOiripJtfBx",
        "outputId": "f7e7d6d1-c7b4-41e7-d3d4-313d2f8f52a8"
      },
      "source": [
        "from google.colab import drive\n",
        "drive.mount('/gdrive')"
      ],
      "execution_count": null,
      "outputs": [
        {
          "output_type": "stream",
          "name": "stdout",
          "text": [
            "Mounted at /gdrive\n"
          ]
        }
      ]
    },
    {
      "cell_type": "code",
      "metadata": {
        "id": "-cxPW4UGR1XW"
      },
      "source": [
        "pip install transformers"
      ],
      "execution_count": null,
      "outputs": []
    },
    {
      "cell_type": "code",
      "metadata": {
        "id": "e_qXHo9-ueuP",
        "colab": {
          "base_uri": "https://localhost:8080/"
        },
        "outputId": "ccc54df2-ea14-4ab8-850f-3ca00b2f4317"
      },
      "source": [
        "# Import libraries\n",
        "\n",
        "import json\n",
        "import pandas as pd\n",
        "import pickle\n",
        "\n",
        "from sklearn.model_selection import train_test_split\n",
        "\n",
        "from transformers import BertTokenizer, TFBertForSequenceClassification\n",
        "from transformers import InputExample, InputFeatures\n",
        "import tensorflow as tf\n",
        "\n",
        "from keras.models import Sequential\n",
        "from keras.layers import Dense\n",
        "from tensorflow.keras.layers import Input\n",
        "from keras.models import Model\n",
        "\n",
        "from sklearn.model_selection import cross_val_score\n",
        "\n",
        "from sklearn.model_selection import StratifiedKFold\n",
        "from sklearn.preprocessing import StandardScaler\n",
        "from sklearn.pipeline import Pipeline\n",
        "from sklearn import metrics\n",
        "from sklearn.metrics import classification_report\n",
        "from sklearn.metrics import confusion_matrix\n",
        "from sklearn.metrics import roc_curve, auc\n",
        "from sklearn.metrics import accuracy_score, recall_score, precision_score\n",
        "from sklearn.model_selection import cross_val_score\n",
        "\n",
        "import numpy as np\n",
        "\n",
        "import matplotlib.pyplot as plt\n",
        "%matplotlib inline\n",
        "\n",
        "import tensorflow as tf\n",
        "import tensorflow_hub as hub\n",
        "\n",
        "print(\"Version: \", tf.__version__)\n",
        "print(\"Eager mode: \", tf.executing_eagerly())\n",
        "print(\"Hub version: \", hub.__version__)\n",
        "print(\"GPU is\", \"available\" if tf.config.list_physical_devices(\"GPU\") else \"NOT AVAILABLE\")"
      ],
      "execution_count": null,
      "outputs": [
        {
          "output_type": "stream",
          "name": "stdout",
          "text": [
            "Version:  2.6.0\n",
            "Eager mode:  True\n",
            "Hub version:  0.12.0\n",
            "GPU is available\n"
          ]
        }
      ]
    },
    {
      "cell_type": "code",
      "metadata": {
        "colab": {
          "base_uri": "https://localhost:8080/"
        },
        "id": "LNAf3IU0S51X",
        "outputId": "74dd5da4-1ceb-4758-ed29-2824e79b538a"
      },
      "source": [
        "tf.config.list_physical_devices(\"GPU\")"
      ],
      "execution_count": null,
      "outputs": [
        {
          "output_type": "execute_result",
          "data": {
            "text/plain": [
              "[PhysicalDevice(name='/physical_device:GPU:0', device_type='GPU')]"
            ]
          },
          "metadata": {},
          "execution_count": 4
        }
      ]
    },
    {
      "cell_type": "code",
      "metadata": {
        "id": "UhHi3454vqBC"
      },
      "source": [
        "def parse_data(file):\n",
        "    for l in open(file,'r'):\n",
        "        yield json.loads(l)"
      ],
      "execution_count": null,
      "outputs": []
    },
    {
      "cell_type": "markdown",
      "metadata": {
        "id": "8FGMcVkn3qdd"
      },
      "source": [
        "### Loading in the dataset"
      ]
    },
    {
      "cell_type": "code",
      "metadata": {
        "id": "aOkLR0J7t4Cv",
        "colab": {
          "base_uri": "https://localhost:8080/",
          "height": 206
        },
        "outputId": "75cbecd2-731e-4116-9e17-a66919d647d7"
      },
      "source": [
        "# Parse and convert the data into a dataframe\n",
        "\n",
        "data_v2 = list(parse_data(\"/gdrive/MyDrive/Sarcastic_news/Sarcasm_Headlines_Dataset_v2.json\"))\n",
        "df = pd.DataFrame.from_dict(data_v2)\n",
        "df.sample(5)"
      ],
      "execution_count": null,
      "outputs": [
        {
          "output_type": "execute_result",
          "data": {
            "text/html": [
              "<div>\n",
              "<style scoped>\n",
              "    .dataframe tbody tr th:only-of-type {\n",
              "        vertical-align: middle;\n",
              "    }\n",
              "\n",
              "    .dataframe tbody tr th {\n",
              "        vertical-align: top;\n",
              "    }\n",
              "\n",
              "    .dataframe thead th {\n",
              "        text-align: right;\n",
              "    }\n",
              "</style>\n",
              "<table border=\"1\" class=\"dataframe\">\n",
              "  <thead>\n",
              "    <tr style=\"text-align: right;\">\n",
              "      <th></th>\n",
              "      <th>is_sarcastic</th>\n",
              "      <th>headline</th>\n",
              "      <th>article_link</th>\n",
              "    </tr>\n",
              "  </thead>\n",
              "  <tbody>\n",
              "    <tr>\n",
              "      <th>18005</th>\n",
              "      <td>0</td>\n",
              "      <td>why this aborted airplane landing only looks l...</td>\n",
              "      <td>https://www.huffingtonpost.com/entry/plane-lan...</td>\n",
              "    </tr>\n",
              "    <tr>\n",
              "      <th>12730</th>\n",
              "      <td>0</td>\n",
              "      <td>pour it up! rihanna celebrates grammy win with...</td>\n",
              "      <td>https://www.huffingtonpost.com/entry/rihanna-g...</td>\n",
              "    </tr>\n",
              "    <tr>\n",
              "      <th>20024</th>\n",
              "      <td>1</td>\n",
              "      <td>humble ascetic declines in-flight beverage ser...</td>\n",
              "      <td>https://local.theonion.com/humble-ascetic-decl...</td>\n",
              "    </tr>\n",
              "    <tr>\n",
              "      <th>22685</th>\n",
              "      <td>1</td>\n",
              "      <td>romney frantically figuring out how tax plan c...</td>\n",
              "      <td>https://politics.theonion.com/romney-frantical...</td>\n",
              "    </tr>\n",
              "    <tr>\n",
              "      <th>16953</th>\n",
              "      <td>1</td>\n",
              "      <td>'there are no good options in syria,' sighs ma...</td>\n",
              "      <td>https://www.theonion.com/there-are-no-good-opt...</td>\n",
              "    </tr>\n",
              "  </tbody>\n",
              "</table>\n",
              "</div>"
            ],
            "text/plain": [
              "       is_sarcastic  ...                                       article_link\n",
              "18005             0  ...  https://www.huffingtonpost.com/entry/plane-lan...\n",
              "12730             0  ...  https://www.huffingtonpost.com/entry/rihanna-g...\n",
              "20024             1  ...  https://local.theonion.com/humble-ascetic-decl...\n",
              "22685             1  ...  https://politics.theonion.com/romney-frantical...\n",
              "16953             1  ...  https://www.theonion.com/there-are-no-good-opt...\n",
              "\n",
              "[5 rows x 3 columns]"
            ]
          },
          "metadata": {},
          "execution_count": 6
        }
      ]
    },
    {
      "cell_type": "code",
      "metadata": {
        "id": "3-anflgA8uyc"
      },
      "source": [
        "y = df[\"is_sarcastic\"]"
      ],
      "execution_count": null,
      "outputs": []
    },
    {
      "cell_type": "markdown",
      "metadata": {
        "id": "qhe1r8iE3zJN"
      },
      "source": [
        "### Splitting into train and test data"
      ]
    },
    {
      "cell_type": "code",
      "metadata": {
        "id": "kueIJxj7i763"
      },
      "source": [
        "# Split data into train and test\n",
        "X_train,X_test,y_train,y_test=train_test_split(df[\"headline\"],df[\"is_sarcastic\"],test_size=0.2,random_state=0)"
      ],
      "execution_count": null,
      "outputs": []
    },
    {
      "cell_type": "code",
      "metadata": {
        "id": "Q2-hIq-EBYHZ",
        "colab": {
          "base_uri": "https://localhost:8080/"
        },
        "outputId": "1d0b5ce5-793e-4bfa-cb38-4e4d9a2eccc6"
      },
      "source": [
        "X_train.head()"
      ],
      "execution_count": null,
      "outputs": [
        {
          "output_type": "execute_result",
          "data": {
            "text/plain": [
              "11855    cdc warns once-eradicated jitterbug spreading ...\n",
              "13986                30-year-old factors in birthday money\n",
              "21529    amish woman knew she had quilt sale the moment...\n",
              "4787                       playing monopoly with our lives\n",
              "242      realistic day planner only includes first coup...\n",
              "Name: headline, dtype: object"
            ]
          },
          "metadata": {},
          "execution_count": 9
        }
      ]
    },
    {
      "cell_type": "markdown",
      "metadata": {
        "id": "XH7JbpLcSf_x"
      },
      "source": [
        "### Trying out a Keras binary classifier using NNLM 50D embeddings from Tensorflow-Hub.\n"
      ]
    },
    {
      "cell_type": "code",
      "metadata": {
        "id": "MApmYTYZSfDn",
        "colab": {
          "base_uri": "https://localhost:8080/"
        },
        "outputId": "3c0b5393-cf1a-44e1-d23f-ae0c3e71b22e"
      },
      "source": [
        "embedding = \"https://tfhub.dev/google/nnlm-en-dim50/2\"\n",
        "hub_layer = hub.KerasLayer(embedding, input_shape=[], \n",
        "                           dtype=tf.string, trainable=True)\n",
        "\n",
        "# Input data as embeddings directly\n",
        "embedded_x_train = hub_layer(X_train)\n",
        "\n",
        "embedded_x_train = np.array(embedded_x_train)\n",
        "\n",
        "embedded_x_test = hub_layer(X_test)\n",
        "embedded_x_test = np.array(embedded_x_test)"
      ],
      "execution_count": null,
      "outputs": [
        {
          "output_type": "stream",
          "name": "stderr",
          "text": [
            "INFO:absl:Using /tmp/tfhub_modules to cache modules.\n",
            "INFO:absl:Downloading TF-Hub Module 'https://tfhub.dev/google/nnlm-en-dim50/2'.\n",
            "INFO:absl:Downloaded https://tfhub.dev/google/nnlm-en-dim50/2, Total size: 191.83MB\n",
            "INFO:absl:Downloaded TF-Hub Module 'https://tfhub.dev/google/nnlm-en-dim50/2'.\n"
          ]
        }
      ]
    },
    {
      "cell_type": "code",
      "metadata": {
        "colab": {
          "base_uri": "https://localhost:8080/"
        },
        "id": "BNt-vhqyTXtk",
        "outputId": "324ff8a0-73d8-4f76-9f04-d068dab69f6e"
      },
      "source": [
        "len(X_train)"
      ],
      "execution_count": null,
      "outputs": [
        {
          "output_type": "execute_result",
          "data": {
            "text/plain": [
              "22895"
            ]
          },
          "metadata": {},
          "execution_count": 13
        }
      ]
    },
    {
      "cell_type": "code",
      "metadata": {
        "colab": {
          "base_uri": "https://localhost:8080/"
        },
        "id": "HTKvJzH-Sm-H",
        "outputId": "2fac1444-cd96-4409-b9d5-5ccba8e2c9f7"
      },
      "source": [
        "len(embedded_x_train)"
      ],
      "execution_count": null,
      "outputs": [
        {
          "output_type": "execute_result",
          "data": {
            "text/plain": [
              "22895"
            ]
          },
          "metadata": {},
          "execution_count": 14
        }
      ]
    },
    {
      "cell_type": "markdown",
      "metadata": {
        "id": "WgYwwYFB4F63"
      },
      "source": [
        "### Defining the Keras early stopping callback based on loss"
      ]
    },
    {
      "cell_type": "code",
      "metadata": {
        "id": "R30gcQ_HSnFi"
      },
      "source": [
        "# Define Model\n",
        "\n",
        "tf.keras.backend.clear_session()\n",
        "tf.random.set_seed(51)\n",
        "np.random.seed(51)\n",
        "\n",
        "# Defining Early stopping to stop training if validation accuracy does not improve within five epochs\n",
        "callback = tf.keras.callbacks.EarlyStopping(\n",
        "    monitor=\"loss\",\n",
        "    patience=5,\n",
        "    verbose=1,\n",
        "    restore_best_weights=True,\n",
        ")"
      ],
      "execution_count": null,
      "outputs": []
    },
    {
      "cell_type": "markdown",
      "metadata": {
        "id": "dNvti5dK4NN5"
      },
      "source": [
        "### Creating and adding Dense layers to the Keras model"
      ]
    },
    {
      "cell_type": "code",
      "metadata": {
        "id": "0ijg8-oKSnL1"
      },
      "source": [
        "# Create model\n",
        "model = Sequential()\n",
        "model.add(Dense(50, input_dim=50, activation='relu'))\n",
        "model.add(Dense(25, activation='relu'))\n",
        "model.add(Dense(1, activation='sigmoid'))\n",
        "\n",
        "# Compile model\n",
        "model.compile(loss='binary_crossentropy', optimizer='adam', metrics=['accuracy'])"
      ],
      "execution_count": null,
      "outputs": []
    },
    {
      "cell_type": "markdown",
      "metadata": {
        "id": "93Mk2AE54SZa"
      },
      "source": [
        "### Training the model using embedded train vectors and y_train"
      ]
    },
    {
      "cell_type": "code",
      "metadata": {
        "colab": {
          "base_uri": "https://localhost:8080/"
        },
        "id": "nlSyHi50UoXx",
        "outputId": "a9c40f85-cb51-490a-9e99-93895a2e38c9"
      },
      "source": [
        "train_history = model.fit(embedded_x_train, y_train, epochs=30, batch_size=16, callbacks = [callback])"
      ],
      "execution_count": null,
      "outputs": [
        {
          "output_type": "stream",
          "name": "stdout",
          "text": [
            "Epoch 1/30\n",
            "1431/1431 [==============================] - 8s 4ms/step - loss: 0.5340 - accuracy: 0.7324\n",
            "Epoch 2/30\n",
            "1431/1431 [==============================] - 5s 4ms/step - loss: 0.4875 - accuracy: 0.7610\n",
            "Epoch 3/30\n",
            "1431/1431 [==============================] - 5s 4ms/step - loss: 0.4722 - accuracy: 0.7732\n",
            "Epoch 4/30\n",
            "1431/1431 [==============================] - 5s 4ms/step - loss: 0.4614 - accuracy: 0.7777\n",
            "Epoch 5/30\n",
            "1431/1431 [==============================] - 5s 4ms/step - loss: 0.4532 - accuracy: 0.7839\n",
            "Epoch 6/30\n",
            "1431/1431 [==============================] - 5s 4ms/step - loss: 0.4463 - accuracy: 0.7874\n",
            "Epoch 7/30\n",
            "1431/1431 [==============================] - 5s 4ms/step - loss: 0.4400 - accuracy: 0.7901\n",
            "Epoch 8/30\n",
            "1431/1431 [==============================] - 5s 4ms/step - loss: 0.4351 - accuracy: 0.7964\n",
            "Epoch 9/30\n",
            "1431/1431 [==============================] - 5s 4ms/step - loss: 0.4309 - accuracy: 0.7981\n",
            "Epoch 10/30\n",
            "1431/1431 [==============================] - 5s 4ms/step - loss: 0.4261 - accuracy: 0.8007\n",
            "Epoch 11/30\n",
            "1431/1431 [==============================] - 5s 4ms/step - loss: 0.4231 - accuracy: 0.8031\n",
            "Epoch 12/30\n",
            "1431/1431 [==============================] - 5s 4ms/step - loss: 0.4187 - accuracy: 0.8064\n",
            "Epoch 13/30\n",
            "1431/1431 [==============================] - 5s 4ms/step - loss: 0.4147 - accuracy: 0.8092\n",
            "Epoch 14/30\n",
            "1431/1431 [==============================] - 5s 4ms/step - loss: 0.4103 - accuracy: 0.8096\n",
            "Epoch 15/30\n",
            "1431/1431 [==============================] - 5s 4ms/step - loss: 0.4089 - accuracy: 0.8111\n",
            "Epoch 16/30\n",
            "1431/1431 [==============================] - 5s 4ms/step - loss: 0.4053 - accuracy: 0.8143\n",
            "Epoch 17/30\n",
            "1431/1431 [==============================] - 5s 4ms/step - loss: 0.4032 - accuracy: 0.8149\n",
            "Epoch 18/30\n",
            "1431/1431 [==============================] - 5s 4ms/step - loss: 0.4007 - accuracy: 0.8159\n",
            "Epoch 19/30\n",
            "1431/1431 [==============================] - 5s 4ms/step - loss: 0.3975 - accuracy: 0.8174\n",
            "Epoch 20/30\n",
            "1431/1431 [==============================] - 5s 4ms/step - loss: 0.3952 - accuracy: 0.8187\n",
            "Epoch 21/30\n",
            "1431/1431 [==============================] - 5s 4ms/step - loss: 0.3926 - accuracy: 0.8190\n",
            "Epoch 22/30\n",
            "1431/1431 [==============================] - 5s 4ms/step - loss: 0.3919 - accuracy: 0.8194\n",
            "Epoch 23/30\n",
            "1431/1431 [==============================] - 5s 4ms/step - loss: 0.3888 - accuracy: 0.8221\n",
            "Epoch 24/30\n",
            "1431/1431 [==============================] - 5s 4ms/step - loss: 0.3865 - accuracy: 0.8225\n",
            "Epoch 25/30\n",
            "1431/1431 [==============================] - 5s 4ms/step - loss: 0.3843 - accuracy: 0.8246\n",
            "Epoch 26/30\n",
            "1431/1431 [==============================] - 5s 4ms/step - loss: 0.3825 - accuracy: 0.8269\n",
            "Epoch 27/30\n",
            "1431/1431 [==============================] - 5s 4ms/step - loss: 0.3817 - accuracy: 0.8269\n",
            "Epoch 28/30\n",
            "1431/1431 [==============================] - 5s 4ms/step - loss: 0.3787 - accuracy: 0.8287\n",
            "Epoch 29/30\n",
            "1431/1431 [==============================] - 5s 4ms/step - loss: 0.3770 - accuracy: 0.8290\n",
            "Epoch 30/30\n",
            "1431/1431 [==============================] - 5s 4ms/step - loss: 0.3747 - accuracy: 0.8289\n"
          ]
        }
      ]
    },
    {
      "cell_type": "code",
      "metadata": {
        "colab": {
          "base_uri": "https://localhost:8080/",
          "height": 295
        },
        "id": "o2wF1syxPjl1",
        "outputId": "43077332-05a3-4d57-eade-bc66b5520d21"
      },
      "source": [
        "# Summarize history for accuracy\n",
        "plt.plot(train_history.history['accuracy'])\n",
        "plt.plot(train_history.history['loss'])\n",
        "plt.title('model accuracy vs loss')\n",
        "plt.ylabel('accuracy/loss')\n",
        "plt.xlabel('epoch')\n",
        "plt.legend(['accuracy', 'loss'], loc='upper left')\n",
        "plt.show()"
      ],
      "execution_count": null,
      "outputs": [
        {
          "output_type": "display_data",
          "data": {
            "image/png": "[encoded data removed]",
            "text/plain": [
              "<Figure size 432x288 with 1 Axes>"
            ]
          },
          "metadata": {
            "needs_background": "light"
          }
        }
      ]
    },
    {
      "cell_type": "markdown",
      "metadata": {
        "id": "x7tFXDbv4esD"
      },
      "source": [
        "### Looks like the model was was close to converging, however to avoid overfitting, model training was stopped at 30 epochs.\n",
        "\n",
        "### Final loss was **0.3747** and accuracy was recorded to be **0.8289**"
      ]
    },
    {
      "cell_type": "code",
      "metadata": {
        "id": "9bgXIRLFUo96"
      },
      "source": [
        "y_pred = model.predict(embedded_x_test)\n",
        "y_pred_1d = y_pred.ravel()"
      ],
      "execution_count": null,
      "outputs": []
    },
    {
      "cell_type": "code",
      "metadata": {
        "colab": {
          "base_uri": "https://localhost:8080/"
        },
        "id": "QYJqaOKTXQad",
        "outputId": "21056ae6-0282-4c9e-db03-9d86a00e43f3"
      },
      "source": [
        "y_pred_1d.shape"
      ],
      "execution_count": null,
      "outputs": [
        {
          "output_type": "execute_result",
          "data": {
            "text/plain": [
              "(5724,)"
            ]
          },
          "metadata": {},
          "execution_count": 30
        }
      ]
    },
    {
      "cell_type": "markdown",
      "metadata": {
        "id": "qnM1oirE5DnL"
      },
      "source": [
        "### Cleaning up the output and classifying into 0 or 1 based on 0.5 as the threshold."
      ]
    },
    {
      "cell_type": "code",
      "metadata": {
        "id": "34rnwTwUWqcu"
      },
      "source": [
        "y_pred_cleaned = pd.Series(y_pred_1d).apply(lambda x: 0 if x < 0.5 else 1)"
      ],
      "execution_count": null,
      "outputs": []
    },
    {
      "cell_type": "code",
      "metadata": {
        "colab": {
          "base_uri": "https://localhost:8080/"
        },
        "id": "aahc_lT6X0rk",
        "outputId": "f9ff77a0-4703-47c1-dc00-97c798c2417a"
      },
      "source": [
        "metrics.confusion_matrix(y_test, y_pred_cleaned)"
      ],
      "execution_count": null,
      "outputs": [
        {
          "output_type": "execute_result",
          "data": {
            "text/plain": [
              "array([[2366,  664],\n",
              "       [ 692, 2002]])"
            ]
          },
          "metadata": {},
          "execution_count": 35
        }
      ]
    },
    {
      "cell_type": "code",
      "metadata": {
        "colab": {
          "base_uri": "https://localhost:8080/"
        },
        "id": "YdH3DqzRX7k4",
        "outputId": "85739bdd-5f2e-4cc2-ea27-bbd09b6fcae0"
      },
      "source": [
        "target_names = ['normal', 'sarcastic']\n",
        "print(classification_report(y_test, y_pred_cleaned, target_names=target_names))"
      ],
      "execution_count": null,
      "outputs": [
        {
          "output_type": "stream",
          "name": "stdout",
          "text": [
            "              precision    recall  f1-score   support\n",
            "\n",
            "      normal       0.77      0.78      0.78      3030\n",
            "   sarcastic       0.75      0.74      0.75      2694\n",
            "\n",
            "    accuracy                           0.76      5724\n",
            "   macro avg       0.76      0.76      0.76      5724\n",
            "weighted avg       0.76      0.76      0.76      5724\n",
            "\n"
          ]
        }
      ]
    },
    {
      "cell_type": "markdown",
      "metadata": {
        "id": "bCARqZjh5Tcv"
      },
      "source": [
        "### The precision and recall on the training set was found to be 0.76, and F1-score was found to be 0.76 as well. This model seems to perform about as well as the best ML model found in the previous notebook, which was the Light Gradient Boosting Model or LGBM."
      ]
    },
    {
      "cell_type": "code",
      "metadata": {
        "id": "kyyHvjuCYOcc"
      },
      "source": [
        "y_pred_train = model.predict(embedded_x_train)\n",
        "y_pred_train_1d = y_pred_train.ravel()\n",
        "y_pred_train_cleaned = pd.Series(y_pred_train_1d).apply(lambda x: 0 if x < 0.5 else 1)"
      ],
      "execution_count": null,
      "outputs": []
    },
    {
      "cell_type": "code",
      "metadata": {
        "colab": {
          "base_uri": "https://localhost:8080/"
        },
        "id": "J1eaAFkpYJMQ",
        "outputId": "20636be1-b54d-40ad-abee-79d687905c6b"
      },
      "source": [
        "metrics.confusion_matrix(y_train, y_pred_train_cleaned)"
      ],
      "execution_count": null,
      "outputs": [
        {
          "output_type": "execute_result",
          "data": {
            "text/plain": [
              "array([[10215,  1740],\n",
              "       [ 1944,  8996]])"
            ]
          },
          "metadata": {},
          "execution_count": 38
        }
      ]
    },
    {
      "cell_type": "code",
      "metadata": {
        "colab": {
          "base_uri": "https://localhost:8080/"
        },
        "id": "UylroQH7YStD",
        "outputId": "f1d85d9b-7462-4acf-b2f1-acd6927f5723"
      },
      "source": [
        "target_names = ['normal', 'sarcastic']\n",
        "print(classification_report(y_train, y_pred_train_cleaned, target_names=target_names))"
      ],
      "execution_count": null,
      "outputs": [
        {
          "output_type": "stream",
          "name": "stdout",
          "text": [
            "              precision    recall  f1-score   support\n",
            "\n",
            "      normal       0.84      0.85      0.85     11955\n",
            "   sarcastic       0.84      0.82      0.83     10940\n",
            "\n",
            "    accuracy                           0.84     22895\n",
            "   macro avg       0.84      0.84      0.84     22895\n",
            "weighted avg       0.84      0.84      0.84     22895\n",
            "\n"
          ]
        }
      ]
    },
    {
      "cell_type": "markdown",
      "metadata": {
        "id": "C_xpqqO15uYa"
      },
      "source": [
        "### The model performs slightly better on the training set as expected. The metrics even point to a slight bit of overfitting. \n",
        "\n",
        "### Best metrics on the train dataset were precision, recall and F1-score of 0.84 compared to 0.76 on the test dataset."
      ]
    },
    {
      "cell_type": "markdown",
      "metadata": {
        "id": "V0EDevhFBeXS"
      },
      "source": [
        "## Trying out the BERT model now from the Transformers library"
      ]
    },
    {
      "cell_type": "markdown",
      "metadata": {
        "id": "be0DueuyHiIE"
      },
      "source": [
        "### Reference: https://towardsdatascience.com/sentiment-analysis-in-10-minutes-with-bert-and-hugging-face-294e8a04b671"
      ]
    },
    {
      "cell_type": "markdown",
      "metadata": {
        "id": "3s33R4mc6Na4"
      },
      "source": [
        "### Initializing the model"
      ]
    },
    {
      "cell_type": "code",
      "metadata": {
        "colab": {
          "base_uri": "https://localhost:8080/",
          "height": 246,
          "referenced_widgets": [
            "1459442e98f14368a70d82768fa05a28",
            "e8073d9df0ea4fb79a305572f57114dd",
            "dc999009fc75419096698b1900b94247",
            "82959aa1b6e646598ce9691a6035fcbc",
            "078959fcfa4549b5b090b2613e8755d3",
            "c3db5b302c3c4e8ab64002f03c0a817d",
            "266cb5b01f95474ab931a546eff9f3a2",
            "35541ce19ab045169800defd8f69a5b8",
            "9dee772003ad446da89d6c3e1e0ee5a8",
            "4358756b3ddd4e3787ab971205ba1bae",
            "e74ad40cb42e44b9a3b19e061fec4539",
            "91b2503e8e5047e198407ebc0e097450",
            "638ba961be6f46c49dc690d36444be8e",
            "b06a96f11bd140f1b21496bd03dc77c5",
            "c73cff2b1d9e4b37a67f3d634c000bfb",
            "2e3e3177970c4ad1aaa235ea50ac34d0",
            "0c569fd1ef064c24b4c4c0333fa92bae",
            "2a7b9d10b09a4d0abeedc66bd4c981fb",
            "435629041b554252b6fdda89d6c528cf",
            "8f5f2fa7675e42a2990768a88f1ae2ec",
            "1e43c3db14984c3d90e5f96bb78ec23c",
            "122465cbd5364ac392c1618d4c807288",
            "491a66668db34700b8d0f7603ed3f79b",
            "caff8ff9be194d5aafffd9ecc2182bc2",
            "95a0d9bb2a6e4464a99794de677de89e",
            "4f4bcaecedb24da9b93b2b7ae4a06a6a",
            "908a31f025024b7d8ca25b9696fbf330",
            "e2b2cfb03674494690dc837dfb14e994",
            "060a958bf46840fcb11ed872e02d9edd",
            "78986b3cfb7b4c569f2d68fb50518638",
            "bfbb4810ce6446ccb937acc07c7bcec9",
            "1ed746c98da84fd096f03183b4fbeb4d",
            "6b3f0064cdf6495b8c6179776d11e9b0",
            "12b0cc4248da4442b67ffcab1b3e6c59",
            "71ca161ce15343b1ac2a9a54d6a8ec12",
            "62f9abfbf9354368b591c5d6af2144a6",
            "c69f966c82c840abb21c974d217f824d",
            "27d073500f104265a116773b5f4d9cc2",
            "6c093be6b1e347c5b313e69709e186bd",
            "b4c2c717d2f04660aad4e55eb74775e3",
            "b1649180846d464aabe53b39acddf75a",
            "ae150dfcbc1e46be8f90ba97c0176ce6",
            "8d41eb9084294db7a6c56161cb91ecde",
            "fc142411418e438c924ea55111ff3e83",
            "314968cdd4734f9d922273399d5eb13c",
            "a21a518aa3e340f4b29a66b6c872420b",
            "2c96d75891f94b54a0103dba455ea7e4",
            "40817e36e7e149c58ed144f5f68283b6",
            "a7ba5632e43d469ca8792c84207a4dec",
            "9d7eaec655f0464d991e191b630b56b7",
            "c9f40c9d732f43bbbcf3889422ec94c8",
            "7b8cdfb60c0347948169fb6351c60f1e",
            "8179ba44570b43288df7e263347c122a",
            "82b1f00459da4d00af141ea9da325356",
            "42acf60ea2a34ff38c4c92b09f41a194"
          ]
        },
        "id": "cFxbWJ_dBZHU",
        "outputId": "bbef0ee2-5687-4963-a406-29492b6ec510"
      },
      "source": [
        "model = TFBertForSequenceClassification.from_pretrained(\"bert-base-uncased\")\n",
        "tokenizer = BertTokenizer.from_pretrained(\"bert-base-uncased\")"
      ],
      "execution_count": null,
      "outputs": [
        {
          "output_type": "display_data",
          "data": {
            "application/vnd.jupyter.widget-view+json": {
              "model_id": "1459442e98f14368a70d82768fa05a28",
              "version_minor": 0,
              "version_major": 2
            },
            "text/plain": [
              "Downloading:   0%|          | 0.00/570 [00:00<?, ?B/s]"
            ]
          },
          "metadata": {}
        },
        {
          "output_type": "display_data",
          "data": {
            "application/vnd.jupyter.widget-view+json": {
              "model_id": "91b2503e8e5047e198407ebc0e097450",
              "version_minor": 0,
              "version_major": 2
            },
            "text/plain": [
              "Downloading:   0%|          | 0.00/511M [00:00<?, ?B/s]"
            ]
          },
          "metadata": {}
        },
        {
          "output_type": "stream",
          "name": "stderr",
          "text": [
            "All model checkpoint layers were used when initializing TFBertForSequenceClassification.\n",
            "\n",
            "Some layers of TFBertForSequenceClassification were not initialized from the model checkpoint at bert-base-uncased and are newly initialized: ['classifier']\n",
            "You should probably TRAIN this model on a down-stream task to be able to use it for predictions and inference.\n"
          ]
        },
        {
          "output_type": "display_data",
          "data": {
            "application/vnd.jupyter.widget-view+json": {
              "model_id": "491a66668db34700b8d0f7603ed3f79b",
              "version_minor": 0,
              "version_major": 2
            },
            "text/plain": [
              "Downloading:   0%|          | 0.00/226k [00:00<?, ?B/s]"
            ]
          },
          "metadata": {}
        },
        {
          "output_type": "display_data",
          "data": {
            "application/vnd.jupyter.widget-view+json": {
              "model_id": "12b0cc4248da4442b67ffcab1b3e6c59",
              "version_minor": 0,
              "version_major": 2
            },
            "text/plain": [
              "Downloading:   0%|          | 0.00/28.0 [00:00<?, ?B/s]"
            ]
          },
          "metadata": {}
        },
        {
          "output_type": "display_data",
          "data": {
            "application/vnd.jupyter.widget-view+json": {
              "model_id": "314968cdd4734f9d922273399d5eb13c",
              "version_minor": 0,
              "version_major": 2
            },
            "text/plain": [
              "Downloading:   0%|          | 0.00/455k [00:00<?, ?B/s]"
            ]
          },
          "metadata": {}
        }
      ]
    },
    {
      "cell_type": "code",
      "metadata": {
        "colab": {
          "base_uri": "https://localhost:8080/"
        },
        "id": "6tlyJm-sEKAz",
        "outputId": "25f74b97-59fe-4f8c-b360-388b9be52f16"
      },
      "source": [
        "model.summary()"
      ],
      "execution_count": null,
      "outputs": [
        {
          "output_type": "stream",
          "name": "stdout",
          "text": [
            "Model: \"tf_bert_for_sequence_classification\"\n",
            "_________________________________________________________________\n",
            "Layer (type)                 Output Shape              Param #   \n",
            "=================================================================\n",
            "bert (TFBertMainLayer)       multiple                  109482240 \n",
            "_________________________________________________________________\n",
            "dropout_37 (Dropout)         multiple                  0         \n",
            "_________________________________________________________________\n",
            "classifier (Dense)           multiple                  1538      \n",
            "=================================================================\n",
            "Total params: 109,483,778\n",
            "Trainable params: 109,483,778\n",
            "Non-trainable params: 0\n",
            "_________________________________________________________________\n"
          ]
        }
      ]
    },
    {
      "cell_type": "code",
      "metadata": {
        "colab": {
          "base_uri": "https://localhost:8080/"
        },
        "id": "gS9n5ejd_F-i",
        "outputId": "5b3ace52-ca10-4ded-906c-bd9284e7be15"
      },
      "source": [
        "X_train.head()"
      ],
      "execution_count": null,
      "outputs": [
        {
          "output_type": "execute_result",
          "data": {
            "text/plain": [
              "11855    cdc warns once-eradicated jitterbug spreading ...\n",
              "13986                30-year-old factors in birthday money\n",
              "21529    amish woman knew she had quilt sale the moment...\n",
              "4787                       playing monopoly with our lives\n",
              "242      realistic day planner only includes first coup...\n",
              "Name: headline, dtype: object"
            ]
          },
          "metadata": {},
          "execution_count": 12
        }
      ]
    },
    {
      "cell_type": "code",
      "metadata": {
        "id": "PrdAUZdANZUq"
      },
      "source": [
        "# Split data into train and test\n",
        "\n",
        "train = pd.DataFrame.from_records(\n",
        "    {\n",
        "        \"DATA_COLUMN\" : X_train,\n",
        "        \"LABEL_COLUMN\" : y_train\n",
        "    }\n",
        ")\n",
        "\n",
        "test = pd.DataFrame.from_records(\n",
        "    {\n",
        "        \"DATA_COLUMN\" : X_test,\n",
        "        \"LABEL_COLUMN\" : y_test\n",
        "    }\n",
        ")"
      ],
      "execution_count": null,
      "outputs": []
    },
    {
      "cell_type": "markdown",
      "metadata": {
        "id": "kLSxNwd46if_"
      },
      "source": [
        "### We define custom functions to convert our vanilla pandas dataframe dataset into a tensorflow dataset to use with BERT"
      ]
    },
    {
      "cell_type": "code",
      "metadata": {
        "id": "0wU0j2i0IdWJ"
      },
      "source": [
        "def convert_data_to_examples(train, test, DATA_COLUMN, LABEL_COLUMN): \n",
        "  train_InputExamples = train.apply(lambda x: InputExample(guid=None, \n",
        "                                                          text_a = x[DATA_COLUMN], \n",
        "                                                          text_b = None,\n",
        "                                                          label = x[LABEL_COLUMN]), axis = 1)\n",
        "\n",
        "  validation_InputExamples = test.apply(lambda x: InputExample(guid=None, \n",
        "                                                          text_a = x[DATA_COLUMN], \n",
        "                                                          text_b = None,\n",
        "                                                          label = x[LABEL_COLUMN]), axis = 1)\n",
        "  \n",
        "  return train_InputExamples, validation_InputExamples\n",
        "  \n",
        "def convert_examples_to_tf_dataset(examples, tokenizer, max_length=128):\n",
        "    features = [] # will hold InputFeatures to be converted later\n",
        "\n",
        "    for e in examples:\n",
        "        input_dict = tokenizer.encode_plus(\n",
        "            e.text_a,\n",
        "            add_special_tokens=True,\n",
        "            max_length=max_length, # truncates if len(s) > max_length\n",
        "            return_token_type_ids=True,\n",
        "            return_attention_mask=True,\n",
        "            pad_to_max_length=True, # pads to the right by default \n",
        "            truncation=True\n",
        "        )\n",
        "\n",
        "        input_ids, token_type_ids, attention_mask = (input_dict[\"input_ids\"],\n",
        "            input_dict[\"token_type_ids\"], input_dict['attention_mask'])\n",
        "\n",
        "        features.append(\n",
        "            InputFeatures(\n",
        "                input_ids=input_ids, attention_mask=attention_mask, token_type_ids=token_type_ids, label=e.label\n",
        "            )\n",
        "        )\n",
        "\n",
        "    def gen():\n",
        "        for f in features:\n",
        "            yield (\n",
        "                {\n",
        "                    \"input_ids\": f.input_ids,\n",
        "                    \"attention_mask\": f.attention_mask,\n",
        "                    \"token_type_ids\": f.token_type_ids,\n",
        "                },\n",
        "                f.label,\n",
        "            )\n",
        "\n",
        "    return tf.data.Dataset.from_generator(\n",
        "        gen,\n",
        "        ({\"input_ids\": tf.int32, \"attention_mask\": tf.int32, \"token_type_ids\": tf.int32}, tf.int64),\n",
        "        (\n",
        "            {\n",
        "                \"input_ids\": tf.TensorShape([None]),\n",
        "                \"attention_mask\": tf.TensorShape([None]),\n",
        "                \"token_type_ids\": tf.TensorShape([None]),\n",
        "            },\n",
        "            tf.TensorShape([]),\n",
        "        ),\n",
        "    )\n",
        "\n",
        "\n",
        "DATA_COLUMN = 'DATA_COLUMN'\n",
        "LABEL_COLUMN = 'LABEL_COLUMN'"
      ],
      "execution_count": null,
      "outputs": []
    },
    {
      "cell_type": "code",
      "metadata": {
        "colab": {
          "base_uri": "https://localhost:8080/"
        },
        "id": "1AG7f7SaFjP6",
        "outputId": "d898d521-971c-4eba-990d-e9e449179fa4"
      },
      "source": [
        "train_InputExamples, validation_InputExamples = convert_data_to_examples(train, test, DATA_COLUMN, LABEL_COLUMN)\n",
        "\n",
        "train_data = convert_examples_to_tf_dataset(list(train_InputExamples), tokenizer)\n",
        "train_data = train_data.shuffle(100).batch(32)\n",
        "\n",
        "validation_data = convert_examples_to_tf_dataset(list(validation_InputExamples), tokenizer)\n",
        "validation_data = validation_data.batch(32)"
      ],
      "execution_count": null,
      "outputs": [
        {
          "output_type": "stream",
          "name": "stderr",
          "text": [
            "/usr/local/lib/python3.7/dist-packages/transformers/tokenization_utils_base.py:2217: FutureWarning: The `pad_to_max_length` argument is deprecated and will be removed in a future version, use `padding=True` or `padding='longest'` to pad to the longest sequence in the batch, or use `padding='max_length'` to pad to a max length. In this case, you can give a specific length with `max_length` (e.g. `max_length=45`) or leave max_length to None to pad to the maximal input size of the model (e.g. 512 for Bert).\n",
            "  FutureWarning,\n"
          ]
        }
      ]
    },
    {
      "cell_type": "markdown",
      "metadata": {
        "id": "RtbaXIPt6udV"
      },
      "source": [
        "Looking at an example in the train data. BERT needs the vectorized input, along with the attention mask, token_type_ids (not used here) as well as the y_labels in batches of 32. \n",
        "\n",
        "Max batch size depends on GPU VRAM size. Batch size greater than 32 did not seem to work."
      ]
    },
    {
      "cell_type": "code",
      "metadata": {
        "colab": {
          "base_uri": "https://localhost:8080/"
        },
        "id": "432Er4SqaQfB",
        "outputId": "c311d161-ba90-4ab5-d7ff-1d51e3f3cf29"
      },
      "source": [
        "for x in train_data:\n",
        "  print(x)\n",
        "  break"
      ],
      "execution_count": null,
      "outputs": [
        {
          "output_type": "stream",
          "name": "stdout",
          "text": [
            "({'input_ids': <tf.Tensor: shape=(32, 128), dtype=int32, numpy=\n",
            "array([[  101,  3870,  6031, ...,     0,     0,     0],\n",
            "       [  101,  6014, 14816, ...,     0,     0,     0],\n",
            "       [  101,  2158,  5496, ...,     0,     0,     0],\n",
            "       ...,\n",
            "       [  101,  2047,  2381, ...,     0,     0,     0],\n",
            "       [  101, 23222,  2402, ...,     0,     0,     0],\n",
            "       [  101,  8398, 17472, ...,     0,     0,     0]], dtype=int32)>, 'attention_mask': <tf.Tensor: shape=(32, 128), dtype=int32, numpy=\n",
            "array([[1, 1, 1, ..., 0, 0, 0],\n",
            "       [1, 1, 1, ..., 0, 0, 0],\n",
            "       [1, 1, 1, ..., 0, 0, 0],\n",
            "       ...,\n",
            "       [1, 1, 1, ..., 0, 0, 0],\n",
            "       [1, 1, 1, ..., 0, 0, 0],\n",
            "       [1, 1, 1, ..., 0, 0, 0]], dtype=int32)>, 'token_type_ids': <tf.Tensor: shape=(32, 128), dtype=int32, numpy=\n",
            "array([[0, 0, 0, ..., 0, 0, 0],\n",
            "       [0, 0, 0, ..., 0, 0, 0],\n",
            "       [0, 0, 0, ..., 0, 0, 0],\n",
            "       ...,\n",
            "       [0, 0, 0, ..., 0, 0, 0],\n",
            "       [0, 0, 0, ..., 0, 0, 0],\n",
            "       [0, 0, 0, ..., 0, 0, 0]], dtype=int32)>}, <tf.Tensor: shape=(32,), dtype=int64, numpy=\n",
            "array([1, 1, 0, 1, 1, 1, 1, 0, 0, 0, 1, 0, 1, 0, 1, 0, 1, 1, 0, 1, 1, 0,\n",
            "       0, 0, 0, 1, 0, 0, 0, 1, 1, 1])>)\n"
          ]
        }
      ]
    },
    {
      "cell_type": "markdown",
      "metadata": {
        "id": "9R8ySm-J7JHG"
      },
      "source": [
        "### Compiling and fitting the model on the train data"
      ]
    },
    {
      "cell_type": "code",
      "metadata": {
        "colab": {
          "base_uri": "https://localhost:8080/"
        },
        "id": "fuLpIrwWF9OI",
        "outputId": "d2a6ba80-2fe4-4570-8299-c6c36fd5931e"
      },
      "source": [
        "model.compile(optimizer=tf.keras.optimizers.Adam(learning_rate=3e-5, epsilon=1e-08, clipnorm=1.0), \n",
        "              loss=tf.keras.losses.SparseCategoricalCrossentropy(from_logits=True), \n",
        "              metrics=[tf.keras.metrics.SparseCategoricalAccuracy('accuracy')])\n",
        "\n",
        "history = model.fit(train_data, epochs=1, validation_data=validation_data, verbose = 1)"
      ],
      "execution_count": null,
      "outputs": [
        {
          "output_type": "stream",
          "name": "stdout",
          "text": [
            "716/716 [==============================] - 1143s 2s/step - loss: 0.0664 - accuracy: 0.9776 - val_loss: 0.1980 - val_accuracy: 0.9313\n"
          ]
        }
      ]
    },
    {
      "cell_type": "code",
      "metadata": {
        "colab": {
          "base_uri": "https://localhost:8080/"
        },
        "id": "pkJsrx-GGyEl",
        "outputId": "c4ffa57b-b145-4d21-9179-7f9c453064bd"
      },
      "source": [
        "history.history"
      ],
      "execution_count": null,
      "outputs": [
        {
          "output_type": "execute_result",
          "data": {
            "text/plain": [
              "{'accuracy': [0.9775933623313904],\n",
              " 'loss': [0.06642692536115646],\n",
              " 'val_accuracy': [0.9313417077064514],\n",
              " 'val_loss': [0.1979941725730896]}"
            ]
          },
          "metadata": {},
          "execution_count": 26
        }
      ]
    },
    {
      "cell_type": "markdown",
      "metadata": {
        "id": "w710MLV68bzy"
      },
      "source": [
        "### Training accuracy was recorded to be **0.977** after just 1 epoch (close to overfitting), while the validation accuracy was recorded to be **0.931**\n",
        "\n",
        "### We are already seeing much better performance compared to \"traditional\" ML models and even simple Keras neural networks by using BERT."
      ]
    },
    {
      "cell_type": "markdown",
      "metadata": {
        "id": "l75rH-vn7mvk"
      },
      "source": [
        "### Testing the model on manually written news headlines"
      ]
    },
    {
      "cell_type": "code",
      "metadata": {
        "id": "Rr2H5zm9Jbuz"
      },
      "source": [
        "# Test model prediction on example news headlines\n",
        "pred_sentences = ['Elon musk rides Doge coin to the moon',\n",
        "                  'China may be using sea to hide its submarines',\n",
        "                  'Miracle cure kills fifth patient',\n",
        "                  'Apple becomes first trillion dollar company']\n"
      ],
      "execution_count": null,
      "outputs": []
    },
    {
      "cell_type": "code",
      "metadata": {
        "colab": {
          "base_uri": "https://localhost:8080/"
        },
        "id": "jxUYgDSlJpte",
        "outputId": "5ff6ce98-786d-4fa2-9096-8e84a4ba0d15"
      },
      "source": [
        "tf_batch = tokenizer(pred_sentences, max_length=128, padding=True, truncation=True, return_tensors='tf')\n",
        "tf_outputs = model(tf_batch)\n",
        "tf_predictions = tf.nn.softmax(tf_outputs[0], axis=-1)\n",
        "labels = ['Normal','Sarcastic']\n",
        "label = tf.argmax(tf_predictions, axis=1)\n",
        "label = label.numpy()\n",
        "for i in range(len(pred_sentences)):\n",
        "  print(pred_sentences[i], \":\", labels[label[i]])"
      ],
      "execution_count": null,
      "outputs": [
        {
          "output_type": "stream",
          "text": [
            "Elon musk rides Doge coin to the moon : Normal\n",
            "China may be using sea to hide its submarines : Normal\n",
            "Miracle cure kills fifth patient : Sarcastic\n",
            "Apple becomes first trillion dollar company : Sarcastic\n"
          ],
          "name": "stdout"
        }
      ]
    },
    {
      "cell_type": "markdown",
      "metadata": {
        "id": "1Rt3vxlp7w59"
      },
      "source": [
        "#### The model did not seem to accurately predict Normal/Sarcastic for manually written sentences as the tone and style may not have matched the training dataset."
      ]
    },
    {
      "cell_type": "code",
      "metadata": {
        "colab": {
          "base_uri": "https://localhost:8080/",
          "height": 206
        },
        "id": "01FviA70Z7XR",
        "outputId": "18cec0e9-67cf-4de4-89ce-2c3b6ae324f6"
      },
      "source": [
        "test[:5]"
      ],
      "execution_count": null,
      "outputs": [
        {
          "output_type": "execute_result",
          "data": {
            "text/html": [
              "<div>\n",
              "<style scoped>\n",
              "    .dataframe tbody tr th:only-of-type {\n",
              "        vertical-align: middle;\n",
              "    }\n",
              "\n",
              "    .dataframe tbody tr th {\n",
              "        vertical-align: top;\n",
              "    }\n",
              "\n",
              "    .dataframe thead th {\n",
              "        text-align: right;\n",
              "    }\n",
              "</style>\n",
              "<table border=\"1\" class=\"dataframe\">\n",
              "  <thead>\n",
              "    <tr style=\"text-align: right;\">\n",
              "      <th></th>\n",
              "      <th>DATA_COLUMN</th>\n",
              "      <th>LABEL_COLUMN</th>\n",
              "    </tr>\n",
              "  </thead>\n",
              "  <tbody>\n",
              "    <tr>\n",
              "      <th>151</th>\n",
              "      <td>exasperated huckabee sanders reminds press cor...</td>\n",
              "      <td>1</td>\n",
              "    </tr>\n",
              "    <tr>\n",
              "      <th>17228</th>\n",
              "      <td>if only all tampon ads were this honest</td>\n",
              "      <td>0</td>\n",
              "    </tr>\n",
              "    <tr>\n",
              "      <th>4725</th>\n",
              "      <td>moviegoer manages to sneak candy past teenage ...</td>\n",
              "      <td>1</td>\n",
              "    </tr>\n",
              "    <tr>\n",
              "      <th>4258</th>\n",
              "      <td>noaa predicts we'll see more hurricanes this y...</td>\n",
              "      <td>0</td>\n",
              "    </tr>\n",
              "    <tr>\n",
              "      <th>12250</th>\n",
              "      <td>new lawn-care product makes neighbor's lawn le...</td>\n",
              "      <td>1</td>\n",
              "    </tr>\n",
              "  </tbody>\n",
              "</table>\n",
              "</div>"
            ],
            "text/plain": [
              "                                             DATA_COLUMN  LABEL_COLUMN\n",
              "151    exasperated huckabee sanders reminds press cor...             1\n",
              "17228            if only all tampon ads were this honest             0\n",
              "4725   moviegoer manages to sneak candy past teenage ...             1\n",
              "4258   noaa predicts we'll see more hurricanes this y...             0\n",
              "12250  new lawn-care product makes neighbor's lawn le...             1"
            ]
          },
          "metadata": {},
          "execution_count": 28
        }
      ]
    },
    {
      "cell_type": "markdown",
      "metadata": {
        "id": "SZ55WbJ17_Hx"
      },
      "source": [
        "### Looking at individual output from random sentences in the test data"
      ]
    },
    {
      "cell_type": "code",
      "metadata": {
        "id": "JeW2brydFEo5"
      },
      "source": [
        "pred_sentences = list(test[240:250]['DATA_COLUMN'])"
      ],
      "execution_count": null,
      "outputs": []
    },
    {
      "cell_type": "code",
      "metadata": {
        "colab": {
          "base_uri": "https://localhost:8080/"
        },
        "id": "d74V93iFFS3O",
        "outputId": "6da8c87e-7125-48ed-a2f4-e273d15436e0"
      },
      "source": [
        "pred_sentences"
      ],
      "execution_count": null,
      "outputs": [
        {
          "output_type": "execute_result",
          "data": {
            "text/plain": [
              "['incredible waterspout spotted over iowa lake',\n",
              " 'ex-wall street banker convicted of giving his father insider tips',\n",
              " 'assessing our children to death',\n",
              " 'not very good album takes a little while to get into',\n",
              " \"vlogger shamed in walmart fitting room because she might 'stretch' clothes\",\n",
              " 'james fenimore cooper, famed american novelist, dies at 224',\n",
              " 'tourist scams, part 3: what to know before you go',\n",
              " \"report: just 2 more days and you can forget all of this, vanish into 'red dead redemption 2'\",\n",
              " 'the definitive international guide to tipping',\n",
              " \"new ted cruz campaign ad features his kids begging for beto o'rourke to be their new dad\"]"
            ]
          },
          "metadata": {
            "tags": []
          },
          "execution_count": 41
        }
      ]
    },
    {
      "cell_type": "code",
      "metadata": {
        "colab": {
          "base_uri": "https://localhost:8080/"
        },
        "id": "LNeyyCWoFK6x",
        "outputId": "6ffb5aab-6dac-4c7e-b808-7d8e024ad386"
      },
      "source": [
        "tf_batch = tokenizer(pred_sentences, max_length=128, padding=True, truncation=True, return_tensors='tf')\n",
        "tf_outputs = model(tf_batch)\n",
        "tf_predictions = tf.nn.softmax(tf_outputs[0], axis=-1)\n",
        "labels = ['Normal','Sarcastic']\n",
        "label = tf.argmax(tf_predictions, axis=1)\n",
        "label = label.numpy()\n",
        "for i in range(len(pred_sentences)):\n",
        "  print(pred_sentences[i], \":\", labels[label[i]])"
      ],
      "execution_count": null,
      "outputs": [
        {
          "output_type": "stream",
          "text": [
            "incredible waterspout spotted over iowa lake : Normal\n",
            "ex-wall street banker convicted of giving his father insider tips : Normal\n",
            "assessing our children to death : Normal\n",
            "not very good album takes a little while to get into : Sarcastic\n",
            "vlogger shamed in walmart fitting room because she might 'stretch' clothes : Normal\n",
            "james fenimore cooper, famed american novelist, dies at 224 : Normal\n",
            "tourist scams, part 3: what to know before you go : Normal\n",
            "report: just 2 more days and you can forget all of this, vanish into 'red dead redemption 2' : Sarcastic\n",
            "the definitive international guide to tipping : Normal\n",
            "new ted cruz campaign ad features his kids begging for beto o'rourke to be their new dad : Sarcastic\n"
          ],
          "name": "stdout"
        }
      ]
    },
    {
      "cell_type": "code",
      "metadata": {
        "colab": {
          "base_uri": "https://localhost:8080/",
          "height": 356
        },
        "id": "VdvE4Qs7Fhw6",
        "outputId": "b3868e93-e2bb-408b-aa5f-fd482551ccd4"
      },
      "source": [
        "test[240:250]"
      ],
      "execution_count": null,
      "outputs": [
        {
          "output_type": "execute_result",
          "data": {
            "text/html": [
              "<div>\n",
              "<style scoped>\n",
              "    .dataframe tbody tr th:only-of-type {\n",
              "        vertical-align: middle;\n",
              "    }\n",
              "\n",
              "    .dataframe tbody tr th {\n",
              "        vertical-align: top;\n",
              "    }\n",
              "\n",
              "    .dataframe thead th {\n",
              "        text-align: right;\n",
              "    }\n",
              "</style>\n",
              "<table border=\"1\" class=\"dataframe\">\n",
              "  <thead>\n",
              "    <tr style=\"text-align: right;\">\n",
              "      <th></th>\n",
              "      <th>DATA_COLUMN</th>\n",
              "      <th>LABEL_COLUMN</th>\n",
              "    </tr>\n",
              "  </thead>\n",
              "  <tbody>\n",
              "    <tr>\n",
              "      <th>9431</th>\n",
              "      <td>incredible waterspout spotted over iowa lake</td>\n",
              "      <td>0</td>\n",
              "    </tr>\n",
              "    <tr>\n",
              "      <th>2343</th>\n",
              "      <td>ex-wall street banker convicted of giving his ...</td>\n",
              "      <td>0</td>\n",
              "    </tr>\n",
              "    <tr>\n",
              "      <th>12603</th>\n",
              "      <td>assessing our children to death</td>\n",
              "      <td>0</td>\n",
              "    </tr>\n",
              "    <tr>\n",
              "      <th>18752</th>\n",
              "      <td>not very good album takes a little while to ge...</td>\n",
              "      <td>1</td>\n",
              "    </tr>\n",
              "    <tr>\n",
              "      <th>21349</th>\n",
              "      <td>vlogger shamed in walmart fitting room because...</td>\n",
              "      <td>0</td>\n",
              "    </tr>\n",
              "    <tr>\n",
              "      <th>14239</th>\n",
              "      <td>james fenimore cooper, famed american novelist...</td>\n",
              "      <td>1</td>\n",
              "    </tr>\n",
              "    <tr>\n",
              "      <th>18714</th>\n",
              "      <td>tourist scams, part 3: what to know before you go</td>\n",
              "      <td>0</td>\n",
              "    </tr>\n",
              "    <tr>\n",
              "      <th>20377</th>\n",
              "      <td>report: just 2 more days and you can forget al...</td>\n",
              "      <td>1</td>\n",
              "    </tr>\n",
              "    <tr>\n",
              "      <th>14460</th>\n",
              "      <td>the definitive international guide to tipping</td>\n",
              "      <td>0</td>\n",
              "    </tr>\n",
              "    <tr>\n",
              "      <th>12614</th>\n",
              "      <td>new ted cruz campaign ad features his kids beg...</td>\n",
              "      <td>1</td>\n",
              "    </tr>\n",
              "  </tbody>\n",
              "</table>\n",
              "</div>"
            ],
            "text/plain": [
              "                                             DATA_COLUMN  LABEL_COLUMN\n",
              "9431        incredible waterspout spotted over iowa lake             0\n",
              "2343   ex-wall street banker convicted of giving his ...             0\n",
              "12603                    assessing our children to death             0\n",
              "18752  not very good album takes a little while to ge...             1\n",
              "21349  vlogger shamed in walmart fitting room because...             0\n",
              "14239  james fenimore cooper, famed american novelist...             1\n",
              "18714  tourist scams, part 3: what to know before you go             0\n",
              "20377  report: just 2 more days and you can forget al...             1\n",
              "14460      the definitive international guide to tipping             0\n",
              "12614  new ted cruz campaign ad features his kids beg...             1"
            ]
          },
          "metadata": {
            "tags": []
          },
          "execution_count": 43
        }
      ]
    },
    {
      "cell_type": "markdown",
      "metadata": {
        "id": "mLgUeJvB8G6o"
      },
      "source": [
        "#### The model seemed to perform well on the test dataset, predicting only 1 headline incorrectly. This goes to show the power of transformer based models such as BERT even with fine-tuning of just 1 epoch."
      ]
    },
    {
      "cell_type": "markdown",
      "metadata": {
        "id": "dBQ4w7Gg81mu"
      },
      "source": [
        "Overall, we looked at various ML models using the incredible PyCaret library, with and without using NMF to reduce the dimensionality of the dataset. Here are some of the learnings through this project-\n",
        "\n",
        "- Reducing dimensionality of the dataset using Non-negative matrix factorization or NMF seemed to decrease the precision/F1-score metrics by * *5-6 percentage points** but sped up the model fitting by a lot. \n",
        "\n",
        "- Thus, NMF reduction can be used where performance and time spent matters most.\n",
        "\n",
        "- Training using the full dataset took much longer but gave the highest **F1-score of 0.78** using the fine-tuned LGBM classifier.\n",
        "\n",
        "- Moving to Deep learning methods, even simple sequential neural networks seemed to match or exceed the grid-searched and fine-tuned LGBM classifier. This shows the power of adding complexity to the model.\n",
        "\n",
        "- By using BERT, validation accuracy was recorded to be **0.93 after only 1 epoch**, which again shows the power of BERT over simple neural networks.\n",
        "\n",
        "- We can also see the potential for overfitting by using a powerful model such as BERT, as the training accuracy seemed to reach 0.977 after just 1 epoch of fine-tuning."
      ]
    }
  ]
}