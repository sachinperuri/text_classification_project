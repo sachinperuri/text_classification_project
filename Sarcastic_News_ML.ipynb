{
  "nbformat": 4,
  "nbformat_minor": 0,
  "metadata": {
    "colab": {
      "name": "Sarcastic News ML",
      "provenance": [],
      "collapsed_sections": []
    },
    "kernelspec": {
      "name": "python3",
      "display_name": "Python 3"
    },
    "language_info": {
      "name": "python"
    },
    "widgets": {
      "application/vnd.jupyter.widget-state+json": {
        "a2433756eff241fda20d90e095e14162": {
          "model_module": "@jupyter-widgets/controls",
          "model_name": "IntProgressModel",
          "model_module_version": "1.5.0",
          "state": {
            "_view_name": "ProgressView",
            "style": "IPY_MODEL_2bdf5bc33ba944cbb9c5e4a4e347c80f",
            "_dom_classes": [],
            "description": "Processing: ",
            "_model_name": "IntProgressModel",
            "bar_style": "",
            "max": 69,
            "_view_module": "@jupyter-widgets/controls",
            "_model_module_version": "1.5.0",
            "value": 69,
            "_view_count": null,
            "_view_module_version": "1.5.0",
            "orientation": "horizontal",
            "min": 0,
            "description_tooltip": null,
            "_model_module": "@jupyter-widgets/controls",
            "layout": "IPY_MODEL_0c57989e1bed4f09b13cb63a6707ae66"
          }
        },
        "2bdf5bc33ba944cbb9c5e4a4e347c80f": {
          "model_module": "@jupyter-widgets/controls",
          "model_name": "ProgressStyleModel",
          "model_module_version": "1.5.0",
          "state": {
            "_view_name": "StyleView",
            "_model_name": "ProgressStyleModel",
            "description_width": "",
            "_view_module": "@jupyter-widgets/base",
            "_model_module_version": "1.5.0",
            "_view_count": null,
            "_view_module_version": "1.2.0",
            "bar_color": null,
            "_model_module": "@jupyter-widgets/controls"
          }
        },
        "0c57989e1bed4f09b13cb63a6707ae66": {
          "model_module": "@jupyter-widgets/base",
          "model_name": "LayoutModel",
          "model_module_version": "1.2.0",
          "state": {
            "_view_name": "LayoutView",
            "grid_template_rows": null,
            "right": null,
            "justify_content": null,
            "_view_module": "@jupyter-widgets/base",
            "overflow": null,
            "_model_module_version": "1.2.0",
            "_view_count": null,
            "flex_flow": null,
            "width": null,
            "min_width": null,
            "border": null,
            "align_items": null,
            "bottom": null,
            "_model_module": "@jupyter-widgets/base",
            "top": null,
            "grid_column": null,
            "overflow_y": null,
            "overflow_x": null,
            "grid_auto_flow": null,
            "grid_area": null,
            "grid_template_columns": null,
            "flex": null,
            "_model_name": "LayoutModel",
            "justify_items": null,
            "grid_row": null,
            "max_height": null,
            "align_content": null,
            "visibility": null,
            "align_self": null,
            "height": null,
            "min_height": null,
            "padding": null,
            "grid_auto_rows": null,
            "grid_gap": null,
            "max_width": null,
            "order": null,
            "_view_module_version": "1.2.0",
            "grid_template_areas": null,
            "object_position": null,
            "object_fit": null,
            "grid_auto_columns": null,
            "margin": null,
            "display": null,
            "left": null
          }
        }
      }
    }
  },
  "cells": [
    {
      "cell_type": "markdown",
      "metadata": {
        "id": "sX7PHqop2h7V"
      },
      "source": [
        "### This notebook uses the Kaggle sarcastic news dataset and attempts to classify the news headlines provided in the dataset into the \"normal\" and \"sarcastic\" categories using various ML models.\n",
        "\n",
        "Authors: \n",
        "- Sachin Peruri (sachin.peruri@gmail.com)\n",
        "- Keyuri Raodeo (keyuri.raodeo@gmail.com)\n"
      ]
    },
    {
      "cell_type": "code",
      "metadata": {
        "id": "LgOiripJtfBx",
        "colab": {
          "base_uri": "https://localhost:8080/"
        },
        "outputId": "e6e01130-dd69-4625-9cfd-986c6c54bfa6"
      },
      "source": [
        "from google.colab import drive\n",
        "drive.mount('/gdrive')"
      ],
      "execution_count": null,
      "outputs": [
        {
          "output_type": "stream",
          "name": "stdout",
          "text": [
            "Drive already mounted at /gdrive; to attempt to forcibly remount, call drive.mount(\"/gdrive\", force_remount=True).\n"
          ]
        }
      ]
    },
    {
      "cell_type": "markdown",
      "metadata": {
        "id": "sDkOjEas2KXU"
      },
      "source": [
        "We installed the following libraries on our Colab session-\n",
        "\n",
        "- Pycaret: To run multiple ML models quickly on the data to determine which works best\n",
        "\n",
        "- Pattern: We used this library to lemmatize our dataset. In our experience this worked better than other packages such as nltk and spacy.\n",
        "\n",
        "- LightGBM: Light Gradient Boosting Model package was also used."
      ]
    },
    {
      "cell_type": "code",
      "metadata": {
        "id": "_gllQnDEvC2g"
      },
      "source": [
        "pip install pycaret"
      ],
      "execution_count": null,
      "outputs": []
    },
    {
      "cell_type": "code",
      "metadata": {
        "id": "QcOV5H1esE2_"
      },
      "source": [
        "pip install pattern"
      ],
      "execution_count": null,
      "outputs": []
    },
    {
      "cell_type": "code",
      "metadata": {
        "id": "tuGqVGWimOqq"
      },
      "source": [
        "pip install lightgbm"
      ],
      "execution_count": null,
      "outputs": []
    },
    {
      "cell_type": "code",
      "metadata": {
        "id": "e_qXHo9-ueuP",
        "colab": {
          "base_uri": "https://localhost:8080/"
        },
        "outputId": "f522c635-bffe-4f1b-d12a-6becd96f0b74"
      },
      "source": [
        "import json\n",
        "import numpy as np\n",
        "import pandas as pd\n",
        "import re\n",
        "import pickle\n",
        "import matplotlib.pyplot as plt\n",
        "import seaborn as sns\n",
        "\n",
        "import nltk\n",
        "nltk.download('punkt')\n",
        "from nltk import word_tokenize\n",
        "\n",
        "from pattern.en import lemma\n",
        "\n",
        "from sklearn.feature_extraction.text import CountVectorizer\n",
        "from sklearn.feature_extraction.text import TfidfVectorizer\n",
        "from sklearn.model_selection import train_test_split\n",
        "from sklearn.decomposition import NMF\n",
        "\n",
        "from lightgbm import LGBMClassifier\n",
        "from sklearn.ensemble import RandomForestClassifier\n",
        "from sklearn.linear_model import LogisticRegression\n",
        "from sklearn.neighbors import KNeighborsClassifier\n",
        "from sklearn.svm import SVC\n",
        "from sklearn.ensemble import RandomForestClassifier, GradientBoostingClassifier, AdaBoostClassifier, ExtraTreesClassifier\n",
        "from sklearn.naive_bayes import GaussianNB\n",
        "from xgboost import XGBClassifier\n",
        "from lightgbm import LGBMClassifier\n",
        "\n",
        "from sklearn import model_selection\n",
        "from sklearn.utils import class_weight\n",
        "from sklearn import metrics\n",
        "from sklearn.metrics import classification_report\n",
        "from sklearn.metrics import confusion_matrix\n",
        "from sklearn.metrics import roc_curve, auc\n",
        "from sklearn.metrics import accuracy_score, recall_score, precision_score\n",
        "from sklearn.model_selection import cross_val_score\n",
        "\n",
        "\n",
        "# Grid search\n",
        "from sklearn.pipeline import Pipeline\n",
        "from sklearn.model_selection import GridSearchCV\n",
        "\n",
        "# Pycaret\n",
        "import pycaret\n",
        "from pycaret.classification import *"
      ],
      "execution_count": null,
      "outputs": [
        {
          "output_type": "stream",
          "name": "stdout",
          "text": [
            "[nltk_data] Downloading package punkt to /root/nltk_data...\n",
            "[nltk_data]   Unzipping tokenizers/punkt.zip.\n"
          ]
        }
      ]
    },
    {
      "cell_type": "code",
      "metadata": {
        "id": "2268NqzrFRrI"
      },
      "source": [
        "pd.set_option('display.max_rows', None)\n",
        "pd.set_option('display.max_colwidth', None)"
      ],
      "execution_count": null,
      "outputs": []
    },
    {
      "cell_type": "code",
      "metadata": {
        "id": "UhHi3454vqBC"
      },
      "source": [
        "def parse_data(file):\n",
        "    for l in open(file,'r'):\n",
        "        yield json.loads(l)\n",
        "\n",
        "data_v2 = list(parse_data(\"/gdrive/MyDrive/Sarcastic_news/Sarcasm_Headlines_Dataset_v2.json\"))\n",
        "\n",
        "df = pd.DataFrame.from_dict(data_v2)"
      ],
      "execution_count": null,
      "outputs": []
    },
    {
      "cell_type": "markdown",
      "metadata": {
        "id": "pE1SbKYs6PCK"
      },
      "source": [
        "### Lets do some exploratory analysis"
      ]
    },
    {
      "cell_type": "code",
      "metadata": {
        "id": "GsYqSdGkQJqi",
        "colab": {
          "base_uri": "https://localhost:8080/"
        },
        "outputId": "3e3be095-42ee-4acb-c672-7af8a81be8b8"
      },
      "source": [
        "len(df)"
      ],
      "execution_count": null,
      "outputs": [
        {
          "output_type": "execute_result",
          "data": {
            "text/plain": [
              "28619"
            ]
          },
          "metadata": {},
          "execution_count": 41
        }
      ]
    },
    {
      "cell_type": "code",
      "metadata": {
        "colab": {
          "base_uri": "https://localhost:8080/"
        },
        "id": "2Ev81wRdF_PQ",
        "outputId": "de8a3f76-0903-478e-b85b-b9c0d1306450"
      },
      "source": [
        "print(f\"Max length: {df['headline'].apply(len).max()}, min length: {df['headline'].apply(len).min()}\")"
      ],
      "execution_count": null,
      "outputs": [
        {
          "output_type": "stream",
          "name": "stdout",
          "text": [
            "Max length: 926, min length: 7\n"
          ]
        }
      ]
    },
    {
      "cell_type": "code",
      "metadata": {
        "colab": {
          "base_uri": "https://localhost:8080/",
          "height": 382
        },
        "id": "6XUMHgWs6UdC",
        "outputId": "b7ca0be8-5910-434f-e2bc-89ea2e925be9"
      },
      "source": [
        "plt.hist(df[\"headline\"].apply(len), bins = 20, range = (0,200))"
      ],
      "execution_count": null,
      "outputs": [
        {
          "output_type": "execute_result",
          "data": {
            "text/plain": [
              "(array([9.000e+00, 2.910e+02, 1.024e+03, 2.286e+03, 3.897e+03, 5.210e+03,\n",
              "        6.135e+03, 4.707e+03, 2.642e+03, 1.308e+03, 6.420e+02, 2.940e+02,\n",
              "        1.010e+02, 4.200e+01, 1.700e+01, 5.000e+00, 1.000e+00, 0.000e+00,\n",
              "        0.000e+00, 2.000e+00]),\n",
              " array([  0.,  10.,  20.,  30.,  40.,  50.,  60.,  70.,  80.,  90., 100.,\n",
              "        110., 120., 130., 140., 150., 160., 170., 180., 190., 200.]),\n",
              " <a list of 20 Patch objects>)"
            ]
          },
          "metadata": {},
          "execution_count": 10
        },
        {
          "output_type": "display_data",
          "data": {
            "image/png": "[encoded data removed]",
            "text/plain": [
              "<Figure size 432x288 with 1 Axes>"
            ]
          },
          "metadata": {
            "needs_background": "light"
          }
        }
      ]
    },
    {
      "cell_type": "markdown",
      "metadata": {
        "id": "KyeNdd52FaRm"
      },
      "source": [
        "The headlines lengths seem to follow a normal distribution with a peak at around 60-70 characters long. The maximum sentence length is 926 and the minimum is 7."
      ]
    },
    {
      "cell_type": "code",
      "metadata": {
        "id": "tEA8sPtQwuwc",
        "colab": {
          "base_uri": "https://localhost:8080/",
          "height": 269
        },
        "outputId": "a2c96ef4-a373-453d-8798-2f55b87d1908"
      },
      "source": [
        "df.sample(5)"
      ],
      "execution_count": null,
      "outputs": [
        {
          "output_type": "execute_result",
          "data": {
            "text/html": [
              "<div>\n",
              "<style scoped>\n",
              "    .dataframe tbody tr th:only-of-type {\n",
              "        vertical-align: middle;\n",
              "    }\n",
              "\n",
              "    .dataframe tbody tr th {\n",
              "        vertical-align: top;\n",
              "    }\n",
              "\n",
              "    .dataframe thead th {\n",
              "        text-align: right;\n",
              "    }\n",
              "</style>\n",
              "<table border=\"1\" class=\"dataframe\">\n",
              "  <thead>\n",
              "    <tr style=\"text-align: right;\">\n",
              "      <th></th>\n",
              "      <th>is_sarcastic</th>\n",
              "      <th>headline</th>\n",
              "      <th>article_link</th>\n",
              "    </tr>\n",
              "  </thead>\n",
              "  <tbody>\n",
              "    <tr>\n",
              "      <th>15717</th>\n",
              "      <td>0</td>\n",
              "      <td>13 #ridiculousexcusestostayhome -- boomer-style</td>\n",
              "      <td>https://www.huffingtonpost.com/entry/ridiculousexcusestostayhome-boomer-style_us_55a5268ae4b0b8145f738ea8</td>\n",
              "    </tr>\n",
              "    <tr>\n",
              "      <th>12379</th>\n",
              "      <td>1</td>\n",
              "      <td>'i'm afraid you won't be coming to our new headquarters,' declares alexa as amazon execs find themselves locked in seattle office</td>\n",
              "      <td>https://www.theonion.com/i-m-afraid-you-won-t-be-coming-to-our-new-headquarters-1819580301</td>\n",
              "    </tr>\n",
              "    <tr>\n",
              "      <th>16304</th>\n",
              "      <td>1</td>\n",
              "      <td>holocaust survivors recall exact day holocaust started right out of the blue</td>\n",
              "      <td>https://www.theonion.com/holocaust-survivors-recall-exact-day-holocaust-started-1830685498</td>\n",
              "    </tr>\n",
              "    <tr>\n",
              "      <th>14063</th>\n",
              "      <td>0</td>\n",
              "      <td>why christ, mao and the buddha are making a comeback in china</td>\n",
              "      <td>https://www.huffingtonpost.com/entry/china-religion_n_4860813.html</td>\n",
              "    </tr>\n",
              "    <tr>\n",
              "      <th>27987</th>\n",
              "      <td>1</td>\n",
              "      <td>state election commission chases wild animals out of voting booths in preparation for upcoming midterms</td>\n",
              "      <td>https://politics.theonion.com/state-election-commission-chases-wild-animals-out-of-vo-1829788634</td>\n",
              "    </tr>\n",
              "  </tbody>\n",
              "</table>\n",
              "</div>"
            ],
            "text/plain": [
              "       is_sarcastic  \\\n",
              "15717             0   \n",
              "12379             1   \n",
              "16304             1   \n",
              "14063             0   \n",
              "27987             1   \n",
              "\n",
              "                                                                                                                                headline  \\\n",
              "15717                                                                                    13 #ridiculousexcusestostayhome -- boomer-style   \n",
              "12379  'i'm afraid you won't be coming to our new headquarters,' declares alexa as amazon execs find themselves locked in seattle office   \n",
              "16304                                                       holocaust survivors recall exact day holocaust started right out of the blue   \n",
              "14063                                                                      why christ, mao and the buddha are making a comeback in china   \n",
              "27987                            state election commission chases wild animals out of voting booths in preparation for upcoming midterms   \n",
              "\n",
              "                                                                                                    article_link  \n",
              "15717  https://www.huffingtonpost.com/entry/ridiculousexcusestostayhome-boomer-style_us_55a5268ae4b0b8145f738ea8  \n",
              "12379                 https://www.theonion.com/i-m-afraid-you-won-t-be-coming-to-our-new-headquarters-1819580301  \n",
              "16304                 https://www.theonion.com/holocaust-survivors-recall-exact-day-holocaust-started-1830685498  \n",
              "14063                                         https://www.huffingtonpost.com/entry/china-religion_n_4860813.html  \n",
              "27987           https://politics.theonion.com/state-election-commission-chases-wild-animals-out-of-vo-1829788634  "
            ]
          },
          "metadata": {},
          "execution_count": 11
        }
      ]
    },
    {
      "cell_type": "markdown",
      "metadata": {
        "id": "0CilNMDCIm6R"
      },
      "source": [
        "### Data Cleaning"
      ]
    },
    {
      "cell_type": "markdown",
      "metadata": {
        "id": "qIw52lWrGVL4"
      },
      "source": [
        "Now we shall clean the dataset by removing all characters except for letters and numbers and lemmatize the words using pattern library.\n",
        "\n",
        "**NOTE: If this cell does not run in the first attempt, try running it again. This seems to be due to a bug in the pattern library.**"
      ]
    },
    {
      "cell_type": "code",
      "metadata": {
        "id": "D9diKU1e-Ezn"
      },
      "source": [
        "clean_headlines = []\n",
        "\n",
        "for headline in df[\"headline\"]:\n",
        "  clean_headlines.append(re.sub('[^A-Za-z]+', ' ', headline))\n",
        "\n",
        "lemmatized_out = [[lemma(word) for word in word_tokenize(s)] for s in clean_headlines]\n",
        "\n",
        "joined_headlines = []\n",
        "\n",
        "for headline in lemmatized_out:\n",
        "  joined_headlines.append(\" \".join(headline))"
      ],
      "execution_count": null,
      "outputs": []
    },
    {
      "cell_type": "code",
      "metadata": {
        "colab": {
          "base_uri": "https://localhost:8080/"
        },
        "id": "7ulWIf-fB_9o",
        "outputId": "121b4dcb-1230-46a7-ec68-a792958ba084"
      },
      "source": [
        "df[\"headline\"][:2]"
      ],
      "execution_count": null,
      "outputs": [
        {
          "output_type": "execute_result",
          "data": {
            "text/plain": [
              "0                      thirtysomething scientists unveil doomsday clock of hair loss\n",
              "1    dem rep. totally nails why congress is falling short on gender, racial equality\n",
              "Name: headline, dtype: object"
            ]
          },
          "metadata": {},
          "execution_count": 14
        }
      ]
    },
    {
      "cell_type": "code",
      "metadata": {
        "colab": {
          "base_uri": "https://localhost:8080/"
        },
        "id": "ft_xxgzwB7LG",
        "outputId": "9aa6ed19-45e6-4da0-f660-7140f193a8f3"
      },
      "source": [
        "joined_headlines[:2]"
      ],
      "execution_count": null,
      "outputs": [
        {
          "output_type": "execute_result",
          "data": {
            "text/plain": [
              "['thirtysomethe scientist unveil doomsday clock of hair los',\n",
              " 'dem rep totally nail why congres be fall short on gender racial equality']"
            ]
          },
          "metadata": {},
          "execution_count": 15
        }
      ]
    },
    {
      "cell_type": "markdown",
      "metadata": {
        "id": "ZNJ9WR4jGiga"
      },
      "source": [
        "Our target variable is the \"is_sarcastic\" column."
      ]
    },
    {
      "cell_type": "code",
      "metadata": {
        "id": "3-anflgA8uyc"
      },
      "source": [
        "y = df[\"is_sarcastic\"]"
      ],
      "execution_count": null,
      "outputs": []
    },
    {
      "cell_type": "markdown",
      "metadata": {
        "id": "iyqFSZLu7FTi"
      },
      "source": [
        "### Making the train and test dataset splits"
      ]
    },
    {
      "cell_type": "code",
      "metadata": {
        "id": "kueIJxj7i763"
      },
      "source": [
        "X_train,X_test,y_train,y_test=train_test_split(joined_headlines,y,test_size=0.25,random_state=0)"
      ],
      "execution_count": null,
      "outputs": []
    },
    {
      "cell_type": "code",
      "metadata": {
        "id": "qjLj8zK68uRG"
      },
      "source": [
        "vectorizer = TfidfVectorizer(stop_words = \"english\", max_features = 10000)\n",
        "X_train_matrix = vectorizer.fit_transform(X_train)\n",
        "X_test_matrix = vectorizer.transform(X_test)"
      ],
      "execution_count": null,
      "outputs": []
    },
    {
      "cell_type": "markdown",
      "metadata": {
        "id": "wRV4Rrws7RAW"
      },
      "source": [
        "### Reducing the number of features in the dataset down to 20 from 10,000 using NMF (Non-Negative Matrix Factorization) to speed up training"
      ]
    },
    {
      "cell_type": "code",
      "metadata": {
        "id": "fTfNoCjUpMHV"
      },
      "source": [
        "nmf_reducer = NMF(n_components = 20)\n",
        "X_train_reduced = nmf_reducer.fit_transform(X_train_matrix)\n",
        "X_test_reduced = nmf_reducer.transform(X_test_matrix)"
      ],
      "execution_count": null,
      "outputs": []
    },
    {
      "cell_type": "code",
      "metadata": {
        "id": "4S_w45SKIPrF"
      },
      "source": [
        "vectorizer2 = TfidfVectorizer(stop_words = \"english\", max_features = 10000)\n",
        "X_full = vectorizer2.fit_transform(joined_headlines)"
      ],
      "execution_count": null,
      "outputs": []
    },
    {
      "cell_type": "code",
      "metadata": {
        "colab": {
          "base_uri": "https://localhost:8080/"
        },
        "id": "I1lcejsHJV2t",
        "outputId": "337a71a1-06a1-4267-b023-5f1917729866"
      },
      "source": [
        "X_full[:5]"
      ],
      "execution_count": null,
      "outputs": [
        {
          "output_type": "execute_result",
          "data": {
            "text/plain": [
              "<5x10000 sparse matrix of type '<class 'numpy.float64'>'\n",
              "\twith 32 stored elements in Compressed Sparse Row format>"
            ]
          },
          "metadata": {},
          "execution_count": 21
        }
      ]
    },
    {
      "cell_type": "code",
      "metadata": {
        "id": "fxhYh2i_KaB0"
      },
      "source": [
        "# Reduce X_full to 20D using NMF as well\n",
        "nmf_reducer2 = NMF(n_components = 20)\n",
        "X_full_reduced = nmf_reducer2.fit_transform(X_full)"
      ],
      "execution_count": null,
      "outputs": []
    },
    {
      "cell_type": "code",
      "metadata": {
        "id": "fygYhQ_-L9nU"
      },
      "source": [
        "X_full_reduced = pd.DataFrame(X_full_reduced)\n",
        "X_full_reduced[\"is_sarcastic\"] = y"
      ],
      "execution_count": null,
      "outputs": []
    },
    {
      "cell_type": "code",
      "metadata": {
        "colab": {
          "base_uri": "https://localhost:8080/",
          "height": 222
        },
        "id": "pwxtvl_qMGhc",
        "outputId": "214af64a-8cdd-4749-e879-7d4ff1fe5225"
      },
      "source": [
        "X_full_reduced.head()"
      ],
      "execution_count": null,
      "outputs": [
        {
          "output_type": "execute_result",
          "data": {
            "text/html": [
              "<div>\n",
              "<style scoped>\n",
              "    .dataframe tbody tr th:only-of-type {\n",
              "        vertical-align: middle;\n",
              "    }\n",
              "\n",
              "    .dataframe tbody tr th {\n",
              "        vertical-align: top;\n",
              "    }\n",
              "\n",
              "    .dataframe thead th {\n",
              "        text-align: right;\n",
              "    }\n",
              "</style>\n",
              "<table border=\"1\" class=\"dataframe\">\n",
              "  <thead>\n",
              "    <tr style=\"text-align: right;\">\n",
              "      <th></th>\n",
              "      <th>0</th>\n",
              "      <th>1</th>\n",
              "      <th>2</th>\n",
              "      <th>3</th>\n",
              "      <th>4</th>\n",
              "      <th>5</th>\n",
              "      <th>6</th>\n",
              "      <th>7</th>\n",
              "      <th>8</th>\n",
              "      <th>9</th>\n",
              "      <th>10</th>\n",
              "      <th>11</th>\n",
              "      <th>12</th>\n",
              "      <th>13</th>\n",
              "      <th>14</th>\n",
              "      <th>15</th>\n",
              "      <th>16</th>\n",
              "      <th>17</th>\n",
              "      <th>18</th>\n",
              "      <th>19</th>\n",
              "      <th>is_sarcastic</th>\n",
              "    </tr>\n",
              "  </thead>\n",
              "  <tbody>\n",
              "    <tr>\n",
              "      <th>0</th>\n",
              "      <td>0.000000</td>\n",
              "      <td>0.000000</td>\n",
              "      <td>0.010154</td>\n",
              "      <td>0.000000</td>\n",
              "      <td>0.001882</td>\n",
              "      <td>0.000861</td>\n",
              "      <td>0.000742</td>\n",
              "      <td>0.000000</td>\n",
              "      <td>0.000000</td>\n",
              "      <td>0.001500</td>\n",
              "      <td>0.000000</td>\n",
              "      <td>0.001103</td>\n",
              "      <td>0.002623</td>\n",
              "      <td>0.002257</td>\n",
              "      <td>0.001690</td>\n",
              "      <td>0.000412</td>\n",
              "      <td>0.002299</td>\n",
              "      <td>0.000761</td>\n",
              "      <td>0.000799</td>\n",
              "      <td>0.000698</td>\n",
              "      <td>1</td>\n",
              "    </tr>\n",
              "    <tr>\n",
              "      <th>1</th>\n",
              "      <td>0.000602</td>\n",
              "      <td>0.001519</td>\n",
              "      <td>0.000120</td>\n",
              "      <td>0.002773</td>\n",
              "      <td>0.000940</td>\n",
              "      <td>0.000333</td>\n",
              "      <td>0.000407</td>\n",
              "      <td>0.000454</td>\n",
              "      <td>0.000433</td>\n",
              "      <td>0.000313</td>\n",
              "      <td>0.002461</td>\n",
              "      <td>0.001281</td>\n",
              "      <td>0.001366</td>\n",
              "      <td>0.001078</td>\n",
              "      <td>0.000000</td>\n",
              "      <td>0.002380</td>\n",
              "      <td>0.001348</td>\n",
              "      <td>0.004623</td>\n",
              "      <td>0.004098</td>\n",
              "      <td>0.003129</td>\n",
              "      <td>0</td>\n",
              "    </tr>\n",
              "    <tr>\n",
              "      <th>2</th>\n",
              "      <td>0.001544</td>\n",
              "      <td>0.000000</td>\n",
              "      <td>0.000372</td>\n",
              "      <td>0.002603</td>\n",
              "      <td>0.000000</td>\n",
              "      <td>0.000184</td>\n",
              "      <td>0.003489</td>\n",
              "      <td>0.001828</td>\n",
              "      <td>0.000074</td>\n",
              "      <td>0.004187</td>\n",
              "      <td>0.000000</td>\n",
              "      <td>0.000578</td>\n",
              "      <td>0.003028</td>\n",
              "      <td>0.002024</td>\n",
              "      <td>0.004375</td>\n",
              "      <td>0.000507</td>\n",
              "      <td>0.000000</td>\n",
              "      <td>0.000000</td>\n",
              "      <td>0.002570</td>\n",
              "      <td>0.001147</td>\n",
              "      <td>0</td>\n",
              "    </tr>\n",
              "    <tr>\n",
              "      <th>3</th>\n",
              "      <td>0.000000</td>\n",
              "      <td>0.000084</td>\n",
              "      <td>0.002669</td>\n",
              "      <td>0.004563</td>\n",
              "      <td>0.000000</td>\n",
              "      <td>0.003223</td>\n",
              "      <td>0.001574</td>\n",
              "      <td>0.000000</td>\n",
              "      <td>0.000000</td>\n",
              "      <td>0.011074</td>\n",
              "      <td>0.000000</td>\n",
              "      <td>0.004177</td>\n",
              "      <td>0.000000</td>\n",
              "      <td>0.000000</td>\n",
              "      <td>0.002207</td>\n",
              "      <td>0.009289</td>\n",
              "      <td>0.003509</td>\n",
              "      <td>0.000000</td>\n",
              "      <td>0.000605</td>\n",
              "      <td>0.001991</td>\n",
              "      <td>1</td>\n",
              "    </tr>\n",
              "    <tr>\n",
              "      <th>4</th>\n",
              "      <td>0.001381</td>\n",
              "      <td>0.001217</td>\n",
              "      <td>0.003483</td>\n",
              "      <td>0.000471</td>\n",
              "      <td>0.001650</td>\n",
              "      <td>0.003517</td>\n",
              "      <td>0.002743</td>\n",
              "      <td>0.001265</td>\n",
              "      <td>0.000581</td>\n",
              "      <td>0.020214</td>\n",
              "      <td>0.002261</td>\n",
              "      <td>0.004953</td>\n",
              "      <td>0.003000</td>\n",
              "      <td>0.002113</td>\n",
              "      <td>0.005501</td>\n",
              "      <td>0.001471</td>\n",
              "      <td>0.000467</td>\n",
              "      <td>0.002051</td>\n",
              "      <td>0.000268</td>\n",
              "      <td>0.006729</td>\n",
              "      <td>1</td>\n",
              "    </tr>\n",
              "  </tbody>\n",
              "</table>\n",
              "</div>"
            ],
            "text/plain": [
              "          0         1         2         3         4         5         6  \\\n",
              "0  0.000000  0.000000  0.010154  0.000000  0.001882  0.000861  0.000742   \n",
              "1  0.000602  0.001519  0.000120  0.002773  0.000940  0.000333  0.000407   \n",
              "2  0.001544  0.000000  0.000372  0.002603  0.000000  0.000184  0.003489   \n",
              "3  0.000000  0.000084  0.002669  0.004563  0.000000  0.003223  0.001574   \n",
              "4  0.001381  0.001217  0.003483  0.000471  0.001650  0.003517  0.002743   \n",
              "\n",
              "          7         8         9        10        11        12        13  \\\n",
              "0  0.000000  0.000000  0.001500  0.000000  0.001103  0.002623  0.002257   \n",
              "1  0.000454  0.000433  0.000313  0.002461  0.001281  0.001366  0.001078   \n",
              "2  0.001828  0.000074  0.004187  0.000000  0.000578  0.003028  0.002024   \n",
              "3  0.000000  0.000000  0.011074  0.000000  0.004177  0.000000  0.000000   \n",
              "4  0.001265  0.000581  0.020214  0.002261  0.004953  0.003000  0.002113   \n",
              "\n",
              "         14        15        16        17        18        19  is_sarcastic  \n",
              "0  0.001690  0.000412  0.002299  0.000761  0.000799  0.000698             1  \n",
              "1  0.000000  0.002380  0.001348  0.004623  0.004098  0.003129             0  \n",
              "2  0.004375  0.000507  0.000000  0.000000  0.002570  0.001147             0  \n",
              "3  0.002207  0.009289  0.003509  0.000000  0.000605  0.001991             1  \n",
              "4  0.005501  0.001471  0.000467  0.002051  0.000268  0.006729             1  "
            ]
          },
          "metadata": {},
          "execution_count": 24
        }
      ]
    },
    {
      "cell_type": "markdown",
      "metadata": {
        "id": "WiYUijQVIVWv"
      },
      "source": [
        "### Comparing ML models with Pycaret and NMF reduced dataset"
      ]
    },
    {
      "cell_type": "code",
      "metadata": {
        "id": "ogYN2LVsH6GM"
      },
      "source": [
        "# setup the dataset\n",
        "grid = setup(data=X_full_reduced, target=\"is_sarcastic\", silent = True, verbose = False, pca = False)"
      ],
      "execution_count": null,
      "outputs": []
    },
    {
      "cell_type": "code",
      "metadata": {
        "colab": {
          "base_uri": "https://localhost:8080/",
          "height": 448,
          "referenced_widgets": [
            "a2433756eff241fda20d90e095e14162",
            "2bdf5bc33ba944cbb9c5e4a4e347c80f",
            "0c57989e1bed4f09b13cb63a6707ae66"
          ]
        },
        "id": "A2wJku2PzCOR",
        "outputId": "5a5300f1-8e0e-4aa5-c6f0-8331519dfa7b"
      },
      "source": [
        "# Tfidf vectorizer, 10000 features + NMF -> 20 features\n",
        "best = compare_models()"
      ],
      "execution_count": null,
      "outputs": [
        {
          "output_type": "display_data",
          "data": {
            "text/html": [
              "<div>\n",
              "<style scoped>\n",
              "    .dataframe tbody tr th:only-of-type {\n",
              "        vertical-align: middle;\n",
              "    }\n",
              "\n",
              "    .dataframe tbody tr th {\n",
              "        vertical-align: top;\n",
              "    }\n",
              "\n",
              "    .dataframe thead th {\n",
              "        text-align: right;\n",
              "    }\n",
              "</style>\n",
              "<table border=\"1\" class=\"dataframe\">\n",
              "  <thead>\n",
              "    <tr style=\"text-align: right;\">\n",
              "      <th></th>\n",
              "      <th>Model</th>\n",
              "      <th>Accuracy</th>\n",
              "      <th>AUC</th>\n",
              "      <th>Recall</th>\n",
              "      <th>Prec.</th>\n",
              "      <th>F1</th>\n",
              "      <th>Kappa</th>\n",
              "      <th>MCC</th>\n",
              "      <th>TT (Sec)</th>\n",
              "    </tr>\n",
              "  </thead>\n",
              "  <tbody>\n",
              "    <tr>\n",
              "      <th>lightgbm</th>\n",
              "      <td>Light Gradient Boosting Machine</td>\n",
              "      <td>0.6957</td>\n",
              "      <td>0.7666</td>\n",
              "      <td>0.6538</td>\n",
              "      <td>0.6908</td>\n",
              "      <td>0.6717</td>\n",
              "      <td>0.3885</td>\n",
              "      <td>0.3891</td>\n",
              "      <td>0.585</td>\n",
              "    </tr>\n",
              "    <tr>\n",
              "      <th>rf</th>\n",
              "      <td>Random Forest Classifier</td>\n",
              "      <td>0.6899</td>\n",
              "      <td>0.7586</td>\n",
              "      <td>0.6339</td>\n",
              "      <td>0.6898</td>\n",
              "      <td>0.6606</td>\n",
              "      <td>0.3760</td>\n",
              "      <td>0.3772</td>\n",
              "      <td>5.232</td>\n",
              "    </tr>\n",
              "    <tr>\n",
              "      <th>gbc</th>\n",
              "      <td>Gradient Boosting Classifier</td>\n",
              "      <td>0.6866</td>\n",
              "      <td>0.7571</td>\n",
              "      <td>0.6288</td>\n",
              "      <td>0.6868</td>\n",
              "      <td>0.6564</td>\n",
              "      <td>0.3693</td>\n",
              "      <td>0.3706</td>\n",
              "      <td>6.972</td>\n",
              "    </tr>\n",
              "    <tr>\n",
              "      <th>et</th>\n",
              "      <td>Extra Trees Classifier</td>\n",
              "      <td>0.6858</td>\n",
              "      <td>0.7542</td>\n",
              "      <td>0.6305</td>\n",
              "      <td>0.6851</td>\n",
              "      <td>0.6566</td>\n",
              "      <td>0.3680</td>\n",
              "      <td>0.3691</td>\n",
              "      <td>2.683</td>\n",
              "    </tr>\n",
              "    <tr>\n",
              "      <th>ada</th>\n",
              "      <td>Ada Boost Classifier</td>\n",
              "      <td>0.6702</td>\n",
              "      <td>0.7378</td>\n",
              "      <td>0.6323</td>\n",
              "      <td>0.6609</td>\n",
              "      <td>0.6462</td>\n",
              "      <td>0.3376</td>\n",
              "      <td>0.3380</td>\n",
              "      <td>1.561</td>\n",
              "    </tr>\n",
              "    <tr>\n",
              "      <th>knn</th>\n",
              "      <td>K Neighbors Classifier</td>\n",
              "      <td>0.6443</td>\n",
              "      <td>0.6926</td>\n",
              "      <td>0.6136</td>\n",
              "      <td>0.6300</td>\n",
              "      <td>0.6216</td>\n",
              "      <td>0.2861</td>\n",
              "      <td>0.2862</td>\n",
              "      <td>1.839</td>\n",
              "    </tr>\n",
              "    <tr>\n",
              "      <th>ridge</th>\n",
              "      <td>Ridge Classifier</td>\n",
              "      <td>0.6229</td>\n",
              "      <td>0.0000</td>\n",
              "      <td>0.3858</td>\n",
              "      <td>0.6850</td>\n",
              "      <td>0.4935</td>\n",
              "      <td>0.2288</td>\n",
              "      <td>0.2529</td>\n",
              "      <td>0.037</td>\n",
              "    </tr>\n",
              "    <tr>\n",
              "      <th>lda</th>\n",
              "      <td>Linear Discriminant Analysis</td>\n",
              "      <td>0.6204</td>\n",
              "      <td>0.7011</td>\n",
              "      <td>0.3719</td>\n",
              "      <td>0.6879</td>\n",
              "      <td>0.4826</td>\n",
              "      <td>0.2230</td>\n",
              "      <td>0.2494</td>\n",
              "      <td>0.088</td>\n",
              "    </tr>\n",
              "    <tr>\n",
              "      <th>lr</th>\n",
              "      <td>Logistic Regression</td>\n",
              "      <td>0.6140</td>\n",
              "      <td>0.6926</td>\n",
              "      <td>0.3496</td>\n",
              "      <td>0.6861</td>\n",
              "      <td>0.4631</td>\n",
              "      <td>0.2087</td>\n",
              "      <td>0.2378</td>\n",
              "      <td>0.387</td>\n",
              "    </tr>\n",
              "    <tr>\n",
              "      <th>dt</th>\n",
              "      <td>Decision Tree Classifier</td>\n",
              "      <td>0.6090</td>\n",
              "      <td>0.6084</td>\n",
              "      <td>0.5972</td>\n",
              "      <td>0.5882</td>\n",
              "      <td>0.5926</td>\n",
              "      <td>0.2168</td>\n",
              "      <td>0.2168</td>\n",
              "      <td>0.372</td>\n",
              "    </tr>\n",
              "    <tr>\n",
              "      <th>svm</th>\n",
              "      <td>SVM - Linear Kernel</td>\n",
              "      <td>0.5910</td>\n",
              "      <td>0.0000</td>\n",
              "      <td>0.4305</td>\n",
              "      <td>0.6601</td>\n",
              "      <td>0.4469</td>\n",
              "      <td>0.1688</td>\n",
              "      <td>0.2132</td>\n",
              "      <td>0.079</td>\n",
              "    </tr>\n",
              "    <tr>\n",
              "      <th>nb</th>\n",
              "      <td>Naive Bayes</td>\n",
              "      <td>0.5755</td>\n",
              "      <td>0.6837</td>\n",
              "      <td>0.8676</td>\n",
              "      <td>0.5334</td>\n",
              "      <td>0.6606</td>\n",
              "      <td>0.1726</td>\n",
              "      <td>0.2123</td>\n",
              "      <td>0.039</td>\n",
              "    </tr>\n",
              "    <tr>\n",
              "      <th>qda</th>\n",
              "      <td>Quadratic Discriminant Analysis</td>\n",
              "      <td>0.5751</td>\n",
              "      <td>0.6831</td>\n",
              "      <td>0.8679</td>\n",
              "      <td>0.5331</td>\n",
              "      <td>0.6605</td>\n",
              "      <td>0.1718</td>\n",
              "      <td>0.2116</td>\n",
              "      <td>0.053</td>\n",
              "    </tr>\n",
              "  </tbody>\n",
              "</table>\n",
              "</div>"
            ],
            "text/plain": [
              "                                    Model  Accuracy     AUC  Recall   Prec.  \\\n",
              "lightgbm  Light Gradient Boosting Machine    0.6957  0.7666  0.6538  0.6908   \n",
              "rf               Random Forest Classifier    0.6899  0.7586  0.6339  0.6898   \n",
              "gbc          Gradient Boosting Classifier    0.6866  0.7571  0.6288  0.6868   \n",
              "et                 Extra Trees Classifier    0.6858  0.7542  0.6305  0.6851   \n",
              "ada                  Ada Boost Classifier    0.6702  0.7378  0.6323  0.6609   \n",
              "knn                K Neighbors Classifier    0.6443  0.6926  0.6136  0.6300   \n",
              "ridge                    Ridge Classifier    0.6229  0.0000  0.3858  0.6850   \n",
              "lda          Linear Discriminant Analysis    0.6204  0.7011  0.3719  0.6879   \n",
              "lr                    Logistic Regression    0.6140  0.6926  0.3496  0.6861   \n",
              "dt               Decision Tree Classifier    0.6090  0.6084  0.5972  0.5882   \n",
              "svm                   SVM - Linear Kernel    0.5910  0.0000  0.4305  0.6601   \n",
              "nb                            Naive Bayes    0.5755  0.6837  0.8676  0.5334   \n",
              "qda       Quadratic Discriminant Analysis    0.5751  0.6831  0.8679  0.5331   \n",
              "\n",
              "              F1   Kappa     MCC  TT (Sec)  \n",
              "lightgbm  0.6717  0.3885  0.3891     0.585  \n",
              "rf        0.6606  0.3760  0.3772     5.232  \n",
              "gbc       0.6564  0.3693  0.3706     6.972  \n",
              "et        0.6566  0.3680  0.3691     2.683  \n",
              "ada       0.6462  0.3376  0.3380     1.561  \n",
              "knn       0.6216  0.2861  0.2862     1.839  \n",
              "ridge     0.4935  0.2288  0.2529     0.037  \n",
              "lda       0.4826  0.2230  0.2494     0.088  \n",
              "lr        0.4631  0.2087  0.2378     0.387  \n",
              "dt        0.5926  0.2168  0.2168     0.372  \n",
              "svm       0.4469  0.1688  0.2132     0.079  \n",
              "nb        0.6606  0.1726  0.2123     0.039  \n",
              "qda       0.6605  0.1718  0.2116     0.053  "
            ]
          },
          "metadata": {}
        }
      ]
    },
    {
      "cell_type": "markdown",
      "metadata": {
        "id": "KdlEObSbwamJ"
      },
      "source": [
        "Looks like Light Gradient Boosting Machine or LGBM performs the best"
      ]
    },
    {
      "cell_type": "markdown",
      "metadata": {
        "id": "pJgub5hMufEr"
      },
      "source": [
        "Custom function to display detailed confusion matrices"
      ]
    },
    {
      "cell_type": "code",
      "metadata": {
        "id": "kz_KOaxD-qUk"
      },
      "source": [
        "def make_confusion_matrix(cf,\n",
        "                          group_names=None,\n",
        "                          categories='auto',\n",
        "                          count=True,\n",
        "                          percent=True,\n",
        "                          cbar=True,\n",
        "                          xyticks=True,\n",
        "                          xyplotlabels=True,\n",
        "                          sum_stats=True,\n",
        "                          figsize=None,\n",
        "                          cmap='Blues',\n",
        "                          title=None):\n",
        "    '''\n",
        "    This function will make a pretty plot of an sklearn Confusion Matrix cm using a Seaborn heatmap visualization.\n",
        "    Arguments\n",
        "    ---------\n",
        "    cf:            confusion matrix to be passed in\n",
        "    group_names:   List of strings that represent the labels row by row to be shown in each square.\n",
        "    categories:    List of strings containing the categories to be displayed on the x,y axis. Default is 'auto'\n",
        "    count:         If True, show the raw number in the confusion matrix. Default is True.\n",
        "    normalize:     If True, show the proportions for each category. Default is True.\n",
        "    cbar:          If True, show the color bar. The cbar values are based off the values in the confusion matrix.\n",
        "                   Default is True.\n",
        "    xyticks:       If True, show x and y ticks. Default is True.\n",
        "    xyplotlabels:  If True, show 'True Label' and 'Predicted Label' on the figure. Default is True.\n",
        "    sum_stats:     If True, display summary statistics below the figure. Default is True.\n",
        "    figsize:       Tuple representing the figure size. Default will be the matplotlib rcParams value.\n",
        "    cmap:          Colormap of the values displayed from matplotlib.pyplot.cm. Default is 'Blues'\n",
        "                   See http://matplotlib.org/examples/color/colormaps_reference.html\n",
        "                   \n",
        "    title:         Title for the heatmap. Default is None.\n",
        "    '''\n",
        "\n",
        "\n",
        "    # CODE TO GENERATE TEXT INSIDE EACH SQUARE\n",
        "    blanks = ['' for i in range(cf.size)]\n",
        "\n",
        "    if group_names and len(group_names)==cf.size:\n",
        "        group_labels = [\"{}\\n\".format(value) for value in group_names]\n",
        "    else:\n",
        "        group_labels = blanks\n",
        "\n",
        "    if count:\n",
        "        group_counts = [\"{0:0.0f}\\n\".format(value) for value in cf.flatten()]\n",
        "    else:\n",
        "        group_counts = blanks\n",
        "\n",
        "    if percent:\n",
        "        group_percentages = [\"{0:.2%}\".format(value) for value in cf.flatten()/np.sum(cf)]\n",
        "    else:\n",
        "        group_percentages = blanks\n",
        "\n",
        "    box_labels = [f\"{v1}{v2}{v3}\".strip() for v1, v2, v3 in zip(group_labels,group_counts,group_percentages)]\n",
        "    box_labels = np.asarray(box_labels).reshape(cf.shape[0],cf.shape[1])\n",
        "\n",
        "\n",
        "    # CODE TO GENERATE SUMMARY STATISTICS & TEXT FOR SUMMARY STATS\n",
        "    if sum_stats:\n",
        "        #Accuracy is sum of diagonal divided by total observations\n",
        "        accuracy  = np.trace(cf) / float(np.sum(cf))\n",
        "\n",
        "        #if it is a binary confusion matrix, show some more stats\n",
        "        if len(cf)==2:\n",
        "            #Metrics for Binary Confusion Matrices\n",
        "            precision = cf[1,1] / sum(cf[:,1])\n",
        "            recall    = cf[1,1] / sum(cf[1,:])\n",
        "            f1_score  = 2*precision*recall / (precision + recall)\n",
        "            stats_text = \"\\n\\nAccuracy={:0.3f}\\nPrecision={:0.3f}\\nRecall={:0.3f}\\nF1 Score={:0.3f}\".format(\n",
        "                accuracy,precision,recall,f1_score)\n",
        "        else:\n",
        "            stats_text = \"\\n\\nAccuracy={:0.3f}\".format(accuracy)\n",
        "    else:\n",
        "        stats_text = \"\"\n",
        "\n",
        "\n",
        "    # SET FIGURE PARAMETERS ACCORDING TO OTHER ARGUMENTS\n",
        "    if figsize==None:\n",
        "        #Get default figure size if not set\n",
        "        figsize = plt.rcParams.get('figure.figsize')\n",
        "\n",
        "    if xyticks==False:\n",
        "        #Do not show categories if xyticks is False\n",
        "        categories=False\n",
        "\n",
        "\n",
        "    # MAKE THE HEATMAP VISUALIZATION\n",
        "    plt.figure(figsize=figsize)\n",
        "    sns.heatmap(cf,annot=box_labels,fmt=\"\",cmap=cmap,cbar=cbar,xticklabels=categories,yticklabels=categories)\n",
        "\n",
        "    if xyplotlabels:\n",
        "        plt.ylabel('True label')\n",
        "        plt.xlabel('Predicted label' + stats_text)\n",
        "    else:\n",
        "        plt.xlabel(stats_text)\n",
        "    \n",
        "    if title:\n",
        "        plt.title(title)"
      ],
      "execution_count": null,
      "outputs": []
    },
    {
      "cell_type": "markdown",
      "metadata": {
        "id": "qPSRO-DrumPF"
      },
      "source": [
        "Custom function to run different ML models in one go and compare results"
      ]
    },
    {
      "cell_type": "code",
      "metadata": {
        "id": "b_0uVwlhj9HS"
      },
      "source": [
        "def run_exps(X_train: pd.DataFrame , y_train: pd.DataFrame, X_test: pd.DataFrame, y_test: pd.DataFrame) -> pd.DataFrame:\n",
        "  '''\n",
        "  Lightweight script to test many models and find winners\n",
        "  :param X_train: training split\n",
        "  :param y_train: training target vector\n",
        "  :param X_test: test split\n",
        "  :param y_test: test target vector\n",
        "  :return: DataFrame of predictions\n",
        "  '''\n",
        "  dfs = []\n",
        "  models = [\n",
        "            ('LogReg', LogisticRegression()), \n",
        "            ('RF', RandomForestClassifier()),\n",
        "            #('KNN', KNeighborsClassifier()),\n",
        "            #('SVM', SVC()), \n",
        "            #('GNB', GaussianNB()),\n",
        "            #('XGB', XGBClassifier()),\n",
        "            ('LGBM', LGBMClassifier()),\n",
        "            ('GBC', GradientBoostingClassifier()),\n",
        "            #('ADA', AdaBoostClassifier()),\n",
        "            ('ETC', ExtraTreesClassifier())\n",
        "          ]\n",
        "  results = []\n",
        "  names = []\n",
        "  scoring = ['accuracy', 'precision_weighted', 'recall_weighted', 'f1_weighted', 'roc_auc']\n",
        "  target_names = ['normal', 'sarcastic']\n",
        "  for name, model in models:\n",
        "    kfold = model_selection.KFold(n_splits=5, shuffle=True, random_state=90210)\n",
        "    cv_results = model_selection.cross_validate(model, X_train, y_train, cv=kfold, scoring=scoring, return_train_score =True)\n",
        "    clf = model.fit(X_train, y_train)\n",
        "    y_pred = clf.predict(X_test)\n",
        "    cnf_matrix = confusion_matrix(y_test, y_pred)\n",
        "    print(name)\n",
        "    print(cnf_matrix)\n",
        "    print(classification_report(y_test, y_pred, target_names=target_names))\n",
        "    \n",
        "    labels = ['True Neg','False Pos','False Neg','True Pos']\n",
        "    categories = ['Zero', 'One']\n",
        "    make_confusion_matrix(cnf_matrix, group_names=labels, categories=categories, title = name)\n",
        "    print(\"\\n\")\n",
        "\n",
        "    results.append(cv_results)\n",
        "    names.append(name)\n",
        "\n",
        "    this_df = pd.DataFrame(cv_results)\n",
        "    this_df['model'] = name\n",
        "    dfs.append(this_df)\n",
        "  \n",
        "  final = pd.concat(dfs, ignore_index=True)\n",
        "\n",
        "  return final"
      ],
      "execution_count": null,
      "outputs": []
    },
    {
      "cell_type": "markdown",
      "metadata": {
        "id": "VL_rmMabwi4z"
      },
      "source": [
        "### Running all models using NMF reduced datasets"
      ]
    },
    {
      "cell_type": "code",
      "metadata": {
        "id": "ZC-CQcpYj9YX",
        "colab": {
          "base_uri": "https://localhost:8080/",
          "height": 1000
        },
        "outputId": "b23e7a8e-e3fd-45a5-afa6-e3da4dd1043a"
      },
      "source": [
        "final_df = run_exps(X_train_reduced, y_train, X_test_reduced, y_test)"
      ],
      "execution_count": null,
      "outputs": [
        {
          "output_type": "stream",
          "name": "stdout",
          "text": [
            "LogReg\n",
            "[[3242  566]\n",
            " [2079 1268]]\n",
            "              precision    recall  f1-score   support\n",
            "\n",
            "      normal       0.61      0.85      0.71      3808\n",
            "   sarcastic       0.69      0.38      0.49      3347\n",
            "\n",
            "    accuracy                           0.63      7155\n",
            "   macro avg       0.65      0.62      0.60      7155\n",
            "weighted avg       0.65      0.63      0.61      7155\n",
            "\n",
            "\n",
            "\n",
            "RF\n",
            "[[2825  983]\n",
            " [1208 2139]]\n",
            "              precision    recall  f1-score   support\n",
            "\n",
            "      normal       0.70      0.74      0.72      3808\n",
            "   sarcastic       0.69      0.64      0.66      3347\n",
            "\n",
            "    accuracy                           0.69      7155\n",
            "   macro avg       0.69      0.69      0.69      7155\n",
            "weighted avg       0.69      0.69      0.69      7155\n",
            "\n",
            "\n",
            "\n",
            "LGBM\n",
            "[[2798 1010]\n",
            " [1153 2194]]\n",
            "              precision    recall  f1-score   support\n",
            "\n",
            "      normal       0.71      0.73      0.72      3808\n",
            "   sarcastic       0.68      0.66      0.67      3347\n",
            "\n",
            "    accuracy                           0.70      7155\n",
            "   macro avg       0.70      0.70      0.70      7155\n",
            "weighted avg       0.70      0.70      0.70      7155\n",
            "\n",
            "\n",
            "\n",
            "GBC\n",
            "[[2784 1024]\n",
            " [1174 2173]]\n",
            "              precision    recall  f1-score   support\n",
            "\n",
            "      normal       0.70      0.73      0.72      3808\n",
            "   sarcastic       0.68      0.65      0.66      3347\n",
            "\n",
            "    accuracy                           0.69      7155\n",
            "   macro avg       0.69      0.69      0.69      7155\n",
            "weighted avg       0.69      0.69      0.69      7155\n",
            "\n",
            "\n",
            "\n",
            "ETC\n",
            "[[2823  985]\n",
            " [1199 2148]]\n",
            "              precision    recall  f1-score   support\n",
            "\n",
            "      normal       0.70      0.74      0.72      3808\n",
            "   sarcastic       0.69      0.64      0.66      3347\n",
            "\n",
            "    accuracy                           0.69      7155\n",
            "   macro avg       0.69      0.69      0.69      7155\n",
            "weighted avg       0.69      0.69      0.69      7155\n",
            "\n",
            "\n",
            "\n"
          ]
        },
        {
          "output_type": "display_data",
          "data": {
            "image/png": "[encoded data removed]",
            "text/plain": [
              "<Figure size 432x288 with 2 Axes>"
            ]
          },
          "metadata": {
            "needs_background": "light"
          }
        },
        {
          "output_type": "display_data",
          "data": {
            "image/png": "[encoded data removed]",
            "text/plain": [
              "<Figure size 432x288 with 2 Axes>"
            ]
          },
          "metadata": {
            "needs_background": "light"
          }
        },
        {
          "output_type": "display_data",
          "data": {
            "image/png": "[encoded data removed]",
            "text/plain": [
              "<Figure size 432x288 with 2 Axes>"
            ]
          },
          "metadata": {
            "needs_background": "light"
          }
        },
        {
          "output_type": "display_data",
          "data": {
            "image/png": "[encoded data removed]",
            "text/plain": [
              "<Figure size 432x288 with 2 Axes>"
            ]
          },
          "metadata": {
            "needs_background": "light"
          }
        },
        {
          "output_type": "display_data",
          "data": {
            "image/png": "[encoded data removed]",
            "text/plain": [
              "<Figure size 432x288 with 2 Axes>"
            ]
          },
          "metadata": {
            "needs_background": "light"
          }
        }
      ]
    },
    {
      "cell_type": "markdown",
      "metadata": {
        "id": "xoWL_U6yvF0X"
      },
      "source": [
        "Looks like LGBM performs the best on the reduced datasets with an F1 score of **0.67**"
      ]
    },
    {
      "cell_type": "markdown",
      "metadata": {
        "id": "fo74FhKcu888"
      },
      "source": [
        "Defining custom pipeline to perform a grid search to find best parameters for LGBM model"
      ]
    },
    {
      "cell_type": "code",
      "metadata": {
        "id": "xJk1jmv1j9z8"
      },
      "source": [
        "# Build our pipeline\n",
        "pipeline = Pipeline([\n",
        "    ('vectoriser', TfidfVectorizer()),\n",
        "    ('decomposer', NMF(n_components=20)),\n",
        "    ('classifier', #LogisticRegression(penalty = \"l1\", solver = 'saga'),\n",
        "     LGBMClassifier(n_estimators = 100, max_depth = 3)),\n",
        "     #RandomForestClassifier(n_estimators = 200, max_depth = 3, n_jobs = 4)\n",
        "     #),\n",
        "])\n",
        "\n",
        "# Define our parameter grid\n",
        "params = {\n",
        "    \"vectoriser\": [TfidfVectorizer()],\n",
        "    \"vectoriser__max_features\" : [5000],\n",
        "    \"decomposer__n_components\" : [10, 20, 25],\n",
        "    \"classifier__n_estimators\" : [100, 200, 300],\n",
        "    \"classifier__max_depth\" : [3,4,5] ,\n",
        "}\n",
        "\n",
        "gridsearch = GridSearchCV(pipeline, params)"
      ],
      "execution_count": null,
      "outputs": []
    },
    {
      "cell_type": "code",
      "metadata": {
        "colab": {
          "base_uri": "https://localhost:8080/"
        },
        "id": "VjxG6kTAj-OS",
        "outputId": "b2d35a1e-3967-4594-8388-73ab32ce459f"
      },
      "source": [
        "gridsearch.fit(X_train, y_train)"
      ],
      "execution_count": null,
      "outputs": [
        {
          "output_type": "execute_result",
          "data": {
            "text/plain": [
              "GridSearchCV(cv=None, error_score=nan,\n",
              "             estimator=Pipeline(memory=None,\n",
              "                                steps=[('vectoriser',\n",
              "                                        TfidfVectorizer(analyzer='word',\n",
              "                                                        binary=False,\n",
              "                                                        decode_error='strict',\n",
              "                                                        dtype=<class 'numpy.float64'>,\n",
              "                                                        encoding='utf-8',\n",
              "                                                        input='content',\n",
              "                                                        lowercase=True,\n",
              "                                                        max_df=1.0,\n",
              "                                                        max_features=None,\n",
              "                                                        min_df=1,\n",
              "                                                        ngram_range=(1, 1),\n",
              "                                                        norm='l2',\n",
              "                                                        preprocessor=None,\n",
              "                                                        smooth_idf=True,\n",
              "                                                        stop_words=None,\n",
              "                                                        s...\n",
              "                                                        max_df=1.0,\n",
              "                                                        max_features=5000,\n",
              "                                                        min_df=1,\n",
              "                                                        ngram_range=(1, 1),\n",
              "                                                        norm='l2',\n",
              "                                                        preprocessor=None,\n",
              "                                                        smooth_idf=True,\n",
              "                                                        stop_words=None,\n",
              "                                                        strip_accents=None,\n",
              "                                                        sublinear_tf=False,\n",
              "                                                        token_pattern='(?u)\\\\b\\\\w\\\\w+\\\\b',\n",
              "                                                        tokenizer=None,\n",
              "                                                        use_idf=True,\n",
              "                                                        vocabulary=None)],\n",
              "                         'vectoriser__max_features': [5000]},\n",
              "             pre_dispatch='2*n_jobs', refit=True, return_train_score=False,\n",
              "             scoring=None, verbose=0)"
            ]
          },
          "metadata": {},
          "execution_count": 43
        }
      ]
    },
    {
      "cell_type": "markdown",
      "metadata": {
        "id": "lNExz9nNwzjo"
      },
      "source": [
        "### After grid search using the LGBM model, the best accuracy found was 0.763"
      ]
    },
    {
      "cell_type": "code",
      "metadata": {
        "colab": {
          "base_uri": "https://localhost:8080/"
        },
        "id": "0szcdgKrx4-r",
        "outputId": "0aba7588-e60a-4ebb-b2ed-725d42a7a4bb"
      },
      "source": [
        "gridsearch.best_score_"
      ],
      "execution_count": null,
      "outputs": [
        {
          "output_type": "execute_result",
          "data": {
            "text/plain": [
              "0.7630915452429223"
            ]
          },
          "metadata": {},
          "execution_count": 34
        }
      ]
    },
    {
      "cell_type": "code",
      "metadata": {
        "colab": {
          "base_uri": "https://localhost:8080/"
        },
        "id": "MvxWAyk4FD_O",
        "outputId": "cd8c1324-41ea-4071-b090-a9725686ad71"
      },
      "source": [
        "gridsearch.cv_results_"
      ],
      "execution_count": null,
      "outputs": [
        {
          "output_type": "execute_result",
          "data": {
            "text/plain": [
              "{'mean_fit_time': array([3.55637245, 3.93389969, 8.58552752, 3.52774014, 3.93955441,\n",
              "        7.93978248, 3.6839057 , 3.80588751, 6.64989753, 3.58306007,\n",
              "        3.59984374, 8.01427345, 3.77312202, 4.9354528 , 7.36260953,\n",
              "        3.90268936, 4.86375484, 7.58627334, 3.46912098, 5.89221792,\n",
              "        7.45064898, 3.90488067, 4.29146194, 7.96254096, 4.08712234,\n",
              "        4.57862625, 7.07678947]),\n",
              " 'mean_score_time': array([0.09123106, 0.11117778, 0.11625981, 0.12716541, 0.13236313,\n",
              "        0.1321878 , 0.12539787, 0.13752556, 0.15798659, 0.09764853,\n",
              "        0.11305814, 0.11781225, 0.10793076, 0.12520061, 0.13264198,\n",
              "        0.13114872, 0.15283875, 0.162886  , 0.09845929, 0.11186533,\n",
              "        0.11479373, 0.12459826, 0.13906894, 0.16095929, 0.15246363,\n",
              "        0.15228081, 0.17337489]),\n",
              " 'mean_test_score': array([0.73155043, 0.75037255, 0.75493864, 0.73634938, 0.75451932,\n",
              "        0.75871207, 0.73644262, 0.75512478, 0.76108819, 0.73574352,\n",
              "        0.75391333, 0.75670864, 0.73825958, 0.75810668, 0.76206669,\n",
              "        0.73811931, 0.75750096, 0.7607155 , 0.73648868, 0.75279515,\n",
              "        0.758526  , 0.73970372, 0.75768725, 0.76118144, 0.73634895,\n",
              "        0.75782684, 0.76309155]),\n",
              " 'param_classifier__max_depth': masked_array(data=[3, 3, 3, 3, 3, 3, 3, 3, 3, 4, 4, 4, 4, 4, 4, 4, 4, 4,\n",
              "                    5, 5, 5, 5, 5, 5, 5, 5, 5],\n",
              "              mask=[False, False, False, False, False, False, False, False,\n",
              "                    False, False, False, False, False, False, False, False,\n",
              "                    False, False, False, False, False, False, False, False,\n",
              "                    False, False, False],\n",
              "        fill_value='?',\n",
              "             dtype=object),\n",
              " 'param_classifier__n_estimators': masked_array(data=[100, 100, 100, 200, 200, 200, 300, 300, 300, 100, 100,\n",
              "                    100, 200, 200, 200, 300, 300, 300, 100, 100, 100, 200,\n",
              "                    200, 200, 300, 300, 300],\n",
              "              mask=[False, False, False, False, False, False, False, False,\n",
              "                    False, False, False, False, False, False, False, False,\n",
              "                    False, False, False, False, False, False, False, False,\n",
              "                    False, False, False],\n",
              "        fill_value='?',\n",
              "             dtype=object),\n",
              " 'param_decomposer__n_components': masked_array(data=[10, 20, 25, 10, 20, 25, 10, 20, 25, 10, 20, 25, 10, 20,\n",
              "                    25, 10, 20, 25, 10, 20, 25, 10, 20, 25, 10, 20, 25],\n",
              "              mask=[False, False, False, False, False, False, False, False,\n",
              "                    False, False, False, False, False, False, False, False,\n",
              "                    False, False, False, False, False, False, False, False,\n",
              "                    False, False, False],\n",
              "        fill_value='?',\n",
              "             dtype=object),\n",
              " 'param_vectoriser': masked_array(data=[TfidfVectorizer(analyzer='word', binary=False, decode_error='strict',\n",
              "                 dtype=<class 'numpy.float64'>, encoding='utf-8',\n",
              "                 input='content', lowercase=True, max_df=1.0, max_features=5000,\n",
              "                 min_df=1, ngram_range=(1, 1), norm='l2', preprocessor=None,\n",
              "                 smooth_idf=True, stop_words=None, strip_accents=None,\n",
              "                 sublinear_tf=False, token_pattern='(?u)\\\\b\\\\w\\\\w+\\\\b',\n",
              "                 tokenizer=None, use_idf=True, vocabulary=None),\n",
              "                    TfidfVectorizer(analyzer='word', binary=False, decode_error='strict',\n",
              "                 dtype=<class 'numpy.float64'>, encoding='utf-8',\n",
              "                 input='content', lowercase=True, max_df=1.0, max_features=5000,\n",
              "                 min_df=1, ngram_range=(1, 1), norm='l2', preprocessor=None,\n",
              "                 smooth_idf=True, stop_words=None, strip_accents=None,\n",
              "                 sublinear_tf=False, token_pattern='(?u)\\\\b\\\\w\\\\w+\\\\b',\n",
              "                 tokenizer=None, use_idf=True, vocabulary=None),\n",
              "                    TfidfVectorizer(analyzer='word', binary=False, decode_error='strict',\n",
              "                 dtype=<class 'numpy.float64'>, encoding='utf-8',\n",
              "                 input='content', lowercase=True, max_df=1.0, max_features=5000,\n",
              "                 min_df=1, ngram_range=(1, 1), norm='l2', preprocessor=None,\n",
              "                 smooth_idf=True, stop_words=None, strip_accents=None,\n",
              "                 sublinear_tf=False, token_pattern='(?u)\\\\b\\\\w\\\\w+\\\\b',\n",
              "                 tokenizer=None, use_idf=True, vocabulary=None),\n",
              "                    TfidfVectorizer(analyzer='word', binary=False, decode_error='strict',\n",
              "                 dtype=<class 'numpy.float64'>, encoding='utf-8',\n",
              "                 input='content', lowercase=True, max_df=1.0, max_features=5000,\n",
              "                 min_df=1, ngram_range=(1, 1), norm='l2', preprocessor=None,\n",
              "                 smooth_idf=True, stop_words=None, strip_accents=None,\n",
              "                 sublinear_tf=False, token_pattern='(?u)\\\\b\\\\w\\\\w+\\\\b',\n",
              "                 tokenizer=None, use_idf=True, vocabulary=None),\n",
              "                    TfidfVectorizer(analyzer='word', binary=False, decode_error='strict',\n",
              "                 dtype=<class 'numpy.float64'>, encoding='utf-8',\n",
              "                 input='content', lowercase=True, max_df=1.0, max_features=5000,\n",
              "                 min_df=1, ngram_range=(1, 1), norm='l2', preprocessor=None,\n",
              "                 smooth_idf=True, stop_words=None, strip_accents=None,\n",
              "                 sublinear_tf=False, token_pattern='(?u)\\\\b\\\\w\\\\w+\\\\b',\n",
              "                 tokenizer=None, use_idf=True, vocabulary=None),\n",
              "                    TfidfVectorizer(analyzer='word', binary=False, decode_error='strict',\n",
              "                 dtype=<class 'numpy.float64'>, encoding='utf-8',\n",
              "                 input='content', lowercase=True, max_df=1.0, max_features=5000,\n",
              "                 min_df=1, ngram_range=(1, 1), norm='l2', preprocessor=None,\n",
              "                 smooth_idf=True, stop_words=None, strip_accents=None,\n",
              "                 sublinear_tf=False, token_pattern='(?u)\\\\b\\\\w\\\\w+\\\\b',\n",
              "                 tokenizer=None, use_idf=True, vocabulary=None),\n",
              "                    TfidfVectorizer(analyzer='word', binary=False, decode_error='strict',\n",
              "                 dtype=<class 'numpy.float64'>, encoding='utf-8',\n",
              "                 input='content', lowercase=True, max_df=1.0, max_features=5000,\n",
              "                 min_df=1, ngram_range=(1, 1), norm='l2', preprocessor=None,\n",
              "                 smooth_idf=True, stop_words=None, strip_accents=None,\n",
              "                 sublinear_tf=False, token_pattern='(?u)\\\\b\\\\w\\\\w+\\\\b',\n",
              "                 tokenizer=None, use_idf=True, vocabulary=None),\n",
              "                    TfidfVectorizer(analyzer='word', binary=False, decode_error='strict',\n",
              "                 dtype=<class 'numpy.float64'>, encoding='utf-8',\n",
              "                 input='content', lowercase=True, max_df=1.0, max_features=5000,\n",
              "                 min_df=1, ngram_range=(1, 1), norm='l2', preprocessor=None,\n",
              "                 smooth_idf=True, stop_words=None, strip_accents=None,\n",
              "                 sublinear_tf=False, token_pattern='(?u)\\\\b\\\\w\\\\w+\\\\b',\n",
              "                 tokenizer=None, use_idf=True, vocabulary=None),\n",
              "                    TfidfVectorizer(analyzer='word', binary=False, decode_error='strict',\n",
              "                 dtype=<class 'numpy.float64'>, encoding='utf-8',\n",
              "                 input='content', lowercase=True, max_df=1.0, max_features=5000,\n",
              "                 min_df=1, ngram_range=(1, 1), norm='l2', preprocessor=None,\n",
              "                 smooth_idf=True, stop_words=None, strip_accents=None,\n",
              "                 sublinear_tf=False, token_pattern='(?u)\\\\b\\\\w\\\\w+\\\\b',\n",
              "                 tokenizer=None, use_idf=True, vocabulary=None),\n",
              "                    TfidfVectorizer(analyzer='word', binary=False, decode_error='strict',\n",
              "                 dtype=<class 'numpy.float64'>, encoding='utf-8',\n",
              "                 input='content', lowercase=True, max_df=1.0, max_features=5000,\n",
              "                 min_df=1, ngram_range=(1, 1), norm='l2', preprocessor=None,\n",
              "                 smooth_idf=True, stop_words=None, strip_accents=None,\n",
              "                 sublinear_tf=False, token_pattern='(?u)\\\\b\\\\w\\\\w+\\\\b',\n",
              "                 tokenizer=None, use_idf=True, vocabulary=None),\n",
              "                    TfidfVectorizer(analyzer='word', binary=False, decode_error='strict',\n",
              "                 dtype=<class 'numpy.float64'>, encoding='utf-8',\n",
              "                 input='content', lowercase=True, max_df=1.0, max_features=5000,\n",
              "                 min_df=1, ngram_range=(1, 1), norm='l2', preprocessor=None,\n",
              "                 smooth_idf=True, stop_words=None, strip_accents=None,\n",
              "                 sublinear_tf=False, token_pattern='(?u)\\\\b\\\\w\\\\w+\\\\b',\n",
              "                 tokenizer=None, use_idf=True, vocabulary=None),\n",
              "                    TfidfVectorizer(analyzer='word', binary=False, decode_error='strict',\n",
              "                 dtype=<class 'numpy.float64'>, encoding='utf-8',\n",
              "                 input='content', lowercase=True, max_df=1.0, max_features=5000,\n",
              "                 min_df=1, ngram_range=(1, 1), norm='l2', preprocessor=None,\n",
              "                 smooth_idf=True, stop_words=None, strip_accents=None,\n",
              "                 sublinear_tf=False, token_pattern='(?u)\\\\b\\\\w\\\\w+\\\\b',\n",
              "                 tokenizer=None, use_idf=True, vocabulary=None),\n",
              "                    TfidfVectorizer(analyzer='word', binary=False, decode_error='strict',\n",
              "                 dtype=<class 'numpy.float64'>, encoding='utf-8',\n",
              "                 input='content', lowercase=True, max_df=1.0, max_features=5000,\n",
              "                 min_df=1, ngram_range=(1, 1), norm='l2', preprocessor=None,\n",
              "                 smooth_idf=True, stop_words=None, strip_accents=None,\n",
              "                 sublinear_tf=False, token_pattern='(?u)\\\\b\\\\w\\\\w+\\\\b',\n",
              "                 tokenizer=None, use_idf=True, vocabulary=None),\n",
              "                    TfidfVectorizer(analyzer='word', binary=False, decode_error='strict',\n",
              "                 dtype=<class 'numpy.float64'>, encoding='utf-8',\n",
              "                 input='content', lowercase=True, max_df=1.0, max_features=5000,\n",
              "                 min_df=1, ngram_range=(1, 1), norm='l2', preprocessor=None,\n",
              "                 smooth_idf=True, stop_words=None, strip_accents=None,\n",
              "                 sublinear_tf=False, token_pattern='(?u)\\\\b\\\\w\\\\w+\\\\b',\n",
              "                 tokenizer=None, use_idf=True, vocabulary=None),\n",
              "                    TfidfVectorizer(analyzer='word', binary=False, decode_error='strict',\n",
              "                 dtype=<class 'numpy.float64'>, encoding='utf-8',\n",
              "                 input='content', lowercase=True, max_df=1.0, max_features=5000,\n",
              "                 min_df=1, ngram_range=(1, 1), norm='l2', preprocessor=None,\n",
              "                 smooth_idf=True, stop_words=None, strip_accents=None,\n",
              "                 sublinear_tf=False, token_pattern='(?u)\\\\b\\\\w\\\\w+\\\\b',\n",
              "                 tokenizer=None, use_idf=True, vocabulary=None),\n",
              "                    TfidfVectorizer(analyzer='word', binary=False, decode_error='strict',\n",
              "                 dtype=<class 'numpy.float64'>, encoding='utf-8',\n",
              "                 input='content', lowercase=True, max_df=1.0, max_features=5000,\n",
              "                 min_df=1, ngram_range=(1, 1), norm='l2', preprocessor=None,\n",
              "                 smooth_idf=True, stop_words=None, strip_accents=None,\n",
              "                 sublinear_tf=False, token_pattern='(?u)\\\\b\\\\w\\\\w+\\\\b',\n",
              "                 tokenizer=None, use_idf=True, vocabulary=None),\n",
              "                    TfidfVectorizer(analyzer='word', binary=False, decode_error='strict',\n",
              "                 dtype=<class 'numpy.float64'>, encoding='utf-8',\n",
              "                 input='content', lowercase=True, max_df=1.0, max_features=5000,\n",
              "                 min_df=1, ngram_range=(1, 1), norm='l2', preprocessor=None,\n",
              "                 smooth_idf=True, stop_words=None, strip_accents=None,\n",
              "                 sublinear_tf=False, token_pattern='(?u)\\\\b\\\\w\\\\w+\\\\b',\n",
              "                 tokenizer=None, use_idf=True, vocabulary=None),\n",
              "                    TfidfVectorizer(analyzer='word', binary=False, decode_error='strict',\n",
              "                 dtype=<class 'numpy.float64'>, encoding='utf-8',\n",
              "                 input='content', lowercase=True, max_df=1.0, max_features=5000,\n",
              "                 min_df=1, ngram_range=(1, 1), norm='l2', preprocessor=None,\n",
              "                 smooth_idf=True, stop_words=None, strip_accents=None,\n",
              "                 sublinear_tf=False, token_pattern='(?u)\\\\b\\\\w\\\\w+\\\\b',\n",
              "                 tokenizer=None, use_idf=True, vocabulary=None),\n",
              "                    TfidfVectorizer(analyzer='word', binary=False, decode_error='strict',\n",
              "                 dtype=<class 'numpy.float64'>, encoding='utf-8',\n",
              "                 input='content', lowercase=True, max_df=1.0, max_features=5000,\n",
              "                 min_df=1, ngram_range=(1, 1), norm='l2', preprocessor=None,\n",
              "                 smooth_idf=True, stop_words=None, strip_accents=None,\n",
              "                 sublinear_tf=False, token_pattern='(?u)\\\\b\\\\w\\\\w+\\\\b',\n",
              "                 tokenizer=None, use_idf=True, vocabulary=None),\n",
              "                    TfidfVectorizer(analyzer='word', binary=False, decode_error='strict',\n",
              "                 dtype=<class 'numpy.float64'>, encoding='utf-8',\n",
              "                 input='content', lowercase=True, max_df=1.0, max_features=5000,\n",
              "                 min_df=1, ngram_range=(1, 1), norm='l2', preprocessor=None,\n",
              "                 smooth_idf=True, stop_words=None, strip_accents=None,\n",
              "                 sublinear_tf=False, token_pattern='(?u)\\\\b\\\\w\\\\w+\\\\b',\n",
              "                 tokenizer=None, use_idf=True, vocabulary=None),\n",
              "                    TfidfVectorizer(analyzer='word', binary=False, decode_error='strict',\n",
              "                 dtype=<class 'numpy.float64'>, encoding='utf-8',\n",
              "                 input='content', lowercase=True, max_df=1.0, max_features=5000,\n",
              "                 min_df=1, ngram_range=(1, 1), norm='l2', preprocessor=None,\n",
              "                 smooth_idf=True, stop_words=None, strip_accents=None,\n",
              "                 sublinear_tf=False, token_pattern='(?u)\\\\b\\\\w\\\\w+\\\\b',\n",
              "                 tokenizer=None, use_idf=True, vocabulary=None),\n",
              "                    TfidfVectorizer(analyzer='word', binary=False, decode_error='strict',\n",
              "                 dtype=<class 'numpy.float64'>, encoding='utf-8',\n",
              "                 input='content', lowercase=True, max_df=1.0, max_features=5000,\n",
              "                 min_df=1, ngram_range=(1, 1), norm='l2', preprocessor=None,\n",
              "                 smooth_idf=True, stop_words=None, strip_accents=None,\n",
              "                 sublinear_tf=False, token_pattern='(?u)\\\\b\\\\w\\\\w+\\\\b',\n",
              "                 tokenizer=None, use_idf=True, vocabulary=None),\n",
              "                    TfidfVectorizer(analyzer='word', binary=False, decode_error='strict',\n",
              "                 dtype=<class 'numpy.float64'>, encoding='utf-8',\n",
              "                 input='content', lowercase=True, max_df=1.0, max_features=5000,\n",
              "                 min_df=1, ngram_range=(1, 1), norm='l2', preprocessor=None,\n",
              "                 smooth_idf=True, stop_words=None, strip_accents=None,\n",
              "                 sublinear_tf=False, token_pattern='(?u)\\\\b\\\\w\\\\w+\\\\b',\n",
              "                 tokenizer=None, use_idf=True, vocabulary=None),\n",
              "                    TfidfVectorizer(analyzer='word', binary=False, decode_error='strict',\n",
              "                 dtype=<class 'numpy.float64'>, encoding='utf-8',\n",
              "                 input='content', lowercase=True, max_df=1.0, max_features=5000,\n",
              "                 min_df=1, ngram_range=(1, 1), norm='l2', preprocessor=None,\n",
              "                 smooth_idf=True, stop_words=None, strip_accents=None,\n",
              "                 sublinear_tf=False, token_pattern='(?u)\\\\b\\\\w\\\\w+\\\\b',\n",
              "                 tokenizer=None, use_idf=True, vocabulary=None),\n",
              "                    TfidfVectorizer(analyzer='word', binary=False, decode_error='strict',\n",
              "                 dtype=<class 'numpy.float64'>, encoding='utf-8',\n",
              "                 input='content', lowercase=True, max_df=1.0, max_features=5000,\n",
              "                 min_df=1, ngram_range=(1, 1), norm='l2', preprocessor=None,\n",
              "                 smooth_idf=True, stop_words=None, strip_accents=None,\n",
              "                 sublinear_tf=False, token_pattern='(?u)\\\\b\\\\w\\\\w+\\\\b',\n",
              "                 tokenizer=None, use_idf=True, vocabulary=None),\n",
              "                    TfidfVectorizer(analyzer='word', binary=False, decode_error='strict',\n",
              "                 dtype=<class 'numpy.float64'>, encoding='utf-8',\n",
              "                 input='content', lowercase=True, max_df=1.0, max_features=5000,\n",
              "                 min_df=1, ngram_range=(1, 1), norm='l2', preprocessor=None,\n",
              "                 smooth_idf=True, stop_words=None, strip_accents=None,\n",
              "                 sublinear_tf=False, token_pattern='(?u)\\\\b\\\\w\\\\w+\\\\b',\n",
              "                 tokenizer=None, use_idf=True, vocabulary=None),\n",
              "                    TfidfVectorizer(analyzer='word', binary=False, decode_error='strict',\n",
              "                 dtype=<class 'numpy.float64'>, encoding='utf-8',\n",
              "                 input='content', lowercase=True, max_df=1.0, max_features=5000,\n",
              "                 min_df=1, ngram_range=(1, 1), norm='l2', preprocessor=None,\n",
              "                 smooth_idf=True, stop_words=None, strip_accents=None,\n",
              "                 sublinear_tf=False, token_pattern='(?u)\\\\b\\\\w\\\\w+\\\\b',\n",
              "                 tokenizer=None, use_idf=True, vocabulary=None)],\n",
              "              mask=[False, False, False, False, False, False, False, False,\n",
              "                    False, False, False, False, False, False, False, False,\n",
              "                    False, False, False, False, False, False, False, False,\n",
              "                    False, False, False],\n",
              "        fill_value='?',\n",
              "             dtype=object),\n",
              " 'param_vectoriser__max_features': masked_array(data=[5000, 5000, 5000, 5000, 5000, 5000, 5000, 5000, 5000,\n",
              "                    5000, 5000, 5000, 5000, 5000, 5000, 5000, 5000, 5000,\n",
              "                    5000, 5000, 5000, 5000, 5000, 5000, 5000, 5000, 5000],\n",
              "              mask=[False, False, False, False, False, False, False, False,\n",
              "                    False, False, False, False, False, False, False, False,\n",
              "                    False, False, False, False, False, False, False, False,\n",
              "                    False, False, False],\n",
              "        fill_value='?',\n",
              "             dtype=object),\n",
              " 'params': [{'classifier__max_depth': 3,\n",
              "   'classifier__n_estimators': 100,\n",
              "   'decomposer__n_components': 10,\n",
              "   'vectoriser': TfidfVectorizer(analyzer='word', binary=False, decode_error='strict',\n",
              "                   dtype=<class 'numpy.float64'>, encoding='utf-8',\n",
              "                   input='content', lowercase=True, max_df=1.0, max_features=5000,\n",
              "                   min_df=1, ngram_range=(1, 1), norm='l2', preprocessor=None,\n",
              "                   smooth_idf=True, stop_words=None, strip_accents=None,\n",
              "                   sublinear_tf=False, token_pattern='(?u)\\\\b\\\\w\\\\w+\\\\b',\n",
              "                   tokenizer=None, use_idf=True, vocabulary=None),\n",
              "   'vectoriser__max_features': 5000},\n",
              "  {'classifier__max_depth': 3,\n",
              "   'classifier__n_estimators': 100,\n",
              "   'decomposer__n_components': 20,\n",
              "   'vectoriser': TfidfVectorizer(analyzer='word', binary=False, decode_error='strict',\n",
              "                   dtype=<class 'numpy.float64'>, encoding='utf-8',\n",
              "                   input='content', lowercase=True, max_df=1.0, max_features=5000,\n",
              "                   min_df=1, ngram_range=(1, 1), norm='l2', preprocessor=None,\n",
              "                   smooth_idf=True, stop_words=None, strip_accents=None,\n",
              "                   sublinear_tf=False, token_pattern='(?u)\\\\b\\\\w\\\\w+\\\\b',\n",
              "                   tokenizer=None, use_idf=True, vocabulary=None),\n",
              "   'vectoriser__max_features': 5000},\n",
              "  {'classifier__max_depth': 3,\n",
              "   'classifier__n_estimators': 100,\n",
              "   'decomposer__n_components': 25,\n",
              "   'vectoriser': TfidfVectorizer(analyzer='word', binary=False, decode_error='strict',\n",
              "                   dtype=<class 'numpy.float64'>, encoding='utf-8',\n",
              "                   input='content', lowercase=True, max_df=1.0, max_features=5000,\n",
              "                   min_df=1, ngram_range=(1, 1), norm='l2', preprocessor=None,\n",
              "                   smooth_idf=True, stop_words=None, strip_accents=None,\n",
              "                   sublinear_tf=False, token_pattern='(?u)\\\\b\\\\w\\\\w+\\\\b',\n",
              "                   tokenizer=None, use_idf=True, vocabulary=None),\n",
              "   'vectoriser__max_features': 5000},\n",
              "  {'classifier__max_depth': 3,\n",
              "   'classifier__n_estimators': 200,\n",
              "   'decomposer__n_components': 10,\n",
              "   'vectoriser': TfidfVectorizer(analyzer='word', binary=False, decode_error='strict',\n",
              "                   dtype=<class 'numpy.float64'>, encoding='utf-8',\n",
              "                   input='content', lowercase=True, max_df=1.0, max_features=5000,\n",
              "                   min_df=1, ngram_range=(1, 1), norm='l2', preprocessor=None,\n",
              "                   smooth_idf=True, stop_words=None, strip_accents=None,\n",
              "                   sublinear_tf=False, token_pattern='(?u)\\\\b\\\\w\\\\w+\\\\b',\n",
              "                   tokenizer=None, use_idf=True, vocabulary=None),\n",
              "   'vectoriser__max_features': 5000},\n",
              "  {'classifier__max_depth': 3,\n",
              "   'classifier__n_estimators': 200,\n",
              "   'decomposer__n_components': 20,\n",
              "   'vectoriser': TfidfVectorizer(analyzer='word', binary=False, decode_error='strict',\n",
              "                   dtype=<class 'numpy.float64'>, encoding='utf-8',\n",
              "                   input='content', lowercase=True, max_df=1.0, max_features=5000,\n",
              "                   min_df=1, ngram_range=(1, 1), norm='l2', preprocessor=None,\n",
              "                   smooth_idf=True, stop_words=None, strip_accents=None,\n",
              "                   sublinear_tf=False, token_pattern='(?u)\\\\b\\\\w\\\\w+\\\\b',\n",
              "                   tokenizer=None, use_idf=True, vocabulary=None),\n",
              "   'vectoriser__max_features': 5000},\n",
              "  {'classifier__max_depth': 3,\n",
              "   'classifier__n_estimators': 200,\n",
              "   'decomposer__n_components': 25,\n",
              "   'vectoriser': TfidfVectorizer(analyzer='word', binary=False, decode_error='strict',\n",
              "                   dtype=<class 'numpy.float64'>, encoding='utf-8',\n",
              "                   input='content', lowercase=True, max_df=1.0, max_features=5000,\n",
              "                   min_df=1, ngram_range=(1, 1), norm='l2', preprocessor=None,\n",
              "                   smooth_idf=True, stop_words=None, strip_accents=None,\n",
              "                   sublinear_tf=False, token_pattern='(?u)\\\\b\\\\w\\\\w+\\\\b',\n",
              "                   tokenizer=None, use_idf=True, vocabulary=None),\n",
              "   'vectoriser__max_features': 5000},\n",
              "  {'classifier__max_depth': 3,\n",
              "   'classifier__n_estimators': 300,\n",
              "   'decomposer__n_components': 10,\n",
              "   'vectoriser': TfidfVectorizer(analyzer='word', binary=False, decode_error='strict',\n",
              "                   dtype=<class 'numpy.float64'>, encoding='utf-8',\n",
              "                   input='content', lowercase=True, max_df=1.0, max_features=5000,\n",
              "                   min_df=1, ngram_range=(1, 1), norm='l2', preprocessor=None,\n",
              "                   smooth_idf=True, stop_words=None, strip_accents=None,\n",
              "                   sublinear_tf=False, token_pattern='(?u)\\\\b\\\\w\\\\w+\\\\b',\n",
              "                   tokenizer=None, use_idf=True, vocabulary=None),\n",
              "   'vectoriser__max_features': 5000},\n",
              "  {'classifier__max_depth': 3,\n",
              "   'classifier__n_estimators': 300,\n",
              "   'decomposer__n_components': 20,\n",
              "   'vectoriser': TfidfVectorizer(analyzer='word', binary=False, decode_error='strict',\n",
              "                   dtype=<class 'numpy.float64'>, encoding='utf-8',\n",
              "                   input='content', lowercase=True, max_df=1.0, max_features=5000,\n",
              "                   min_df=1, ngram_range=(1, 1), norm='l2', preprocessor=None,\n",
              "                   smooth_idf=True, stop_words=None, strip_accents=None,\n",
              "                   sublinear_tf=False, token_pattern='(?u)\\\\b\\\\w\\\\w+\\\\b',\n",
              "                   tokenizer=None, use_idf=True, vocabulary=None),\n",
              "   'vectoriser__max_features': 5000},\n",
              "  {'classifier__max_depth': 3,\n",
              "   'classifier__n_estimators': 300,\n",
              "   'decomposer__n_components': 25,\n",
              "   'vectoriser': TfidfVectorizer(analyzer='word', binary=False, decode_error='strict',\n",
              "                   dtype=<class 'numpy.float64'>, encoding='utf-8',\n",
              "                   input='content', lowercase=True, max_df=1.0, max_features=5000,\n",
              "                   min_df=1, ngram_range=(1, 1), norm='l2', preprocessor=None,\n",
              "                   smooth_idf=True, stop_words=None, strip_accents=None,\n",
              "                   sublinear_tf=False, token_pattern='(?u)\\\\b\\\\w\\\\w+\\\\b',\n",
              "                   tokenizer=None, use_idf=True, vocabulary=None),\n",
              "   'vectoriser__max_features': 5000},\n",
              "  {'classifier__max_depth': 4,\n",
              "   'classifier__n_estimators': 100,\n",
              "   'decomposer__n_components': 10,\n",
              "   'vectoriser': TfidfVectorizer(analyzer='word', binary=False, decode_error='strict',\n",
              "                   dtype=<class 'numpy.float64'>, encoding='utf-8',\n",
              "                   input='content', lowercase=True, max_df=1.0, max_features=5000,\n",
              "                   min_df=1, ngram_range=(1, 1), norm='l2', preprocessor=None,\n",
              "                   smooth_idf=True, stop_words=None, strip_accents=None,\n",
              "                   sublinear_tf=False, token_pattern='(?u)\\\\b\\\\w\\\\w+\\\\b',\n",
              "                   tokenizer=None, use_idf=True, vocabulary=None),\n",
              "   'vectoriser__max_features': 5000},\n",
              "  {'classifier__max_depth': 4,\n",
              "   'classifier__n_estimators': 100,\n",
              "   'decomposer__n_components': 20,\n",
              "   'vectoriser': TfidfVectorizer(analyzer='word', binary=False, decode_error='strict',\n",
              "                   dtype=<class 'numpy.float64'>, encoding='utf-8',\n",
              "                   input='content', lowercase=True, max_df=1.0, max_features=5000,\n",
              "                   min_df=1, ngram_range=(1, 1), norm='l2', preprocessor=None,\n",
              "                   smooth_idf=True, stop_words=None, strip_accents=None,\n",
              "                   sublinear_tf=False, token_pattern='(?u)\\\\b\\\\w\\\\w+\\\\b',\n",
              "                   tokenizer=None, use_idf=True, vocabulary=None),\n",
              "   'vectoriser__max_features': 5000},\n",
              "  {'classifier__max_depth': 4,\n",
              "   'classifier__n_estimators': 100,\n",
              "   'decomposer__n_components': 25,\n",
              "   'vectoriser': TfidfVectorizer(analyzer='word', binary=False, decode_error='strict',\n",
              "                   dtype=<class 'numpy.float64'>, encoding='utf-8',\n",
              "                   input='content', lowercase=True, max_df=1.0, max_features=5000,\n",
              "                   min_df=1, ngram_range=(1, 1), norm='l2', preprocessor=None,\n",
              "                   smooth_idf=True, stop_words=None, strip_accents=None,\n",
              "                   sublinear_tf=False, token_pattern='(?u)\\\\b\\\\w\\\\w+\\\\b',\n",
              "                   tokenizer=None, use_idf=True, vocabulary=None),\n",
              "   'vectoriser__max_features': 5000},\n",
              "  {'classifier__max_depth': 4,\n",
              "   'classifier__n_estimators': 200,\n",
              "   'decomposer__n_components': 10,\n",
              "   'vectoriser': TfidfVectorizer(analyzer='word', binary=False, decode_error='strict',\n",
              "                   dtype=<class 'numpy.float64'>, encoding='utf-8',\n",
              "                   input='content', lowercase=True, max_df=1.0, max_features=5000,\n",
              "                   min_df=1, ngram_range=(1, 1), norm='l2', preprocessor=None,\n",
              "                   smooth_idf=True, stop_words=None, strip_accents=None,\n",
              "                   sublinear_tf=False, token_pattern='(?u)\\\\b\\\\w\\\\w+\\\\b',\n",
              "                   tokenizer=None, use_idf=True, vocabulary=None),\n",
              "   'vectoriser__max_features': 5000},\n",
              "  {'classifier__max_depth': 4,\n",
              "   'classifier__n_estimators': 200,\n",
              "   'decomposer__n_components': 20,\n",
              "   'vectoriser': TfidfVectorizer(analyzer='word', binary=False, decode_error='strict',\n",
              "                   dtype=<class 'numpy.float64'>, encoding='utf-8',\n",
              "                   input='content', lowercase=True, max_df=1.0, max_features=5000,\n",
              "                   min_df=1, ngram_range=(1, 1), norm='l2', preprocessor=None,\n",
              "                   smooth_idf=True, stop_words=None, strip_accents=None,\n",
              "                   sublinear_tf=False, token_pattern='(?u)\\\\b\\\\w\\\\w+\\\\b',\n",
              "                   tokenizer=None, use_idf=True, vocabulary=None),\n",
              "   'vectoriser__max_features': 5000},\n",
              "  {'classifier__max_depth': 4,\n",
              "   'classifier__n_estimators': 200,\n",
              "   'decomposer__n_components': 25,\n",
              "   'vectoriser': TfidfVectorizer(analyzer='word', binary=False, decode_error='strict',\n",
              "                   dtype=<class 'numpy.float64'>, encoding='utf-8',\n",
              "                   input='content', lowercase=True, max_df=1.0, max_features=5000,\n",
              "                   min_df=1, ngram_range=(1, 1), norm='l2', preprocessor=None,\n",
              "                   smooth_idf=True, stop_words=None, strip_accents=None,\n",
              "                   sublinear_tf=False, token_pattern='(?u)\\\\b\\\\w\\\\w+\\\\b',\n",
              "                   tokenizer=None, use_idf=True, vocabulary=None),\n",
              "   'vectoriser__max_features': 5000},\n",
              "  {'classifier__max_depth': 4,\n",
              "   'classifier__n_estimators': 300,\n",
              "   'decomposer__n_components': 10,\n",
              "   'vectoriser': TfidfVectorizer(analyzer='word', binary=False, decode_error='strict',\n",
              "                   dtype=<class 'numpy.float64'>, encoding='utf-8',\n",
              "                   input='content', lowercase=True, max_df=1.0, max_features=5000,\n",
              "                   min_df=1, ngram_range=(1, 1), norm='l2', preprocessor=None,\n",
              "                   smooth_idf=True, stop_words=None, strip_accents=None,\n",
              "                   sublinear_tf=False, token_pattern='(?u)\\\\b\\\\w\\\\w+\\\\b',\n",
              "                   tokenizer=None, use_idf=True, vocabulary=None),\n",
              "   'vectoriser__max_features': 5000},\n",
              "  {'classifier__max_depth': 4,\n",
              "   'classifier__n_estimators': 300,\n",
              "   'decomposer__n_components': 20,\n",
              "   'vectoriser': TfidfVectorizer(analyzer='word', binary=False, decode_error='strict',\n",
              "                   dtype=<class 'numpy.float64'>, encoding='utf-8',\n",
              "                   input='content', lowercase=True, max_df=1.0, max_features=5000,\n",
              "                   min_df=1, ngram_range=(1, 1), norm='l2', preprocessor=None,\n",
              "                   smooth_idf=True, stop_words=None, strip_accents=None,\n",
              "                   sublinear_tf=False, token_pattern='(?u)\\\\b\\\\w\\\\w+\\\\b',\n",
              "                   tokenizer=None, use_idf=True, vocabulary=None),\n",
              "   'vectoriser__max_features': 5000},\n",
              "  {'classifier__max_depth': 4,\n",
              "   'classifier__n_estimators': 300,\n",
              "   'decomposer__n_components': 25,\n",
              "   'vectoriser': TfidfVectorizer(analyzer='word', binary=False, decode_error='strict',\n",
              "                   dtype=<class 'numpy.float64'>, encoding='utf-8',\n",
              "                   input='content', lowercase=True, max_df=1.0, max_features=5000,\n",
              "                   min_df=1, ngram_range=(1, 1), norm='l2', preprocessor=None,\n",
              "                   smooth_idf=True, stop_words=None, strip_accents=None,\n",
              "                   sublinear_tf=False, token_pattern='(?u)\\\\b\\\\w\\\\w+\\\\b',\n",
              "                   tokenizer=None, use_idf=True, vocabulary=None),\n",
              "   'vectoriser__max_features': 5000},\n",
              "  {'classifier__max_depth': 5,\n",
              "   'classifier__n_estimators': 100,\n",
              "   'decomposer__n_components': 10,\n",
              "   'vectoriser': TfidfVectorizer(analyzer='word', binary=False, decode_error='strict',\n",
              "                   dtype=<class 'numpy.float64'>, encoding='utf-8',\n",
              "                   input='content', lowercase=True, max_df=1.0, max_features=5000,\n",
              "                   min_df=1, ngram_range=(1, 1), norm='l2', preprocessor=None,\n",
              "                   smooth_idf=True, stop_words=None, strip_accents=None,\n",
              "                   sublinear_tf=False, token_pattern='(?u)\\\\b\\\\w\\\\w+\\\\b',\n",
              "                   tokenizer=None, use_idf=True, vocabulary=None),\n",
              "   'vectoriser__max_features': 5000},\n",
              "  {'classifier__max_depth': 5,\n",
              "   'classifier__n_estimators': 100,\n",
              "   'decomposer__n_components': 20,\n",
              "   'vectoriser': TfidfVectorizer(analyzer='word', binary=False, decode_error='strict',\n",
              "                   dtype=<class 'numpy.float64'>, encoding='utf-8',\n",
              "                   input='content', lowercase=True, max_df=1.0, max_features=5000,\n",
              "                   min_df=1, ngram_range=(1, 1), norm='l2', preprocessor=None,\n",
              "                   smooth_idf=True, stop_words=None, strip_accents=None,\n",
              "                   sublinear_tf=False, token_pattern='(?u)\\\\b\\\\w\\\\w+\\\\b',\n",
              "                   tokenizer=None, use_idf=True, vocabulary=None),\n",
              "   'vectoriser__max_features': 5000},\n",
              "  {'classifier__max_depth': 5,\n",
              "   'classifier__n_estimators': 100,\n",
              "   'decomposer__n_components': 25,\n",
              "   'vectoriser': TfidfVectorizer(analyzer='word', binary=False, decode_error='strict',\n",
              "                   dtype=<class 'numpy.float64'>, encoding='utf-8',\n",
              "                   input='content', lowercase=True, max_df=1.0, max_features=5000,\n",
              "                   min_df=1, ngram_range=(1, 1), norm='l2', preprocessor=None,\n",
              "                   smooth_idf=True, stop_words=None, strip_accents=None,\n",
              "                   sublinear_tf=False, token_pattern='(?u)\\\\b\\\\w\\\\w+\\\\b',\n",
              "                   tokenizer=None, use_idf=True, vocabulary=None),\n",
              "   'vectoriser__max_features': 5000},\n",
              "  {'classifier__max_depth': 5,\n",
              "   'classifier__n_estimators': 200,\n",
              "   'decomposer__n_components': 10,\n",
              "   'vectoriser': TfidfVectorizer(analyzer='word', binary=False, decode_error='strict',\n",
              "                   dtype=<class 'numpy.float64'>, encoding='utf-8',\n",
              "                   input='content', lowercase=True, max_df=1.0, max_features=5000,\n",
              "                   min_df=1, ngram_range=(1, 1), norm='l2', preprocessor=None,\n",
              "                   smooth_idf=True, stop_words=None, strip_accents=None,\n",
              "                   sublinear_tf=False, token_pattern='(?u)\\\\b\\\\w\\\\w+\\\\b',\n",
              "                   tokenizer=None, use_idf=True, vocabulary=None),\n",
              "   'vectoriser__max_features': 5000},\n",
              "  {'classifier__max_depth': 5,\n",
              "   'classifier__n_estimators': 200,\n",
              "   'decomposer__n_components': 20,\n",
              "   'vectoriser': TfidfVectorizer(analyzer='word', binary=False, decode_error='strict',\n",
              "                   dtype=<class 'numpy.float64'>, encoding='utf-8',\n",
              "                   input='content', lowercase=True, max_df=1.0, max_features=5000,\n",
              "                   min_df=1, ngram_range=(1, 1), norm='l2', preprocessor=None,\n",
              "                   smooth_idf=True, stop_words=None, strip_accents=None,\n",
              "                   sublinear_tf=False, token_pattern='(?u)\\\\b\\\\w\\\\w+\\\\b',\n",
              "                   tokenizer=None, use_idf=True, vocabulary=None),\n",
              "   'vectoriser__max_features': 5000},\n",
              "  {'classifier__max_depth': 5,\n",
              "   'classifier__n_estimators': 200,\n",
              "   'decomposer__n_components': 25,\n",
              "   'vectoriser': TfidfVectorizer(analyzer='word', binary=False, decode_error='strict',\n",
              "                   dtype=<class 'numpy.float64'>, encoding='utf-8',\n",
              "                   input='content', lowercase=True, max_df=1.0, max_features=5000,\n",
              "                   min_df=1, ngram_range=(1, 1), norm='l2', preprocessor=None,\n",
              "                   smooth_idf=True, stop_words=None, strip_accents=None,\n",
              "                   sublinear_tf=False, token_pattern='(?u)\\\\b\\\\w\\\\w+\\\\b',\n",
              "                   tokenizer=None, use_idf=True, vocabulary=None),\n",
              "   'vectoriser__max_features': 5000},\n",
              "  {'classifier__max_depth': 5,\n",
              "   'classifier__n_estimators': 300,\n",
              "   'decomposer__n_components': 10,\n",
              "   'vectoriser': TfidfVectorizer(analyzer='word', binary=False, decode_error='strict',\n",
              "                   dtype=<class 'numpy.float64'>, encoding='utf-8',\n",
              "                   input='content', lowercase=True, max_df=1.0, max_features=5000,\n",
              "                   min_df=1, ngram_range=(1, 1), norm='l2', preprocessor=None,\n",
              "                   smooth_idf=True, stop_words=None, strip_accents=None,\n",
              "                   sublinear_tf=False, token_pattern='(?u)\\\\b\\\\w\\\\w+\\\\b',\n",
              "                   tokenizer=None, use_idf=True, vocabulary=None),\n",
              "   'vectoriser__max_features': 5000},\n",
              "  {'classifier__max_depth': 5,\n",
              "   'classifier__n_estimators': 300,\n",
              "   'decomposer__n_components': 20,\n",
              "   'vectoriser': TfidfVectorizer(analyzer='word', binary=False, decode_error='strict',\n",
              "                   dtype=<class 'numpy.float64'>, encoding='utf-8',\n",
              "                   input='content', lowercase=True, max_df=1.0, max_features=5000,\n",
              "                   min_df=1, ngram_range=(1, 1), norm='l2', preprocessor=None,\n",
              "                   smooth_idf=True, stop_words=None, strip_accents=None,\n",
              "                   sublinear_tf=False, token_pattern='(?u)\\\\b\\\\w\\\\w+\\\\b',\n",
              "                   tokenizer=None, use_idf=True, vocabulary=None),\n",
              "   'vectoriser__max_features': 5000},\n",
              "  {'classifier__max_depth': 5,\n",
              "   'classifier__n_estimators': 300,\n",
              "   'decomposer__n_components': 25,\n",
              "   'vectoriser': TfidfVectorizer(analyzer='word', binary=False, decode_error='strict',\n",
              "                   dtype=<class 'numpy.float64'>, encoding='utf-8',\n",
              "                   input='content', lowercase=True, max_df=1.0, max_features=5000,\n",
              "                   min_df=1, ngram_range=(1, 1), norm='l2', preprocessor=None,\n",
              "                   smooth_idf=True, stop_words=None, strip_accents=None,\n",
              "                   sublinear_tf=False, token_pattern='(?u)\\\\b\\\\w\\\\w+\\\\b',\n",
              "                   tokenizer=None, use_idf=True, vocabulary=None),\n",
              "   'vectoriser__max_features': 5000}],\n",
              " 'rank_test_score': array([27, 18, 14, 24, 15,  6, 23, 13,  4, 26, 16, 12, 20,  8,  2, 21, 11,\n",
              "         5, 22, 17,  7, 19, 10,  3, 25,  9,  1], dtype=int32),\n",
              " 'split0_test_score': array([0.73841137, 0.75285348, 0.75098998, 0.73794549, 0.75727929,\n",
              "        0.75844398, 0.73654787, 0.76077335, 0.76077335, 0.74283718,\n",
              "        0.75867692, 0.75890985, 0.74120662, 0.76450035, 0.75867692,\n",
              "        0.74376893, 0.76240391, 0.75588167, 0.74307011, 0.75448404,\n",
              "        0.75448404, 0.74307011, 0.76263685, 0.75401817, 0.74190543,\n",
              "        0.76217098, 0.75727929]),\n",
              " 'split1_test_score': array([0.732355  , 0.75355229, 0.75471698, 0.73584906, 0.75401817,\n",
              "        0.75681342, 0.73771256, 0.75821104, 0.76077335, 0.73631493,\n",
              "        0.75378523, 0.75774517, 0.73724668, 0.75821104, 0.76380154,\n",
              "        0.73934312, 0.75681342, 0.7654321 , 0.7386443 , 0.75751223,\n",
              "        0.76123923, 0.73957605, 0.75937573, 0.7635686 , 0.73911018,\n",
              "        0.75821104, 0.76519916]),\n",
              " 'split2_test_score': array([0.73142325, 0.75145586, 0.75774517, 0.73654787, 0.75215467,\n",
              "        0.76519916, 0.73561612, 0.75285348, 0.76799441, 0.73631493,\n",
              "        0.76030748, 0.75937573, 0.73561612, 0.75774517, 0.76496622,\n",
              "        0.73631493, 0.75704635, 0.7654321 , 0.73538318, 0.75634754,\n",
              "        0.76193804, 0.7386443 , 0.7579781 , 0.77195434, 0.73188912,\n",
              "        0.76007454, 0.76985791]),\n",
              " 'split3_test_score': array([0.72559981, 0.74726299, 0.75331936, 0.73188912, 0.75192173,\n",
              "        0.75844398, 0.73142325, 0.75029117, 0.7579781 , 0.728628  ,\n",
              "        0.74726299, 0.75658048, 0.73538318, 0.75029117, 0.76147216,\n",
              "        0.74027487, 0.75308642, 0.75867692, 0.73584906, 0.74772886,\n",
              "        0.75448404, 0.73678081, 0.7516888 , 0.75681342, 0.7386443 ,\n",
              "        0.75564873, 0.76310273]),\n",
              " 'split4_test_score': array([0.72996272, 0.74673812, 0.75792171, 0.73951538, 0.75722274,\n",
              "        0.75465983, 0.74091333, 0.75349487, 0.75792171, 0.73462255,\n",
              "        0.74953402, 0.75093197, 0.74184529, 0.75978565, 0.76141659,\n",
              "        0.73089469, 0.75815471, 0.75815471, 0.72949674, 0.74790308,\n",
              "        0.76048462, 0.74044734, 0.75675676, 0.75955266, 0.73019571,\n",
              "        0.75302889, 0.76001864]),\n",
              " 'std_fit_time': array([0.50573454, 1.15250717, 2.95180776, 0.49108276, 0.29846299,\n",
              "        2.88446203, 0.44094299, 0.49426607, 2.01209929, 0.48574424,\n",
              "        0.44104734, 2.75061511, 0.45085793, 1.29082102, 2.3773291 ,\n",
              "        0.5034132 , 2.34079311, 2.13905934, 0.53035472, 2.25034756,\n",
              "        2.68890206, 0.65086842, 0.58009007, 2.69335662, 0.43981049,\n",
              "        0.87949771, 1.79334012]),\n",
              " 'std_score_time': array([0.01330642, 0.01101157, 0.01339373, 0.00741776, 0.01801857,\n",
              "        0.01035803, 0.01552981, 0.00534438, 0.01128873, 0.01333797,\n",
              "        0.01699387, 0.01221558, 0.00134189, 0.01220014, 0.00298304,\n",
              "        0.01025798, 0.00669798, 0.0045566 , 0.01091517, 0.01297806,\n",
              "        0.00132817, 0.01474221, 0.01533505, 0.01042863, 0.01436936,\n",
              "        0.01187776, 0.02014061]),\n",
              " 'std_test_score': array([0.00413924, 0.00283964, 0.0026472 , 0.00255948, 0.00234589,\n",
              "        0.0035285 , 0.00308183, 0.00381079, 0.00367677, 0.00453564,\n",
              "        0.00503982, 0.00304695, 0.00275063, 0.00458087, 0.0021764 ,\n",
              "        0.00432466, 0.00298777, 0.00396414, 0.00443803, 0.00417905,\n",
              "        0.00333211, 0.0020769 , 0.00358556, 0.00624178, 0.00450599,\n",
              "        0.00321981, 0.00432321])}"
            ]
          },
          "metadata": {},
          "execution_count": 36
        }
      ]
    },
    {
      "cell_type": "code",
      "metadata": {
        "id": "dU6EH3AO3PL4",
        "colab": {
          "base_uri": "https://localhost:8080/"
        },
        "outputId": "9e55270f-6670-48d6-bfd4-bd4de15e6d2d"
      },
      "source": [
        "gridsearch.best_estimator_"
      ],
      "execution_count": null,
      "outputs": [
        {
          "output_type": "execute_result",
          "data": {
            "text/plain": [
              "Pipeline(memory=None,\n",
              "         steps=[('vectoriser',\n",
              "                 TfidfVectorizer(analyzer='word', binary=False,\n",
              "                                 decode_error='strict',\n",
              "                                 dtype=<class 'numpy.float64'>,\n",
              "                                 encoding='utf-8', input='content',\n",
              "                                 lowercase=True, max_df=1.0, max_features=5000,\n",
              "                                 min_df=1, ngram_range=(1, 1), norm='l2',\n",
              "                                 preprocessor=None, smooth_idf=True,\n",
              "                                 stop_words=None, strip_accents=None,\n",
              "                                 sublinear_tf=False,\n",
              "                                 token_patt...\n",
              "                 LGBMClassifier(boosting_type='gbdt', class_weight=None,\n",
              "                                colsample_bytree=1.0, importance_type='split',\n",
              "                                learning_rate=0.1, max_depth=5,\n",
              "                                min_child_samples=20, min_child_weight=0.001,\n",
              "                                min_split_gain=0.0, n_estimators=300, n_jobs=-1,\n",
              "                                num_leaves=31, objective=None,\n",
              "                                random_state=None, reg_alpha=0.0,\n",
              "                                reg_lambda=0.0, silent=True, subsample=1.0,\n",
              "                                subsample_for_bin=200000, subsample_freq=0))],\n",
              "         verbose=False)"
            ]
          },
          "metadata": {},
          "execution_count": 38
        }
      ]
    },
    {
      "cell_type": "code",
      "metadata": {
        "colab": {
          "base_uri": "https://localhost:8080/"
        },
        "id": "Xgw0XT0wFlB6",
        "outputId": "b8b0046b-c631-4797-e8e5-ecfe42ad48c5"
      },
      "source": [
        "gridsearch.predict(X_test)"
      ],
      "execution_count": null,
      "outputs": [
        {
          "output_type": "execute_result",
          "data": {
            "text/plain": [
              "array([1, 0, 1, ..., 0, 0, 0])"
            ]
          },
          "metadata": {},
          "execution_count": 42
        }
      ]
    },
    {
      "cell_type": "markdown",
      "metadata": {
        "id": "gz5_lmKFxj82"
      },
      "source": [
        "### **Precision**: How accurate is the classifier i.e. how many of the predicted positivies are actually true positives\n",
        "### **Recall**: How much of the actual true positives did the classifier catch i.e. of all the true positives how many did the classifier catch"
      ]
    },
    {
      "cell_type": "markdown",
      "metadata": {
        "id": "rFBiPnMLxqqm"
      },
      "source": [
        "### Trying out Simple logistic regression with full, unreduced dataset"
      ]
    },
    {
      "cell_type": "code",
      "metadata": {
        "id": "nGcYJ8U7t-CA"
      },
      "source": [
        "# instantiate the model (using the default parameters)\n",
        "logreg = LogisticRegression()\n",
        "\n",
        "# fit the model with data\n",
        "logreg.fit(X_train,y_train)\n",
        "\n",
        "# \n",
        "y_pred=logreg.predict(X_test)\n",
        "\n",
        "\n",
        "cnf_matrix = metrics.confusion_matrix(y_test, y_pred)"
      ],
      "execution_count": null,
      "outputs": []
    },
    {
      "cell_type": "code",
      "metadata": {
        "colab": {
          "base_uri": "https://localhost:8080/"
        },
        "id": "7ioPypmc1T07",
        "outputId": "6c5ef703-7001-430d-dd14-5bed4c8ee57a"
      },
      "source": [
        "cnf_matrix"
      ],
      "execution_count": null,
      "outputs": [
        {
          "output_type": "execute_result",
          "data": {
            "text/plain": [
              "array([[3006,  802],\n",
              "       [ 985, 2362]])"
            ]
          },
          "metadata": {
            "tags": []
          },
          "execution_count": 30
        }
      ]
    },
    {
      "cell_type": "code",
      "metadata": {
        "colab": {
          "base_uri": "https://localhost:8080/",
          "height": 341
        },
        "id": "_d4WXbJB07uI",
        "outputId": "e63587e1-b748-483d-dc7a-297434abdbb5"
      },
      "source": [
        "labels = ['True Neg','False Pos','False Neg','True Pos']\n",
        "categories = ['Zero', 'One']\n",
        "make_confusion_matrix(cnf_matrix, \n",
        "                      group_names=labels,\n",
        "                      categories=categories)"
      ],
      "execution_count": null,
      "outputs": [
        {
          "output_type": "display_data",
          "data": {
            "image/png": "[encoded data removed]",
            "text/plain": [
              "<Figure size 432x288 with 2 Axes>"
            ]
          },
          "metadata": {
            "tags": [],
            "needs_background": "light"
          }
        }
      ]
    },
    {
      "cell_type": "markdown",
      "metadata": {
        "id": "2gItEO_Yxz7s"
      },
      "source": [
        "Best accuracy using plain logistic regression and the unreduced dataset was found to be 0.75, precision was 0.747 and F1-score was 0.726"
      ]
    },
    {
      "cell_type": "markdown",
      "metadata": {
        "id": "8xYPDZNFyIBe"
      },
      "source": [
        "Now we shall test out all the models once again using the full dataset to see the difference NMF reduction causes"
      ]
    },
    {
      "cell_type": "code",
      "metadata": {
        "id": "OS88SVz5H6j8"
      },
      "source": [
        "\n",
        "def run_exps(X_train: pd.DataFrame , y_train: pd.DataFrame, X_test: pd.DataFrame, y_test: pd.DataFrame) -> pd.DataFrame:\n",
        "  '''\n",
        "  Lightweight script to test many models and find winners\n",
        "  :param X_train: training split\n",
        "  :param y_train: training target vector\n",
        "  :param X_test: test split\n",
        "  :param y_test: test target vector\n",
        "  :return: DataFrame of predictions\n",
        "  '''\n",
        "  dfs = []\n",
        "  models = [\n",
        "            ('LogReg', LogisticRegression()), \n",
        "            ('RF', RandomForestClassifier()),\n",
        "            ('KNN', KNeighborsClassifier()),\n",
        "            ('SVM', SVC()), \n",
        "            #('GNB', GaussianNB()),\n",
        "            ('XGB', XGBClassifier()),\n",
        "            ('LGBM', LGBMClassifier()),\n",
        "            ('GBC', GradientBoostingClassifier()),\n",
        "            ('ADA', AdaBoostClassifier()),\n",
        "            ('ETC', ExtraTreesClassifier())\n",
        "          ]\n",
        "  results = []\n",
        "  names = []\n",
        "  scoring = ['accuracy', 'precision_weighted', 'recall_weighted', 'f1_weighted', 'roc_auc']\n",
        "  target_names = ['normal', 'sarcastic']\n",
        "  for name, model in models:\n",
        "    kfold = model_selection.KFold(n_splits=5, shuffle=True, random_state=90210)\n",
        "    cv_results = model_selection.cross_validate(model, X_train, y_train, cv=kfold, scoring=scoring, return_train_score =True)\n",
        "    clf = model.fit(X_train, y_train)\n",
        "    y_pred = clf.predict(X_test)\n",
        "    print(name)\n",
        "    print(classification_report(y_test, y_pred, target_names=target_names))\n",
        "    results.append(cv_results)\n",
        "    names.append(name)\n",
        "\n",
        "    this_df = pd.DataFrame(cv_results)\n",
        "    this_df['model'] = name\n",
        "    dfs.append(this_df)\n",
        "  \n",
        "  final = pd.concat(dfs, ignore_index=True)\n",
        "\n",
        "  return final"
      ],
      "execution_count": null,
      "outputs": []
    },
    {
      "cell_type": "code",
      "metadata": {
        "colab": {
          "base_uri": "https://localhost:8080/"
        },
        "id": "bGA1v5iGH6yj",
        "outputId": "84ff6500-c795-4009-da94-9dd38d29d74e"
      },
      "source": [
        "final_df = run_exps(X_train , y_train, X_test, y_test)"
      ],
      "execution_count": null,
      "outputs": [
        {
          "output_type": "stream",
          "text": [
            "LogReg\n",
            "              precision    recall  f1-score   support\n",
            "\n",
            "      normal       0.75      0.79      0.77      3808\n",
            "   sarcastic       0.75      0.71      0.73      3347\n",
            "\n",
            "    accuracy                           0.75      7155\n",
            "   macro avg       0.75      0.75      0.75      7155\n",
            "weighted avg       0.75      0.75      0.75      7155\n",
            "\n",
            "RF\n",
            "              precision    recall  f1-score   support\n",
            "\n",
            "      normal       0.74      0.77      0.76      3808\n",
            "   sarcastic       0.73      0.70      0.71      3347\n",
            "\n",
            "    accuracy                           0.74      7155\n",
            "   macro avg       0.74      0.73      0.73      7155\n",
            "weighted avg       0.74      0.74      0.74      7155\n",
            "\n",
            "KNN\n",
            "              precision    recall  f1-score   support\n",
            "\n",
            "      normal       0.63      0.74      0.68      3808\n",
            "   sarcastic       0.63      0.50      0.55      3347\n",
            "\n",
            "    accuracy                           0.63      7155\n",
            "   macro avg       0.63      0.62      0.62      7155\n",
            "weighted avg       0.63      0.63      0.62      7155\n",
            "\n",
            "SVM\n",
            "              precision    recall  f1-score   support\n",
            "\n",
            "      normal       0.75      0.80      0.78      3808\n",
            "   sarcastic       0.76      0.69      0.73      3347\n",
            "\n",
            "    accuracy                           0.75      7155\n",
            "   macro avg       0.75      0.75      0.75      7155\n",
            "weighted avg       0.75      0.75      0.75      7155\n",
            "\n",
            "XGB\n",
            "              precision    recall  f1-score   support\n",
            "\n",
            "      normal       0.64      0.91      0.75      3808\n",
            "   sarcastic       0.80      0.43      0.56      3347\n",
            "\n",
            "    accuracy                           0.68      7155\n",
            "   macro avg       0.72      0.67      0.66      7155\n",
            "weighted avg       0.72      0.68      0.66      7155\n",
            "\n",
            "LGBM\n",
            "              precision    recall  f1-score   support\n",
            "\n",
            "      normal       0.72      0.83      0.77      3808\n",
            "   sarcastic       0.77      0.63      0.69      3347\n",
            "\n",
            "    accuracy                           0.74      7155\n",
            "   macro avg       0.74      0.73      0.73      7155\n",
            "weighted avg       0.74      0.74      0.73      7155\n",
            "\n",
            "GBC\n",
            "              precision    recall  f1-score   support\n",
            "\n",
            "      normal       0.64      0.93      0.76      3808\n",
            "   sarcastic       0.84      0.40      0.54      3347\n",
            "\n",
            "    accuracy                           0.68      7155\n",
            "   macro avg       0.74      0.67      0.65      7155\n",
            "weighted avg       0.73      0.68      0.66      7155\n",
            "\n",
            "ADA\n",
            "              precision    recall  f1-score   support\n",
            "\n",
            "      normal       0.64      0.88      0.74      3808\n",
            "   sarcastic       0.77      0.44      0.55      3347\n",
            "\n",
            "    accuracy                           0.67      7155\n",
            "   macro avg       0.70      0.66      0.65      7155\n",
            "weighted avg       0.70      0.67      0.65      7155\n",
            "\n",
            "ETC\n",
            "              precision    recall  f1-score   support\n",
            "\n",
            "      normal       0.74      0.77      0.75      3808\n",
            "   sarcastic       0.72      0.70      0.71      3347\n",
            "\n",
            "    accuracy                           0.74      7155\n",
            "   macro avg       0.73      0.73      0.73      7155\n",
            "weighted avg       0.73      0.74      0.73      7155\n",
            "\n"
          ],
          "name": "stdout"
        }
      ]
    },
    {
      "cell_type": "markdown",
      "metadata": {
        "id": "wi56b4CIuDfJ"
      },
      "source": [
        "Overall, looks like the performance increases by a few percentage points across all metrics when we use the un-reduced dataset as expected.\n",
        "\n",
        "While the **maximum F1-score achievable with the reduced dataset was 0.72, with the un-reduced dataset it rises to 0.78**; which is a considerable increase.\n",
        "\n",
        "Another point to note is that the **sarcastic class has lower recall metrics across the board, regardless of model used**. For example for Logistic Regression using the full dataset, \"normal\" category has 0.79 recall whereas \"sarcastic\" category has only 0.71 as the recall. \n",
        "\n",
        "This may be due to the complex and sometimes inconsistent nature of sarcasm used, which would indeed be hard for the more simpler ML models to decipher.\n",
        "\n",
        "Overall, we seem to hit an **upper ceiling of 0.78 F1-score** with around **0.75 precision and recall with traditional ML models**."
      ]
    },
    {
      "cell_type": "markdown",
      "metadata": {
        "id": "KiDy9vtm0vmr"
      },
      "source": [
        "### To continue exploring the best ML model for this task, we move towards Deep Learning methods such as neural networks using Keras and using Transformers from the Huggingface library in the subsequent DL notebook."
      ]
    },
    {
      "cell_type": "markdown",
      "metadata": {
        "id": "bK_d_I7Mt3DC"
      },
      "source": [
        "****END****"
      ]
    }
  ]
}